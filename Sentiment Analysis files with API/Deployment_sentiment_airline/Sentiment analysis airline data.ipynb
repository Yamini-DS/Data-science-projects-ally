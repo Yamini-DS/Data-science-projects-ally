{
 "cells": [
  {
   "cell_type": "code",
   "execution_count": 1,
   "metadata": {},
   "outputs": [],
   "source": [
    "import numpy as np\n",
    "import pandas as pd\n",
    "import matplotlib.pyplot as plt\n",
    "import seaborn as sns\n",
    "import os"
   ]
  },
  {
   "cell_type": "code",
   "execution_count": 2,
   "metadata": {},
   "outputs": [],
   "source": [
    "from IPython.core.interactiveshell import InteractiveShell\n",
    "InteractiveShell.ast_node_interactivity=\"all\""
   ]
  },
  {
   "cell_type": "code",
   "execution_count": 225,
   "metadata": {},
   "outputs": [
    {
     "name": "stderr",
     "output_type": "stream",
     "text": [
      "[nltk_data] Downloading package stopwords to\n",
      "[nltk_data]     C:\\Users\\peddi\\AppData\\Roaming\\nltk_data...\n",
      "[nltk_data]   Package stopwords is already up-to-date!\n"
     ]
    },
    {
     "data": {
      "text/plain": [
       "True"
      ]
     },
     "execution_count": 225,
     "metadata": {},
     "output_type": "execute_result"
    }
   ],
   "source": [
    "from sklearn.model_selection import train_test_split\n",
    "from tqdm import tqdm\n",
    "import re\n",
    "import nltk\n",
    "from nltk.tokenize import word_tokenize\n",
    "from nltk.corpus import stopwords\n",
    "nltk.download('stopwords')\n",
    "stop_words = set(stopwords.words('english'))\n",
    "from nltk.stem import PorterStemmer\n",
    "from sklearn.feature_extraction.text import TfidfVectorizer\n",
    "from sklearn.metrics import f1_score\n",
    "from sklearn.metrics import plot_confusion_matrix\n",
    "from sklearn import *\n",
    "from sklearn.model_selection import RandomizedSearchCV\n",
    "from sklearn.metrics import confusion_matrix\n",
    "from sklearn.neighbors import KNeighborsClassifier\n",
    "from sklearn.linear_model import LogisticRegression\n",
    "from sklearn.naive_bayes import MultinomialNB\n",
    "from sklearn.svm import LinearSVC"
   ]
  },
  {
   "cell_type": "code",
   "execution_count": 146,
   "metadata": {},
   "outputs": [
    {
     "name": "stdout",
     "output_type": "stream",
     "text": [
      "{'don', 'be', 'where', 'll', 'y', 'yours', 'on', 'so', 'then', 'below', \"she's\", 'both', \"wouldn't\", \"weren't\", 'my', 'but', 'yourself', 'again', 'wouldn', \"should've\", 'being', 'now', 'you', 'out', 'm', 'hasn', \"wasn't\", 'there', 'we', \"aren't\", 'himself', 'themselves', 'these', 'those', 'by', 'down', 'once', 'should', 've', \"hadn't\", 'and', \"couldn't\", 'the', \"that'll\", 'hadn', 'of', 'own', 'through', 'will', \"hasn't\", \"shouldn't\", 'such', 'against', 'any', 'weren', 'from', 'most', 'not', 'didn', 'couldn', 'just', 'your', 'until', 't', 'more', 're', \"mustn't\", 'o', 'his', 'no', \"needn't\", \"didn't\", 'doesn', 'under', 'during', 'whom', 'nor', 'above', 'me', 'when', 'too', 'very', 'this', 'yourselves', 'other', 'why', 'them', 'at', 'or', \"mightn't\", 'ma', 'won', 'same', 'myself', \"won't\", 'isn', 'had', 'was', \"you'd\", 'are', 'she', 'theirs', 'haven', 'few', 's', \"don't\", 'i', 'for', 'do', 'after', 'were', 'a', 'as', \"doesn't\", 'into', 'each', 'can', 'mightn', 'ourselves', 'if', 'while', \"shan't\", 'which', 'only', 'who', 'doing', 'up', 'how', \"you'll\", 'him', 'has', 'here', 'further', 'an', 'off', 'aren', 'd', 'their', 'did', 'wasn', 'some', 'it', 'having', 'hers', 'is', \"haven't\", 'am', 'her', 'that', \"you've\", 'they', 'with', 'before', 'because', 'been', 'about', 'shouldn', 'shan', 'between', 'all', 'to', 'than', 'mustn', 'needn', 'in', \"it's\", 'our', 'he', 'ours', \"isn't\", 'what', 'have', 'ain', \"you're\", 'herself', 'itself', 'over', 'its', 'does'}\n"
     ]
    }
   ],
   "source": [
    "print(stop_words)"
   ]
  },
  {
   "cell_type": "code",
   "execution_count": 4,
   "metadata": {},
   "outputs": [
    {
     "data": {
      "text/plain": [
       "'C:\\\\Users\\\\peddi\\\\NLP files'"
      ]
     },
     "execution_count": 4,
     "metadata": {},
     "output_type": "execute_result"
    }
   ],
   "source": [
    "os.getcwd()"
   ]
  },
  {
   "cell_type": "code",
   "execution_count": 5,
   "metadata": {},
   "outputs": [],
   "source": [
    "os.chdir('D:\\Data science\\Datasets\\sentiment analysis dataset(airline)')"
   ]
  },
  {
   "cell_type": "code",
   "execution_count": 6,
   "metadata": {},
   "outputs": [
    {
     "data": {
      "text/html": [
       "<div>\n",
       "<style scoped>\n",
       "    .dataframe tbody tr th:only-of-type {\n",
       "        vertical-align: middle;\n",
       "    }\n",
       "\n",
       "    .dataframe tbody tr th {\n",
       "        vertical-align: top;\n",
       "    }\n",
       "\n",
       "    .dataframe thead th {\n",
       "        text-align: right;\n",
       "    }\n",
       "</style>\n",
       "<table border=\"1\" class=\"dataframe\">\n",
       "  <thead>\n",
       "    <tr style=\"text-align: right;\">\n",
       "      <th></th>\n",
       "      <th>Unnamed: 0</th>\n",
       "      <th>airline_sentiment</th>\n",
       "      <th>text</th>\n",
       "    </tr>\n",
       "  </thead>\n",
       "  <tbody>\n",
       "    <tr>\n",
       "      <th>0</th>\n",
       "      <td>1</td>\n",
       "      <td>positive</td>\n",
       "      <td>@VirginAmerica plus you've added commercials t...</td>\n",
       "    </tr>\n",
       "    <tr>\n",
       "      <th>1</th>\n",
       "      <td>3</td>\n",
       "      <td>negative</td>\n",
       "      <td>@VirginAmerica it's really aggressive to blast...</td>\n",
       "    </tr>\n",
       "    <tr>\n",
       "      <th>2</th>\n",
       "      <td>4</td>\n",
       "      <td>negative</td>\n",
       "      <td>@VirginAmerica and it's a really big bad thing...</td>\n",
       "    </tr>\n",
       "    <tr>\n",
       "      <th>3</th>\n",
       "      <td>5</td>\n",
       "      <td>negative</td>\n",
       "      <td>@VirginAmerica seriously would pay $30 a fligh...</td>\n",
       "    </tr>\n",
       "    <tr>\n",
       "      <th>4</th>\n",
       "      <td>6</td>\n",
       "      <td>positive</td>\n",
       "      <td>@VirginAmerica yes, nearly every time I fly VX...</td>\n",
       "    </tr>\n",
       "  </tbody>\n",
       "</table>\n",
       "</div>"
      ],
      "text/plain": [
       "   Unnamed: 0 airline_sentiment  \\\n",
       "0           1          positive   \n",
       "1           3          negative   \n",
       "2           4          negative   \n",
       "3           5          negative   \n",
       "4           6          positive   \n",
       "\n",
       "                                                text  \n",
       "0  @VirginAmerica plus you've added commercials t...  \n",
       "1  @VirginAmerica it's really aggressive to blast...  \n",
       "2  @VirginAmerica and it's a really big bad thing...  \n",
       "3  @VirginAmerica seriously would pay $30 a fligh...  \n",
       "4  @VirginAmerica yes, nearly every time I fly VX...  "
      ]
     },
     "execution_count": 6,
     "metadata": {},
     "output_type": "execute_result"
    }
   ],
   "source": [
    "df=pd.read_csv('airline_sentiment_analysis.csv')\n",
    "df.head()"
   ]
  },
  {
   "cell_type": "code",
   "execution_count": 7,
   "metadata": {},
   "outputs": [],
   "source": [
    "df1=df.copy()"
   ]
  },
  {
   "cell_type": "code",
   "execution_count": 8,
   "metadata": {},
   "outputs": [
    {
     "data": {
      "text/plain": [
       "(11541, 3)"
      ]
     },
     "execution_count": 8,
     "metadata": {},
     "output_type": "execute_result"
    }
   ],
   "source": [
    "df.shape"
   ]
  },
  {
   "cell_type": "code",
   "execution_count": 9,
   "metadata": {},
   "outputs": [
    {
     "data": {
      "text/plain": [
       "Unnamed: 0           0\n",
       "airline_sentiment    0\n",
       "text                 0\n",
       "dtype: int64"
      ]
     },
     "execution_count": 9,
     "metadata": {},
     "output_type": "execute_result"
    }
   ],
   "source": [
    "df.isnull().sum()"
   ]
  },
  {
   "cell_type": "code",
   "execution_count": 10,
   "metadata": {},
   "outputs": [
    {
     "data": {
      "text/plain": [
       "Unnamed: 0            int64\n",
       "airline_sentiment    object\n",
       "text                 object\n",
       "dtype: object"
      ]
     },
     "execution_count": 10,
     "metadata": {},
     "output_type": "execute_result"
    }
   ],
   "source": [
    "df.dtypes"
   ]
  },
  {
   "cell_type": "code",
   "execution_count": 11,
   "metadata": {},
   "outputs": [
    {
     "data": {
      "text/plain": [
       "<matplotlib.axes._subplots.AxesSubplot at 0x1e2409f5580>"
      ]
     },
     "execution_count": 11,
     "metadata": {},
     "output_type": "execute_result"
    },
    {
     "data": {
      "image/png": "[encoded data removed]",
      "text/plain": [
       "<Figure size 432x288 with 1 Axes>"
      ]
     },
     "metadata": {
      "needs_background": "light"
     },
     "output_type": "display_data"
    }
   ],
   "source": [
    "sns.countplot(df['airline_sentiment'])"
   ]
  },
  {
   "cell_type": "code",
   "execution_count": 12,
   "metadata": {},
   "outputs": [],
   "source": [
    "df.drop(columns=['Unnamed: 0'],inplace=True)"
   ]
  },
  {
   "cell_type": "code",
   "execution_count": 13,
   "metadata": {},
   "outputs": [
    {
     "data": {
      "text/html": [
       "<div>\n",
       "<style scoped>\n",
       "    .dataframe tbody tr th:only-of-type {\n",
       "        vertical-align: middle;\n",
       "    }\n",
       "\n",
       "    .dataframe tbody tr th {\n",
       "        vertical-align: top;\n",
       "    }\n",
       "\n",
       "    .dataframe thead th {\n",
       "        text-align: right;\n",
       "    }\n",
       "</style>\n",
       "<table border=\"1\" class=\"dataframe\">\n",
       "  <thead>\n",
       "    <tr style=\"text-align: right;\">\n",
       "      <th></th>\n",
       "      <th>airline_sentiment</th>\n",
       "      <th>text</th>\n",
       "    </tr>\n",
       "  </thead>\n",
       "  <tbody>\n",
       "    <tr>\n",
       "      <th>0</th>\n",
       "      <td>positive</td>\n",
       "      <td>@VirginAmerica plus you've added commercials t...</td>\n",
       "    </tr>\n",
       "    <tr>\n",
       "      <th>1</th>\n",
       "      <td>negative</td>\n",
       "      <td>@VirginAmerica it's really aggressive to blast...</td>\n",
       "    </tr>\n",
       "    <tr>\n",
       "      <th>2</th>\n",
       "      <td>negative</td>\n",
       "      <td>@VirginAmerica and it's a really big bad thing...</td>\n",
       "    </tr>\n",
       "    <tr>\n",
       "      <th>3</th>\n",
       "      <td>negative</td>\n",
       "      <td>@VirginAmerica seriously would pay $30 a fligh...</td>\n",
       "    </tr>\n",
       "    <tr>\n",
       "      <th>4</th>\n",
       "      <td>positive</td>\n",
       "      <td>@VirginAmerica yes, nearly every time I fly VX...</td>\n",
       "    </tr>\n",
       "  </tbody>\n",
       "</table>\n",
       "</div>"
      ],
      "text/plain": [
       "  airline_sentiment                                               text\n",
       "0          positive  @VirginAmerica plus you've added commercials t...\n",
       "1          negative  @VirginAmerica it's really aggressive to blast...\n",
       "2          negative  @VirginAmerica and it's a really big bad thing...\n",
       "3          negative  @VirginAmerica seriously would pay $30 a fligh...\n",
       "4          positive  @VirginAmerica yes, nearly every time I fly VX..."
      ]
     },
     "execution_count": 13,
     "metadata": {},
     "output_type": "execute_result"
    }
   ],
   "source": [
    "df.head()"
   ]
  },
  {
   "cell_type": "code",
   "execution_count": 14,
   "metadata": {},
   "outputs": [
    {
     "data": {
      "text/html": [
       "<div>\n",
       "<style scoped>\n",
       "    .dataframe tbody tr th:only-of-type {\n",
       "        vertical-align: middle;\n",
       "    }\n",
       "\n",
       "    .dataframe tbody tr th {\n",
       "        vertical-align: top;\n",
       "    }\n",
       "\n",
       "    .dataframe thead th {\n",
       "        text-align: right;\n",
       "    }\n",
       "</style>\n",
       "<table border=\"1\" class=\"dataframe\">\n",
       "  <thead>\n",
       "    <tr style=\"text-align: right;\">\n",
       "      <th></th>\n",
       "      <th>airline_sentiment</th>\n",
       "      <th>text</th>\n",
       "    </tr>\n",
       "  </thead>\n",
       "  <tbody>\n",
       "    <tr>\n",
       "      <th>count</th>\n",
       "      <td>11541</td>\n",
       "      <td>11541</td>\n",
       "    </tr>\n",
       "    <tr>\n",
       "      <th>unique</th>\n",
       "      <td>2</td>\n",
       "      <td>11381</td>\n",
       "    </tr>\n",
       "    <tr>\n",
       "      <th>top</th>\n",
       "      <td>negative</td>\n",
       "      <td>@AmericanAir thanks</td>\n",
       "    </tr>\n",
       "    <tr>\n",
       "      <th>freq</th>\n",
       "      <td>9178</td>\n",
       "      <td>5</td>\n",
       "    </tr>\n",
       "  </tbody>\n",
       "</table>\n",
       "</div>"
      ],
      "text/plain": [
       "       airline_sentiment                 text\n",
       "count              11541                11541\n",
       "unique                 2                11381\n",
       "top             negative  @AmericanAir thanks\n",
       "freq                9178                    5"
      ]
     },
     "execution_count": 14,
     "metadata": {},
     "output_type": "execute_result"
    }
   ],
   "source": [
    "df.describe()"
   ]
  },
  {
   "cell_type": "code",
   "execution_count": 15,
   "metadata": {},
   "outputs": [],
   "source": [
    "sentiment=df['airline_sentiment']"
   ]
  },
  {
   "cell_type": "code",
   "execution_count": 16,
   "metadata": {},
   "outputs": [
    {
     "data": {
      "text/plain": [
       "pandas.core.series.Series"
      ]
     },
     "execution_count": 16,
     "metadata": {},
     "output_type": "execute_result"
    }
   ],
   "source": [
    "type(sentiment)"
   ]
  },
  {
   "cell_type": "code",
   "execution_count": 17,
   "metadata": {},
   "outputs": [
    {
     "data": {
      "text/plain": [
       "0        positive\n",
       "1        negative\n",
       "2        negative\n",
       "3        negative\n",
       "4        positive\n",
       "           ...   \n",
       "11536    negative\n",
       "11537    negative\n",
       "11538    positive\n",
       "11539    negative\n",
       "11540    negative\n",
       "Name: airline_sentiment, Length: 11541, dtype: object"
      ]
     },
     "execution_count": 17,
     "metadata": {},
     "output_type": "execute_result"
    }
   ],
   "source": [
    "sentiment"
   ]
  },
  {
   "cell_type": "code",
   "execution_count": 18,
   "metadata": {},
   "outputs": [
    {
     "data": {
      "text/plain": [
       "negative    9178\n",
       "positive    2363\n",
       "Name: airline_sentiment, dtype: int64"
      ]
     },
     "execution_count": 18,
     "metadata": {},
     "output_type": "execute_result"
    }
   ],
   "source": [
    "sentiment.value_counts()"
   ]
  },
  {
   "cell_type": "code",
   "execution_count": 19,
   "metadata": {},
   "outputs": [
    {
     "data": {
      "text/plain": [
       "RangeIndex(start=0, stop=11541, step=1)"
      ]
     },
     "execution_count": 19,
     "metadata": {},
     "output_type": "execute_result"
    }
   ],
   "source": [
    "sentiment.keys()"
   ]
  },
  {
   "cell_type": "code",
   "execution_count": 20,
   "metadata": {},
   "outputs": [],
   "source": [
    "sentiment=sentiment.map({'positive':1,'negative':0})"
   ]
  },
  {
   "cell_type": "code",
   "execution_count": 21,
   "metadata": {},
   "outputs": [
    {
     "data": {
      "text/plain": [
       "0        1\n",
       "1        0\n",
       "2        0\n",
       "3        0\n",
       "4        1\n",
       "        ..\n",
       "11536    0\n",
       "11537    0\n",
       "11538    1\n",
       "11539    0\n",
       "11540    0\n",
       "Name: airline_sentiment, Length: 11541, dtype: int64"
      ]
     },
     "execution_count": 21,
     "metadata": {},
     "output_type": "execute_result"
    }
   ],
   "source": [
    "sentiment"
   ]
  },
  {
   "cell_type": "code",
   "execution_count": 22,
   "metadata": {},
   "outputs": [],
   "source": [
    "df['airline_sentiment']=sentiment"
   ]
  },
  {
   "cell_type": "code",
   "execution_count": 23,
   "metadata": {},
   "outputs": [
    {
     "data": {
      "text/html": [
       "<div>\n",
       "<style scoped>\n",
       "    .dataframe tbody tr th:only-of-type {\n",
       "        vertical-align: middle;\n",
       "    }\n",
       "\n",
       "    .dataframe tbody tr th {\n",
       "        vertical-align: top;\n",
       "    }\n",
       "\n",
       "    .dataframe thead th {\n",
       "        text-align: right;\n",
       "    }\n",
       "</style>\n",
       "<table border=\"1\" class=\"dataframe\">\n",
       "  <thead>\n",
       "    <tr style=\"text-align: right;\">\n",
       "      <th></th>\n",
       "      <th>airline_sentiment</th>\n",
       "      <th>text</th>\n",
       "    </tr>\n",
       "  </thead>\n",
       "  <tbody>\n",
       "    <tr>\n",
       "      <th>0</th>\n",
       "      <td>1</td>\n",
       "      <td>@VirginAmerica plus you've added commercials t...</td>\n",
       "    </tr>\n",
       "    <tr>\n",
       "      <th>1</th>\n",
       "      <td>0</td>\n",
       "      <td>@VirginAmerica it's really aggressive to blast...</td>\n",
       "    </tr>\n",
       "    <tr>\n",
       "      <th>2</th>\n",
       "      <td>0</td>\n",
       "      <td>@VirginAmerica and it's a really big bad thing...</td>\n",
       "    </tr>\n",
       "    <tr>\n",
       "      <th>3</th>\n",
       "      <td>0</td>\n",
       "      <td>@VirginAmerica seriously would pay $30 a fligh...</td>\n",
       "    </tr>\n",
       "    <tr>\n",
       "      <th>4</th>\n",
       "      <td>1</td>\n",
       "      <td>@VirginAmerica yes, nearly every time I fly VX...</td>\n",
       "    </tr>\n",
       "  </tbody>\n",
       "</table>\n",
       "</div>"
      ],
      "text/plain": [
       "   airline_sentiment                                               text\n",
       "0                  1  @VirginAmerica plus you've added commercials t...\n",
       "1                  0  @VirginAmerica it's really aggressive to blast...\n",
       "2                  0  @VirginAmerica and it's a really big bad thing...\n",
       "3                  0  @VirginAmerica seriously would pay $30 a fligh...\n",
       "4                  1  @VirginAmerica yes, nearly every time I fly VX..."
      ]
     },
     "execution_count": 23,
     "metadata": {},
     "output_type": "execute_result"
    }
   ],
   "source": [
    "df.head()"
   ]
  },
  {
   "cell_type": "code",
   "execution_count": 24,
   "metadata": {},
   "outputs": [
    {
     "data": {
      "text/plain": [
       "airline_sentiment    0\n",
       "text                 0\n",
       "dtype: int64"
      ]
     },
     "execution_count": 24,
     "metadata": {},
     "output_type": "execute_result"
    }
   ],
   "source": [
    "df.isnull().sum()"
   ]
  },
  {
   "cell_type": "code",
   "execution_count": 25,
   "metadata": {},
   "outputs": [
    {
     "data": {
      "text/html": [
       "<div>\n",
       "<style scoped>\n",
       "    .dataframe tbody tr th:only-of-type {\n",
       "        vertical-align: middle;\n",
       "    }\n",
       "\n",
       "    .dataframe tbody tr th {\n",
       "        vertical-align: top;\n",
       "    }\n",
       "\n",
       "    .dataframe thead th {\n",
       "        text-align: right;\n",
       "    }\n",
       "</style>\n",
       "<table border=\"1\" class=\"dataframe\">\n",
       "  <thead>\n",
       "    <tr style=\"text-align: right;\">\n",
       "      <th></th>\n",
       "      <th>Unnamed: 0</th>\n",
       "      <th>airline_sentiment</th>\n",
       "      <th>text</th>\n",
       "    </tr>\n",
       "  </thead>\n",
       "  <tbody>\n",
       "    <tr>\n",
       "      <th>0</th>\n",
       "      <td>1</td>\n",
       "      <td>positive</td>\n",
       "      <td>@VirginAmerica plus you've added commercials t...</td>\n",
       "    </tr>\n",
       "    <tr>\n",
       "      <th>1</th>\n",
       "      <td>3</td>\n",
       "      <td>negative</td>\n",
       "      <td>@VirginAmerica it's really aggressive to blast...</td>\n",
       "    </tr>\n",
       "    <tr>\n",
       "      <th>2</th>\n",
       "      <td>4</td>\n",
       "      <td>negative</td>\n",
       "      <td>@VirginAmerica and it's a really big bad thing...</td>\n",
       "    </tr>\n",
       "    <tr>\n",
       "      <th>3</th>\n",
       "      <td>5</td>\n",
       "      <td>negative</td>\n",
       "      <td>@VirginAmerica seriously would pay $30 a fligh...</td>\n",
       "    </tr>\n",
       "    <tr>\n",
       "      <th>4</th>\n",
       "      <td>6</td>\n",
       "      <td>positive</td>\n",
       "      <td>@VirginAmerica yes, nearly every time I fly VX...</td>\n",
       "    </tr>\n",
       "  </tbody>\n",
       "</table>\n",
       "</div>"
      ],
      "text/plain": [
       "   Unnamed: 0 airline_sentiment  \\\n",
       "0           1          positive   \n",
       "1           3          negative   \n",
       "2           4          negative   \n",
       "3           5          negative   \n",
       "4           6          positive   \n",
       "\n",
       "                                                text  \n",
       "0  @VirginAmerica plus you've added commercials t...  \n",
       "1  @VirginAmerica it's really aggressive to blast...  \n",
       "2  @VirginAmerica and it's a really big bad thing...  \n",
       "3  @VirginAmerica seriously would pay $30 a fligh...  \n",
       "4  @VirginAmerica yes, nearly every time I fly VX...  "
      ]
     },
     "execution_count": 25,
     "metadata": {},
     "output_type": "execute_result"
    }
   ],
   "source": [
    "df1.head()"
   ]
  },
  {
   "cell_type": "markdown",
   "metadata": {},
   "source": [
    "- Preprocessing has been done only on the df dataframe and df1 contains the same data without any changes"
   ]
  },
  {
   "cell_type": "code",
   "execution_count": 26,
   "metadata": {},
   "outputs": [
    {
     "data": {
      "text/plain": [
       "airline_sentiment     int64\n",
       "text                 object\n",
       "dtype: object"
      ]
     },
     "execution_count": 26,
     "metadata": {},
     "output_type": "execute_result"
    }
   ],
   "source": [
    "df.dtypes"
   ]
  },
  {
   "cell_type": "code",
   "execution_count": 27,
   "metadata": {},
   "outputs": [],
   "source": [
    "text=df['text']"
   ]
  },
  {
   "cell_type": "code",
   "execution_count": 28,
   "metadata": {},
   "outputs": [
    {
     "data": {
      "text/plain": [
       "0        @VirginAmerica plus you've added commercials t...\n",
       "1        @VirginAmerica it's really aggressive to blast...\n",
       "2        @VirginAmerica and it's a really big bad thing...\n",
       "3        @VirginAmerica seriously would pay $30 a fligh...\n",
       "4        @VirginAmerica yes, nearly every time I fly VX...\n",
       "                               ...                        \n",
       "11536    @AmericanAir my flight was Cancelled Flightled...\n",
       "11537           @AmericanAir right on cue with the delays👌\n",
       "11538    @AmericanAir thank you we got on a different f...\n",
       "11539    @AmericanAir leaving over 20 minutes Late Flig...\n",
       "11540    @AmericanAir you have my money, you change my ...\n",
       "Name: text, Length: 11541, dtype: object"
      ]
     },
     "execution_count": 28,
     "metadata": {},
     "output_type": "execute_result"
    }
   ],
   "source": [
    "text"
   ]
  },
  {
   "cell_type": "code",
   "execution_count": 29,
   "metadata": {},
   "outputs": [],
   "source": [
    "reviews=list(text)"
   ]
  },
  {
   "cell_type": "code",
   "execution_count": 30,
   "metadata": {},
   "outputs": [
    {
     "data": {
      "text/plain": [
       "[\"@VirginAmerica plus you've added commercials to the experience... tacky.\",\n",
       " '@VirginAmerica it\\'s really aggressive to blast obnoxious \"entertainment\" in your guests\\' faces &amp; they have little recourse',\n",
       " \"@VirginAmerica and it's a really big bad thing about it\",\n",
       " \"@VirginAmerica seriously would pay $30 a flight for seats that didn't have this playing.\\nit's really the only bad thing about flying VA\",\n",
       " '@VirginAmerica yes, nearly every time I fly VX this “ear worm” won’t go away :)',\n",
       " \"@virginamerica Well, I didn't…but NOW I DO! :-D\",\n",
       " \"@VirginAmerica it was amazing, and arrived an hour early. You're too good to me.\",\n",
       " '@VirginAmerica I &lt;3 pretty graphics. so much better than minimal iconography. :D',\n",
       " \"@VirginAmerica This is such a great deal! Already thinking about my 2nd trip to @Australia &amp; I haven't even gone on my 1st trip yet! ;p\",\n",
       " \"@VirginAmerica @virginmedia I'm flying your #fabulous #Seductive skies again! U take all the #stress away from travel http://t.co/ahlXHhKiyn\",\n",
       " '@VirginAmerica Thanks!',\n",
       " '@VirginAmerica SFO-PDX schedule is still MIA.',\n",
       " \"@VirginAmerica So excited for my first cross country flight LAX to MCO I've heard nothing but great things about Virgin America. #29DaysToGo\",\n",
       " \"@VirginAmerica  I flew from NYC to SFO last week and couldn't fully sit in my seat due to two large gentleman on either side of me. HELP!\",\n",
       " 'I ❤️ flying @VirginAmerica. ☺️👍',\n",
       " '@VirginAmerica you know what would be amazingly awesome? BOS-FLL PLEASE!!!!!!! I want to fly with only you.',\n",
       " '@VirginAmerica why are your first fares in May over three times more than other carriers when all seats are available to select???',\n",
       " '@VirginAmerica I love this graphic. http://t.co/UT5GrRwAaA',\n",
       " '@VirginAmerica I love the hipster innovation. You are a feel good brand.',\n",
       " '@VirginAmerica you guys messed up my seating.. I reserved seating with my friends and you guys gave my seat away ... 😡 I want free internet',\n",
       " \"@VirginAmerica status match program.  I applied and it's been three weeks.  Called and emailed with no response.\",\n",
       " \"@VirginAmerica What happened 2 ur vegan food options?! At least say on ur site so i know I won't be able 2 eat anything for next 6 hrs #fail\",\n",
       " \"@VirginAmerica amazing to me that we can't get any cold air from the vents. #VX358 #noair #worstflightever #roasted #SFOtoBOS\",\n",
       " \"@VirginAmerica hi! I just bked a cool birthday trip with you, but i can't add my elevate no. cause i entered my middle name during Flight Booking Problems 😢\",\n",
       " '@VirginAmerica help, left expensive headphones on flight 89 IAD to LAX today. Seat 2A. No one answering L&amp;F number at LAX!',\n",
       " '@VirginAmerica awaiting my return phone call, just would prefer to use your online self-service option :(',\n",
       " '@VirginAmerica this is great news!  America could start flights to Hawaii by end of year http://t.co/r8p2Zy3fe4 via @Pacificbiznews',\n",
       " '@VirginAmerica Moodlighting is the only way to fly! Best experience EVER! Cool and calming. 💜✈ #MoodlitMonday',\n",
       " '@VirginAmerica @freddieawards Done and done! Best airline around, hands down!',\n",
       " '@VirginAmerica Your chat support is not working on your site: http://t.co/vhp2GtDWPk',\n",
       " '@VirginAmerica View of downtown Los Angeles, the Hollywood Sign, and beyond that rain in the mountains! http://t.co/Dw5nf0ibtr',\n",
       " \"@VirginAmerica Hey, first time flyer next week - excited! But I'm having a hard time getting my flights added to my Elevate account. Help?\",\n",
       " \"@VirginAmerica I'm #elevategold for a good reason: you rock!!\",\n",
       " '@VirginAmerica wow this just blew my mind',\n",
       " '@VirginAmerica @ladygaga @carrieunderwood Julie Andrews all the way though @ladygaga was very impressive! NO to @Carrieunderwood',\n",
       " \"@VirginAmerica hi! i'm so excited about your $99 LGA-&gt;DAL deal- but i've been trying 2 book since last week &amp; the page never loads. thx!\",\n",
       " '@VirginAmerica you know it. Need it on my spotify stat #guiltypleasures',\n",
       " \"@VirginAmerica @ladygaga @carrieunderwood  I'm Lady Gaga!!! She is amazing! 😊\",\n",
       " \"@VirginAmerica I called a 3-4 weeks ago about adding 3 flights from 2014 to my Elevate...they still haven't shown up...help!\",\n",
       " \"@VirginAmerica @ladygaga @carrieunderwood  love all three but you really can't beat the classics!\",\n",
       " '@VirginAmerica heyyyy guyyyys.. been trying to get through for an hour. can someone call me please? :/',\n",
       " \"@VirginAmerica Hi, Virgin! I'm on hold for 40-50 minutes -- are there any earlier flights from LA to NYC tonight; earlier than 11:50pm?\",\n",
       " '@VirginAmerica Congrats on winning the @Travelzoo award for Best Deals from an Airline (US) http://t.co/kj1iljaebV',\n",
       " '@VirginAmerica everything was fine until you lost my bag',\n",
       " '@VirginAmerica your airline is awesome but your lax loft needs to step up its game. $40 for dirty tables and floors? http://t.co/hy0VrfhjHt',\n",
       " \"@VirginAmerica not worried, it's been a great ride in a new plane with great crew. All airlines should be like this.\",\n",
       " '@VirginAmerica awesome. I flew yall Sat morning. Any way we can correct my bill ?',\n",
       " '@VirginAmerica what is going on with customer service? Is there anyway to speak to a human asap? Thank you.',\n",
       " \"@VirginAmerica why can't you supp the biz traveler like @SouthwestAir  and have customer service like @JetBlue #neverflyvirginforbusiness\",\n",
       " \"@VirginAmerica I've applied more then once to be a member of the #inflight crew team...Im 100% interested. #flightattendant #dreampath -G\",\n",
       " \"@VirginAmerica you're the best!! Whenever I (begrudgingly) use any other airline I'm delayed and Late Flight :(\",\n",
       " '@VirginAmerica I have no interesting flying with you after this. I will Cancelled Flight my next four flights I planned.#neverflyvirginforbusiness',\n",
       " '@VirginAmerica it was a disappointing experience which will be shared with every business traveler I meet. #neverflyvirgin',\n",
       " '@VirginAmerica I’m having trouble adding this flight my wife booked to my Elevate account. Help? http://t.co/pX8hQOKS3R',\n",
       " '@VirginAmerica Why is the site down?  When will it be back up?',\n",
       " '@VirginAmerica I like the TV and interesting video . Just disappointed in Cancelled Flightled flight when other flights went out to jfk on Saturday .',\n",
       " '@VirginAmerica just landed in LAX, an hour after I should of been here. Your no Late Flight bag check is not business travel friendly #nomorevirgin',\n",
       " \"@VirginAmerica Is it me, or is your website down?  BTW, your new website isn't a great user experience.  Time for another redesign.\",\n",
       " \"@VirginAmerica I can't check in or add a bag. Your website isn't working. I've tried both desktop and mobile http://t.co/AvyqdMpi1Y\",\n",
       " '@VirginAmerica - Let 2 scanned in passengers leave the plane than told someone to remove their bag from 1st class bin? #uncomfortable',\n",
       " \"@virginamerica What is your phone number. I can't find who to call about a flight reservation.\",\n",
       " '@VirginAmerica is anyone doing anything there today?  Website is useless and no one is answering the phone.',\n",
       " '@VirginAmerica why must a traveler miss a flight to Late Flight check a bag?  I missed my morning appointments and you lost my business. #sfo2lax',\n",
       " \"@virginamerica how's a direct flight FLL-&gt;SFO have unexpected layover in Vegas 4 fuel yet peeps next to me bought for Vegas flight. #sneaky\",\n",
       " '@VirginAmerica your no Late Flight bag check just lost you my business. I missed flight and AM apt. Three other people on flight had same exp.',\n",
       " \"@VirginAmerica - amazing customer  service, again! 💕💕 RaeAnn in SF - she's the best! #customerservice #virginamerica #flying\",\n",
       " '@VirginAmerica called your service line and was hung up on. This is awesome. #sarcasm',\n",
       " \"@VirginAmerica your site is tripping. I'm trying to check in and I'm getting the plain text version. I am reluctant to enter any card info.\",\n",
       " '@VirginAmerica has getaway deals through May, from $59 one-way. Lots of cool cities http://t.co/tZZJhuIbCH #CheapFlights #FareCompare',\n",
       " '@VirginAmerica has getaway deals through May, from $59 one-way. Lots of cool cities http://t.co/B2Xi4YG5T8 #CheapFlights #FareCompare',\n",
       " '@VirginAmerica Have a great week 🌞✈',\n",
       " '@VirginAmerica come back to #PHL already. We need you to take us out of this horrible cold. #pleasecomeback http://t.co/gLXFwP6nQH',\n",
       " '@VirginAmerica should I be concerned that I am about to fly on a plane that needs to be delayed due to a \"tech stop\"?',\n",
       " '@VirginAmerica is the best airline I have flown on.Easy to change your reservation,helpful representatives &amp; a comfortable flying experience',\n",
       " '@VirginAmerica and again! Another rep kicked butt! Naelah represents your team so beautifully!! Thank you!!!',\n",
       " '@VirginAmerica your beautiful front-end design is down right now; but it was cool to still book my ticket b/c all your back-end was secure.',\n",
       " '@VirginAmerica Love the team running Gate E9 at LAS tonight. Waited for a delayed flight, and they kept things entertaining',\n",
       " \"@VirginAmerica Use another browser! 2015 &amp; a brand with a reputation built on tech response doesn't have a cross-browser compatible website?\",\n",
       " '@VirginAmerica And now the flight Flight Booking Problems site is totally down. Folks, what is the problem?',\n",
       " '@VirginAmerica I like the customer service but a 40 min delay just for connecting passengers seems too long. VA370',\n",
       " '@VirginAmerica thanks to your outstanding NYC-JFK crew who moved mountains to get me home to San Francisco tonight!',\n",
       " \"@VirginAmerica you have the absolute best team and customer service ever.  Every time I fly with you I'm delighted.  Thank you!\",\n",
       " '@VirginAmerica i need to change my flight thats scheduled in 9 hours and 120 min wait time on phone. Im calling intern. Help!!',\n",
       " '@VirginAmerica completely awesome experience last month BOS-LAS nonstop. Thanks for such an awesome flight and depart time. #VAbeatsJblue',\n",
       " '@VirginAmerica you are failing your customers because your check in process does not link to TSA pre-check.',\n",
       " '@VirginAmerica @FiDiFamilies us too! Terrible airline! Just gave us a hotel hotline number and said sorry',\n",
       " '@VirginAmerica @ChrysiChrysic your assistance yesterday when u Cancelled Flightled our flight was to give us a hotel hotline  Shame on you!',\n",
       " '@VirginAmerica Another delayed flight? #likingyoulessandless',\n",
       " '@VirginAmerica I need to register a service dog for a first class ticket from SFO &gt; Dulles. The phone queue is an hour or longer. Pls advise',\n",
       " '@virginamerica you ROCK for making it so I can watch #Oscars on my flight!! #redcarpet #oscars #oscars2015',\n",
       " '@VirginAmerica always!!! Xoxo',\n",
       " \"@VirginAmerica why can't we book seats on your flights when we buy them or even during check in? Creates so much anxiety! #frustrated\",\n",
       " \"@VirginAmerica You'd think paying an extra $100 bucks RT for luggage might afford you hiring an extra hand at @sfo #lame\",\n",
       " '@VirginAmerica best customer service rep in the world! #irmafromDallas takes the cake!!!',\n",
       " \"@VirginAmerica please provide status for flight 769.  I cant imagine it's on time as the Web indicates  dude to weather here and/or Dallas\",\n",
       " '@VirginAmerica you have amazing staff &amp; super helpful as I just ran the @WaltDisneyWorld #PrincessHalf they have spoiled me with comfort!!!',\n",
       " '@VirginAmerica I paid the premium to fly you across the country, you Cancelled Flight my flight and offer no check fee or upgrade love? Sad face :(',\n",
       " \"@VirginAmerica question: is it not possible to book a seat for an infant under 2? It's not giving me the option but we want a seat for him.\",\n",
       " \"Always have it together!!! You're welcome! RT @VirginAmerica: @jessicajaymes You're so welcome.\",\n",
       " \"@virginamerica #flight home to #dc #sunset #globe in' #backtowinter back to #work! #refreshed http://t.co/VX9vBCTdLf\",\n",
       " \".@VirginAmerica I don't understand why you need a DM to give me an answer on if you have a damaged luggage policy.\",\n",
       " \".@VirginAmerica does that mean you don't have a policy for destroyed luggage?\",\n",
       " '@VirginAmerica thank you for checking in. tickets are purchased and customer is happy ;-)',\n",
       " '@VirginAmerica having problems Flight Booking Problems on the web site. keeps giving me an error and to contact by phone.  phone is 30 minute wait.',\n",
       " '@VirginAmerica How do I reschedule my Cancelled Flightled flights online? The change button is greyed out!',\n",
       " '@VirginAmerica I rang, but there is a wait for 35 minutes!! I can book the same ticket through a vendor, fix your site',\n",
       " '@VirginAmerica got a flight (we were told) for 4:50 today..,checked my email and its for 4;50 TOMORROW. This is unacceptable.',\n",
       " \"@VirginAmerica our flight into lga was Cancelled Flighted. We're stuck in Dallas. I called to reschedule, told I could get a flight for today...(1/2)\",\n",
       " \"@virginamerica why don't any of the pairings include red wine?! Only white is offered :( #redwineisbetter\",\n",
       " '@VirginAmerica is the website down?',\n",
       " '@VirginAmerica - Your site seems a little wonked right now. May want to have a look. Tried on two browsers. No CSS? http://t.co/8qsQMM7KF2',\n",
       " \"@VirginAmerica I'm disappointed that the agent at the designated silver status check in line @Dulles_Airport closed to assist all pasengers\",\n",
       " '@VirginAmerica Is it normal to receive no reply from Central Baggage #baggageissues #smh',\n",
       " '@VirginAmerica at Logan airport and waiting to checkin for my 9am flight. Checkin desk not open !!!!! Why?!',\n",
       " '@VirginAmerica congrats, you just got all my business from EWR to SFO/LAX. Fuck you @united fl1289 SFO/EWR was the clincher...',\n",
       " \"@VirginAmerica  I applied over 2 weeks ago. Haven't heard back and I'm flying this week #disappointed\",\n",
       " '@VirginAmerica Thank you for the follow',\n",
       " \"@VirginAmerica - too many apologies! You r the worse airlines! Don't even respond to your cudtomers\",\n",
       " '@VirginAmerica shame on VA for making people spend money in stranded cities when other airlines are landing at JFK! Who will reimburse me?',\n",
       " '@VirginAmerica too bad you say it takes 10 to 14 days via YOUR confirmation email. When I inquired after 3 weeks you claim 6 to 8 weeks!',\n",
       " '@VirginAmerica Flight from BOS &gt; LAS tomorrow was Cancelled Flightled. No notification; wait times are 1+ hour. Will you rebook on another airline?',\n",
       " '😎 RT @VirginAmerica: You’ve met your match. Got status on another airline? Upgrade (+restr): http://t.co/RHKaMx9VF5. http://t.co/PYalebgkJt',\n",
       " '@VirginAmerica Only way to fly! #Elevate #Gold',\n",
       " '@VirginAmerica a lot of \"apologies\" being thrown out to customers from what I can see.Very sad. Thanks for nothing. Worst airline ever.',\n",
       " '@VirginAmerica  for all my flight stuff wrong and did nothing about it. Had #worst #flight ever',\n",
       " '@VirginAmerica you will match my #AmericanAirlines status? Cool!',\n",
       " \"@VirginAmerica trying to book a flight with you guys and your website won't let me... about to lose my business\",\n",
       " '@VirginAmerica you suck!',\n",
       " '@VirginAmerica thanks!',\n",
       " \"@VirginAmerica Just DM'd. Same issue persisting.\",\n",
       " \"@VirginAmerica Because we never rec'd Cancelled Flightlation notice we were left w no options to fly out of PS. Driving to LA for a red eye Mon w kids\",\n",
       " '@VirginAmerica trying to book a flight &amp; your site is down 😁',\n",
       " \"@VirginAmerica You have any flights flying into Boston tomorrow? I need to be home and you Cancelled Flightled my flight and didn't do anything\",\n",
       " '@VirginAmerica you stink. Flight Cancelled Flighted from PSP to JFK and no notification or ability to rebook #disappointed.  #expected better',\n",
       " \"@VirginAmerica I love your guy's song! We're dancing to it for our high school dance revue\",\n",
       " \"@VirginAmerica Your website is down and I'm trying to check in!\",\n",
       " '@VirginAmerica done! Thank you for the quick response, apparently faster than sitting on hold ;)',\n",
       " '@VirginAmerica cool picture of another VirginAmerica plane off our wing. What a site! http://t.co/5B2agFd8c4',\n",
       " '@VirginAmerica Keep up the great work :)',\n",
       " '@VirginAmerica my goodness your people @love field are amazing under pressure ❤️from Texas #beatstheothers in crisis Please fly me to NY',\n",
       " '@VirginAmerica Thanks for a great flight from LA to Boston! Pilots did a great job landing in the snow. Can we go back to LA now? #seriously',\n",
       " '@VirginAmerica Thanks so much for the awesome support, you guys rock!',\n",
       " \"@VirginAmerica seats in Row 8 don't recline should mention that on your website #soreback\",\n",
       " '@VirginAmerica flight 404 delayed 2 hours in LA due to mechanical problems. Handle like pros but you could have tossed us a free drink.',\n",
       " '@VirginAmerica why Cancelled Flight flights today? No precipitation to be scared of!  ❄️❄️❄️',\n",
       " '@VirginAmerica twitter team. you guys killed it for rescheduling me asap. thank you!',\n",
       " \"@VirginAmerica You guys charged me $100 to reschedule a flight that was then Cancelled Flighted and are now refusing to refund it. What's the deal?\",\n",
       " '@VirginAmerica can’t access your website from Safari on iPhone 6. Seems to work on Mac and iPad. Need iPhone to add Passbook.',\n",
       " '@VirginAmerica your mobile site is broken, shows \\n\"{{header.elevateUser.numOfPointsAvailable || \\'0\\' | number}} Points\", won\\'t let me checkin',\n",
       " '@VirginAmerica I was really looking forward to my flight. can you let me know when it will be rescheduled? #diehardvirgin',\n",
       " '@VirginAmerica why Cancelled Flight flight VX413? One sec its delayed, on my to airport, the next its Cancelled Flightled?Gonna email or call me to reschedule?',\n",
       " '@VirginAmerica I did it but there was a problem in the link from the email for check-in. thanks',\n",
       " '@VirginAmerica had to change to another airline to get to DC today ... Why is @united able to land in DC but not you? Cost me $800 ...ugh',\n",
       " '@VirginAmerica I was so looking forward to my first flight with you today but it was Cancelled Flightled along with the subsequent one ...',\n",
       " '@VirginAmerica when are you putting some great deals from PDX to LAS or from LAS to PDX show me your love! http://t.co/enIQg0buzj',\n",
       " '@VirginAmerica wish I can afford to fly with you next Friday  going back home.. love everything  about your airline',\n",
       " '@VirginAmerica  how are you gonna have a deal from Dallas to DC but no deal from DC to Dallas? #sad',\n",
       " '@VirginAmerica hold times at call center are a bit much',\n",
       " '@VirginAmerica Like http://t.co/VPqEm31XUQ',\n",
       " '@VirginAmerica Site down? #help',\n",
       " '@VirginAmerica You have the best flight attendant ever!!! http://t.co/PxdEL1nq3l',\n",
       " 'Awesome! RT @VirginAmerica: Watch nominated films at 35,000 feet. #MeetTheFleet #Oscars http://t.co/DnStITRzWy',\n",
       " '@VirginAmerica thanks so much!',\n",
       " '@VirginAmerica Trying to reset my password, email never arrives. Help?',\n",
       " \"@VirginAmerica, the only airline based in Silicon Valley! #disruption #FCmostinnovative #incubator  @FastCompany's http://t.co/wU3LbCNcr9\",\n",
       " '@VirginAmerica Very nicely done. 👏',\n",
       " '@VirginAmerica I’m looking forward to watching the Oscars on my flight home tomorrow. I might even get something bubbly to drink! ;)',\n",
       " '@VirginAmerica What is the reason  for the delay of the departure of VX 413 from JFK this afternoon?',\n",
       " '@VirginAmerica is todays flight from Palm Springs, Ca to JFK in NY Cancelled Flightled?',\n",
       " '@VirginAmerica hahaha 😂@VirginAmerica YOU GUYS ARE AMAZING. I LOVE YOU GUYS!!!💗',\n",
       " '@VirginAmerica sounds like fun !',\n",
       " '@VirginAmerica the CSS on your site is a 404 right now, please fix. Site unusable.',\n",
       " \"@VirginAmerica We're on flight 910 Vegas to Boston today, checked in online but our bag count didn't register. Can I fix that somehow?\",\n",
       " '@VirginAmerica classiq, luv Virgin America. Greetingz',\n",
       " \"@VirginAmerica Hi, I'm trying to do check-in but the website is not working. I tried 3 different browsers and the problem continues\",\n",
       " '@VirginAmerica Thanks for your great customer service today &amp; for helping me get all my travel sorted out!',\n",
       " '@VirginAmerica thanks guys! Sweet route over the Rockies #airplanemodewason',\n",
       " '@VirginAmerica love the 90s music blasting at gate in #Boston while waiting for flight to #SanFrancisco. Only if I could get an iced coffee!',\n",
       " \"@VirginAmerica - the passenger in 7D, Flt 338 that assaulted me shouldn't have flown. I trust he's banned. Crew filed report to @FAANews\",\n",
       " '@VirginAmerica current bug on website shows ‘select departure city’ when selecting destination city http://t.co/SLLYIBE2vQ',\n",
       " \"@VirginAmerica luggage was severely dented/missing wheel coming off baggage claim in SAN. Luggage agent Miranda (I think) wasn't any help.\",\n",
       " '@VirginAmerica thank you for the easy itinerary shift for impending weather. Quick, painless &amp; free.',\n",
       " '@VirginAmerica Thanks! Good times there and back! #Vodkatonics the entire flight🍸#sfo',\n",
       " \"@VirginAmerica, you're doing a great job adding little luxuries/aesthetics that improve the air travel experience. Thank you. Keep it up!\",\n",
       " '@VirginAmerica requested window seat and confirmed window but got stuck in middle seat. Not a good way to treat silver member😒',\n",
       " '@VirginAmerica #wtf I paid for direct flight on purpose not to have to stop for fuel exhausted frequent flier and nothing for inconvenience!',\n",
       " '@VirginAmerica there is something wrong with you website in Safari iPhone',\n",
       " '@VirginAmerica thanks for gate checking my baggage on your full flight dfw-lax 883 and giving me early boarding too #sweet',\n",
       " '@VirginAmerica Already checked in so the page expired :X',\n",
       " '@VirginAmerica Boo for a not refunding a seat upgrade fee I did not want to buy in the first place!',\n",
       " '@VirginAmerica I see what you did there ;)',\n",
       " '@VirginAmerica your inflight team makes the experience #amazing!',\n",
       " \"@VirginAmerica cutest salt and pepper shaker ever. Just when I think you guys can't get any better you just do! http://t.co/vC6Keulg2J\",\n",
       " '@VirginAmerica moved my seat with no notice. \"Better seat\" is cabin select not behind the row I selected👎 #DISAPPOINTED',\n",
       " '@VirginAmerica fav airline',\n",
       " '@VirginAmerica we have a hot female pilot! Sweet! DCA to SFO! :-)',\n",
       " '@VirginAmerica already contacted Central Baggage &amp; sent DM. @RenttheRunway is charging me for the dress that was in the lost suitcase #help',\n",
       " '@VirginAmerica Thank you!!',\n",
       " \"@VirginAmerica Is there anything going on with the website? I've been getting a lot of errors past 30 minutes.\",\n",
       " '@VirginAmerica @VirginAtlantic I have just checked in flight to SFO from LAX &amp; been told as Atlantic Flying Club Gold I get no benefits?!',\n",
       " '@VirginAmerica husband and I ordered three drinks via my screen and they never came. Awesome!',\n",
       " '@VirginAmerica soooo are you guys going to leave the seatbelt light on all flight? You can barely call this turbulence :-)',\n",
       " '@VirginAmerica Funny story, your website is broken, you have missing javascript and stylesheets on the checkin process. I dislike this!',\n",
       " '@VirginAmerica would love to do more for virgin just like I do for @GoPro',\n",
       " \"@VirginAmerica I'm trying to check into my 10:50AM CT flight tmm on the desktop website and it's not working (some sort of caching bug) SOS\",\n",
       " '@VirginAmerica Do you guys know your check-in links from emails are broken? http://t.co/2npXB6oBMr',\n",
       " \"@VirginAmerica loved it. Can't wait for Monday's return flight... Mostly just to watch the inflight safety video again. #sorrynotsorry\",\n",
       " \"@VirginAmerica lost my luggage 4 days ago on flight VX 112 from LAX to IAD &amp; I'm calling every day, no response.Please give me back my stuff\",\n",
       " '@VirginAmerica The Flight Booking Problems section of your website seems to be broken on Chrome. Might wanna look into that.',\n",
       " '@VirginAmerica Hi! Just wanted to see if you have any new routes planned this year for Newark. Love flying you guys and hope to do so more!',\n",
       " \"@VirginAmerica I mean. Probably inappropriate while on board.. But, it's on!\",\n",
       " \"@VirginAmerica happy to spend the day together. Let's do this!\",\n",
       " '.@VirginAmerica They were very understanding and helped me out.  Thx! #Comps',\n",
       " '@VirginAmerica thank you! I absolutely will 😎',\n",
       " '@virginamerica Looks like a broken link for your assets https://t.co/OArDjjGrrD',\n",
       " '@virginamerica the manage itinerary section of your website seems to be broken for me https://t.co/2pUJvCElNg',\n",
       " \"@VirginAmerica can't check in, your site looks like this every time it loads http://t.co/kAcY2AwDbW\",\n",
       " '@virginAmerica Other carriers are less than half price for a round trip fare. I am stunned. http://t.co/UKdjjijroW',\n",
       " '@VirginAmerica WTF is happening in PDX Late Flight March such that one way from SFO is ~$550?',\n",
       " '@VirginAmerica How about some free drinks on the flight back for the free promo?',\n",
       " '@VirginAmerica @SSal thanks!',\n",
       " \"@VirginAmerica my luggage is gone. I've filed my paperwork, promised a call/email. Still no resolution or response from central luggage.\",\n",
       " '@VirginAmerica Thanks!',\n",
       " '@VirginAmerica thanks for taking care of @SuuperG on her flight!! #rockstars #travel',\n",
       " '@VirginAmerica Thanks for the lovely soft views! #travel #SAN to #SFO http://t.co/CnctL7G1ef',\n",
       " \"@VirginAmerica I requested a mileage challenge for status several weeks ago online but haven't heard back. How do I get help with this?\",\n",
       " \"@VirginAmerica Just trying to book tickets to NYC and facing super fun broken styling. Don't worry, I'll keep trying :)\",\n",
       " '@VirginAmerica Applied for Status Match on Feb 1. Got confirmation email same day. Still no news though. You guys have dropped ball Late Flightly 😥',\n",
       " '@VirginAmerica I adore you, and am so looking forward to my flight to Austin in two weeks.',\n",
       " '@VirginAmerica I was so glad it was mentioned. I took my first virgin flight a few years back and it was a transformative experience.',\n",
       " '@VirginAmerica trying to check-in...but looks like your site is down?',\n",
       " '@VirginAmerica spending my birthday night with you, DAL-DCA. Get me home!',\n",
       " '@VirginAmerica Sent a couple messages to the email you provided but to no avail. Will try again next year. Cheers.',\n",
       " '@VirginAmerica first time flying Virgin, went to #SanFrancisco .Thanks for the smooth ride. Easily my new fav airline!',\n",
       " '@VirginAmerica seriously, though. will there not be direct flights from SFO-FLL in may???',\n",
       " \"@VirginAmerica It's fine. Already done with my purchase. But you should try it. Just go most of the way through then go back 3\",\n",
       " '@virginamerica not really the experience I was hoping 4, I ws forced 2 check in a small carry on, w/ nothing but empty cabin space on board',\n",
       " '@VirginAmerica\\nwjere is our luggage #so slow at lax',\n",
       " '@VirginAmerica I spoke with a representative that offered no solution, I am a loyal customer who flies on @VirginAtlantic as well',\n",
       " '@VirginAmerica I am deeply disappointed that your birthday promo was not applied to a trip I booked mere days before I received the email',\n",
       " '@VirginAmerica what happened to direct flights from SFO-FLL? Looking in May, only see connecting #help #dontdothistome',\n",
       " '@VirginAmerica just promoting the product is all, had a problem with southwest and recommend noneother than the best! http://t.co/tFaNXBh1Cf',\n",
       " '@VirginAmerica love you guys, but pls get some direct routes LAS to AUS!',\n",
       " \"@VirginAmerica of course! I work for @VirginAtlantic and I'm obsessed with the entire Virgin family!!\",\n",
       " '@VirginAmerica ok! first time flying with you tonight :)',\n",
       " '@VirginAmerica I have 2d and 3d embossed badges and patches superior to the ones you are currently using. \\nhttp://t.co/3fq3XElbOn',\n",
       " '@VirginAmerica on VX399 from JFK to LA - dirty plane - not up to your standards.',\n",
       " '@VirginAmerica on flight VX399 headed to LA from JFK - dirtiest VA plane I have ever been on. Sad for a great airline.',\n",
       " '@VirginAmerica got it squared away. Someone picked up as soon as I tweeted. Should have tweeted sooner. 😉',\n",
       " \"@VirginAmerica your Avis rental continue button doesn't work on your website to book car. Tried 4 times on phone.  This sucks!\",\n",
       " '@VirginAmerica delayed to10.30!!',\n",
       " '@VirginAmerica currently in minute 10 of being on hold with cust. service. Do I need to do anything to add a lap child to my reservation?',\n",
       " '“@VirginAmerica: @KarinSLee Of course. Have fun celebrating!” Thanks! Happy Chinese New Year!',\n",
       " '@VirginAmerica  Flight Booking Problems last second flight for next week from SFO- to SAN any chance you want to gift me a promo code since I love you guys',\n",
       " '@VirginAmerica Comenity Bank is a joke!  Please change.  Nothing but constant problems with this bank',\n",
       " \"@VirginAmerica For my Grandma Ella's 80th, she would &lt;3 a bday greeting from your flight crew! She was a stewardess for Eastern Airlines.\",\n",
       " '@VirginAmerica Just bought tix for ATX - Dallas route - thanks for adding that! Love yr airline &amp; yr website is BEST transactional site EVER',\n",
       " \"@VirginAmerica gave a credit for my Late Flight flight yesterday. Great service !!!! That's a Wow moment! Unexpected gesture!\",\n",
       " '@VirginAmerica, I submitted a status match request a while back and still haven’t heard! I’m flying on Monday. Can you look / accelerate?',\n",
       " '@VirginAmerica had me at their safety video . . . http://t.co/CqMm7nuE9m  LOVED my first cross country flight. #livewelltraveled #sytycd',\n",
       " \"@VirginAmerica that doesn't look to fat to me! It looks yummy!\",\n",
       " '@VirginAmerica omg omg😍😍 nonstop Dallas to Austin on virgin✨😱✈️',\n",
       " '@VirginAmerica Your planes are really pretty. Just thought u should know that. :)',\n",
       " \"@VirginAmerica I'm pulling my hair out trying to book a flight with u. Your site doesn't work on iPhone or iPad.don't have a computer #help\",\n",
       " '@VirginAmerica thank you',\n",
       " \"@VirginAmerica Can I get some help with a support ticket? It's been 15 days.... Incident: 150202-000419 Thank you!\",\n",
       " '@VirginAmerica good to be home #texas #moodlighting http://t.co/N3BVZTY3zI',\n",
       " '@VirginAmerica I cannot even open my laptop in seat 4C and I paid a premium for this?!!   Let me out of here!',\n",
       " '@VirginAmerica I am in seat 4C and I cannot even open my laptop; and I paid extra for this seat!!',\n",
       " \"@VirginAmerica thanks for that. Been needing a way to make those Austin trips from DCA, and now you've come through!\",\n",
       " '@VirginAmerica this is too cool!  Never been on ur planes but now I will!!',\n",
       " '@VirginAmerica great. Well deserved.',\n",
       " \"@VirginAmerica FYI the info@virginamerica.com email address you say to contact in password reset emails doesn't exist. Emails bounce.\",\n",
       " '@VirginAmerica Status match - 2 weeks have gone by and no news.Flt next week - hope flt will count towards requirement.  Cust Svc no help!!!',\n",
       " '@VirginAmerica your website sucks donkey dicks. Just thought you should know. All best.',\n",
       " '@VirginAmerica all crap channels which is why I pay to watch UK tv',\n",
       " '@VirginAmerica got it. All set - Thanks!',\n",
       " '@VirginAmerica Giants and Virgin America. A match made in heaven.',\n",
       " '@VirginAmerica thank goodness!! Also, see you friday, nwk&gt;sf.. BOOM!',\n",
       " \"@VirginAmerica how come you don't have an iPhone app? Still using and making me waste paper.\",\n",
       " '@VirginAmerica Your back of seat entertainment system does not accept credit cards that  have an apostrophe in the surname. #apostrophefail',\n",
       " '@VirginAmerica When will VX use all 6 LGA slots instead of 4 today? Adding AUS makes this less likely :(',\n",
       " \"@VirginAmerica I luv ur people and product! 1 thing is y do u charge for herbal tea but not black tea? I'm not a caffeine drinker\",\n",
       " \"@VirginAmerica thank you! See y'all soon! I'm excited to see the expansion of destinations. Spread those wings!\",\n",
       " '@VirginAmerica sad to learn you no longer fly SFO &gt; PHL. Hope it returns!',\n",
       " \"@VirginAmerica has the most INCREDIBLE customer service I've ever experienced! So refreshing!\",\n",
       " '@VirginAmerica , am I dreaming? Did you really just open up a route between Dallas and Austin?! And does this mean Houston might be next?',\n",
       " '@VirginAmerica OMG FINALLY',\n",
       " \"@VirginAmerica kinda sucked my earphone jack didn't work on my flight. They may want to look into that for future passengers\",\n",
       " '@VirginAmerica Very poor experience. First computer problem now seat malfunction. Stuck. Missing meeting in San Diego.',\n",
       " '@VirginAmerica #thankyou the DAL-AUS route makes my day!!!!',\n",
       " '@virginamerica awesome deals DAL-AUS for only $39 each way! https://t.co/xCVQXYkg49',\n",
       " '@VirginAmerica love it, taking @SouthwestAir on in their backyard! Consumers win when biz competes.',\n",
       " '@VirginAmerica \\u200b is flying from Love to Austin now. That is most excellent news.',\n",
       " '@VirginAmerica Congrats VX on the new route! ✈️🎉',\n",
       " '@VirginAmerica I tried that. You offered to charge me an additional $1k for a new ticket or be stranded until Thurs. 1st time, last time.',\n",
       " '@VirginAmerica Never had a bad experience before, but this one took the cake. Now extortion for carry on items as well?',\n",
       " \"@VirginAmerica Had to spend 5 hours worrying that items in carryon would be broken/stolen since I couldn't carry them on plane or lock bag.\",\n",
       " '@VirginAmerica All of group E was told there was no more room in the bins. when I got on the plane, was room for at least 4 bags in my row!',\n",
       " '@VirginAmerica Thanks for making my flight from LAX to JFK a nightmare by forcing me to check my carry on bag at the gate. (1)',\n",
       " \"@VirginAmerica I have lots of flights to book and your site it not working!!!! I've been on the phone waiting for over 10 minutes..........\",\n",
       " '@VirginAmerica I am all about the in flight artisanal cheese and wine pairing.',\n",
       " \"@VirginAmerica That's classy.\",\n",
       " \"@VirginAmerica I'm sure a lot of your 747 and 777 JFK-LHR flights go a lot faster than 513mph with a strong tailwind.\",\n",
       " \"@VirginAmerica now it's just t-minus 32 minutes until my Elevate a Silver upgrade window opens . #FreeNeverSucks 😃👍\",\n",
       " '@VirginAmerica Why is it taking 12 years to fly home to Dallas? Get your shit together.',\n",
       " '@VirginAmerica @JezzieGoldz would have been a rough trip but LUCKILY we were on a #virginamerica flight. #weather',\n",
       " '@VirginAmerica another perfect flight.   How come on your planes,  the sun visors can stay down?  Other carriers make you raise them?',\n",
       " 'Nice RT @VirginAmerica: The man of steel might be faster, but we have WiFi – just saying. #ScienceBehindTheExperience http://t.co/FGRbpAZSiX',\n",
       " '@VirginAmerica I love the dancing little richard. cool beans.',\n",
       " '@VirginAmerica I don’t use Passbook =/ I still love you though &lt;3 :) I’ll just use my email in the future.',\n",
       " \"@VirginAmerica thanks for the free birthday points! y'all are ALL RIGHT with me!\",\n",
       " '@VirginAmerica Man of steel flies to more cities though...and with more frequency too.',\n",
       " '@VirginAmerica thanks so much for sharing. Just added it to my site http://t.co/TsviBTvT8h',\n",
       " '@VirginAmerica Dad on Segway is the best part of this whole infographic!',\n",
       " '@VirginAmerica Are there any plans for a short haul airline in Europe? Would defiantly fly with you guys :)',\n",
       " '@VirginAmerica wifi AND better seating.',\n",
       " '@VirginAmerica started my flight with a scolding for using an overhead bin that was then offered to the person seated next to me.',\n",
       " \".@VirginAmerica not only was it great, but you return my calls the day after. Couldn't ask for more. #myVXexperience\",\n",
       " \"@VirginAmerica While other airlines weren't Cancelled Flighting flights into BOS, and helping their customers get home, Virgin was saying Good luck!\",\n",
       " '@VirginAmerica Grouping Virgin in with the others now. BOS weather has exposed their actual Cus Serv model. Never Flight Booking Problems with Virgin again!',\n",
       " \"@VirginAmerica As one of the travelers affected by the Boston storm, I'm shocked at Virgin's complete apathy toward their customers.\",\n",
       " '@VirginAmerica Umm so no reason as to why this is? Is there someone different I should contact (or contact me) to get a definitive answer?',\n",
       " '@virginamerica Trying to make the change in advance (not just 24 hours prior)…tried it online earlier and it wanted $300 in change fees.',\n",
       " \"@VirginAmerica so loyal that I'm driving to #NYC from #PA, to fly Virgin,  since you cut #Philly flights ;)\",\n",
       " '@VirginAmerica you guys are perfect as always! &lt;3 #WeRVirgin',\n",
       " \"@VirginAmerica thanks! Y'all have some of the best customer service left in the industry.\",\n",
       " \"@VirginAmerica really wish you'd fly out of #Fargo @fargoairport those fares are amazings\",\n",
       " '@VirginAmerica mood lighting on point🙌 Reclining my seat, kickin up my feet💤',\n",
       " '@VirginAmerica my flight (6000) scheduled for 1pm departure still says on time but no plane at gate. Any update on how long of a delay?',\n",
       " \"@VirginAmerica my group got their Cancelled Flightlation fees waived but I can't because my ticket is booked for 2/18? Your reps were no help either 😡\",\n",
       " '@VirginAmerica just got on the 1pm in Newark home to LA. Your folks at EWR are incredible #letsgohome',\n",
       " '@VirginAmerica Flying LAX to SFO and after looking at the awesome movie lineup I actually wish I was on a long haul.',\n",
       " '@united thanks',\n",
       " '@united Thanks for taking care of that MR!! Happy customer.',\n",
       " \"@united still no refund or word via DM. Please resolve this issue as your Cancelled Flightled flight was useless to my assistant's trip.\",\n",
       " \"@united Delayed due to lack of crew and now delayed again because there's a long line for deicing... Still need to improve service #united\",\n",
       " \"@united thanks -- we filled it out. How's our luck with this? Is it common?\",\n",
       " '@united Your ERI-ORD express connections are hugely popular .. now if only we could have an ERI-EWR hop! :)',\n",
       " '@united you think you boarded flight AU1066 too early? I think so.',\n",
       " '@united Gate agent hooked me up with alternate flights. If you have a way to PREVENT the constant issues, that would rock.',\n",
       " '@united thanks',\n",
       " '@united Thanks. It is on the same ticket.',\n",
       " '@united is the worst. Nonrefundable First class tickets? Oh because when you select Global/FC their system auto selects economy w/upgrade.',\n",
       " \"@united @CheerTymeDad So I can buy tix 3 days before flight but can't transfer the tix.  Flawed security logic. Flawed customer service\",\n",
       " '@united I did start a claim but 8-10 weeks is unrealistic, am I really supposed to go that long with out a car seat for my child.Ridiculous!',\n",
       " '@united follow me please this airline is beautifull ♥',\n",
       " \"@united if the car seat is lost @united should just reimburse me for a new one, this is not a pair of shoes, it's a necessity for my child\",\n",
       " '@united @highbuddyyy that totally sucks my cousin worked at PHL said @united',\n",
       " '@united just wanted to let you know how wonderful Rosetta the gate agent was working flight 6457 Dan to Ase. Let her know she wasappreciated',\n",
       " '@united beginning of Feb I called United they said they would send another voucher by mail. Never got anything. #tiredofwaiting',\n",
       " '@United the internet is a great thing.  I am emailing executives in your company, maybe they will respond to me in a timely manner.',\n",
       " '@united thats weak. See ya 👋\\nHey @VirginAmerica !!',\n",
       " '@united I flew back w other company since United didnt have an earlier flight',\n",
       " '@united I am trying to book awards for September and need flights on @aegeanairlines but they will not show even w/ many award seats availab',\n",
       " \"@united I sure did.   I had to drive a total of 3 hours to get my own bag.  I'd like to explain that debacle but no one wants to talk to me.\",\n",
       " '@united See? We were told repeatedly that the pilot was Late Flight and kept getting Late Flightr.  After we boarded, there was a defibrillator issue.',\n",
       " \"@united why no preferred security line anymore. My TSA pre-check didn't pull on my @SilverAirways partner flight! #Platinum #spoiled\",\n",
       " \"@united #Newarkliberty Airport need to indicate different gate#'s for terminals A&amp;C. #Flyingainteasy\",\n",
       " '@united yes please! I am newly married and trying to update my last name on a preexisting international flight! It seems so easy, but...',\n",
       " \"@united How does United refuse to reissue a $400 lost voucher when their plane didn't take off due to mechanics? #badcustomerservice\",\n",
       " '@united also during the run I was instructed to do, I shattered my computer. http://t.co/oAflfr7WXB',\n",
       " \"@united yes, we've been with the agents for the last 50 minutes. One of the agents have been very rude, but thankfully Ladan has been nice.\",\n",
       " '@united iah to charlotte. Baggage claim rep latrice h. #customerservice non existent, Ignored customer then inappropriately touched customer',\n",
       " '@united - thanks for your help...got me what I need, but its an issue with @_austrian . I guess I sit awhile longer.',\n",
       " '@united @UCtraveladvisor - I would have loved to respond to your website until I saw the really long form. In business the new seats are bad',\n",
       " '@united A refund and flight vouchers or another flight on a different airline at your expense for today. 8 hour drive is very inconvenient',\n",
       " \"@united then why have I not received my call back its been 3 days...it's an infant car seat how am I supposed to go anywhere with my child\",\n",
       " \"@United well sitting on the ground 'on time' but waiting for a gate....again #tiredofthis\",\n",
       " '@united \"Airport snow removal method #22...\"\\nKeep up the good work folks, this is where Cessna\\'s become 747\\'s! http://t.co/9v8tMUsJvU',\n",
       " \"@united No, I need you guys to not over book planes. It's not a concern, I'll just travel with someone else moving forward.\",\n",
       " '@united A measly $50 e-certificate is not how you appreciate loyal customers after they wait 3hrs on the tarmac during UA1116. #unacceptable',\n",
       " \"@united When will email address/username sign-on be available? It's been a while.\",\n",
       " '@united Thank you for that. Am I able to claim any interim expenses or is the cost of the stuff up on me?',\n",
       " '@united rude rude',\n",
       " \"@united - Why can't I get a boarding pass for my Austrian Airlines codeshare flight. Rebook incls a 6 hour layover &amp; I am stuck outside sec\",\n",
       " '@united. ..I received on other flights. #united  truly breaks guitars. #unitedbreaksguitars #wantmymoneyback',\n",
       " \"@united just flew to #TelAviv paid $100 from a third suitcase which didn't even make it on the plane! Besides for the impolite service...\",\n",
       " '@United  My bag is still in Colo Springs. I am disabled and have to search an unfamiliar airport and look for my bag. Not a good outcome',\n",
       " \"@united Shame that there's no flex to tickets transfer rules.  Even calling from Neurosurgery ICU isn't enough!\",\n",
       " \"@united No. Denver said they don't handle baggage that made it to Colo. Springs.  They gave me an 800 number to call. No help there either.\",\n",
       " '@united you guys need some serious training in customer service. Too many better options to put up with the way you guys handle ur mistakes',\n",
       " '@united once he found out we had a problem he avoided me like the plague. Was told \"we can\\'t find a supervisor.\"',\n",
       " \"@united ZCC82U Cancelled Flight flight 16h in advance??? Need connect flight reschedule so the link isn't helping. Help!? Gf waited months to see me.\",\n",
       " '@united I will not be flying you again',\n",
       " \"@united in addition, my first flight was delayed an hour and I'm arriving at my destination 8 hrs Late Flight.\",\n",
       " '@united I flew United last month and the experience was AWESOME!',\n",
       " '@united our travel booked thru United group dept. Okc ticket agent less than willing to help with our connection in LAX.',\n",
       " '@united v upset with your disability  \"services\". When I told one of your employees I was carrying medical equipment she was very rude.',\n",
       " \"@united thnx for quick reply but don't think you can assist. Our intl grp will be put to considerable inconvenience today.\",\n",
       " \"@united wont transfer flight ticket to accompany an 11 yr old who's active military mom had to have emergency brain surgery? WOW!!\",\n",
       " '@united @getmeontop 7 WEEKS Late FlightR AND I STILL HAVE NOT RECEIVED MY MILES FROM THE MileagePlus Gift Card $150 STARBUCKS CARD I HANDED OVER!!!',\n",
       " \"@united as a 1k, I'm always hoping for improvement.\",\n",
       " '@united not yet. I complained about the guy who checked my luggage in as he was throwing the bags around. Unfortunate coincidence I hope?',\n",
       " \"@united OKC ticket agent Roger McLarren(sp?) LESS than helpful with our Intl group travel problems Can't find a supervisor for help.\",\n",
       " \"@united mobile apps need construction from the ground up for each OS category.  It's expensive to get right .\",\n",
       " '@united another fail for the United ticket agents in OKC. LESS than helpful and could care less about our problems. American here we come.',\n",
       " '@united 441, which also had 1 working WC in coach. Good thing this bird landed ahead of schedule. I have to use the WC stat.',\n",
       " '@united I just sent an email to Customer Care, telling them I may have to break up with you 😢. I sincerely hope they can help me!!',\n",
       " \"@united silly I'm flying delta today. Your united club staff and attendants are surly and unhelpful and always seem bothered by pesky folk\",\n",
       " \"@united What is your phone number. I can't find who to call about a flight reservation.\",\n",
       " \"@united well, you can't fix me missing my buddies 30th bday because of negligence but you can attempt to make up for it.\",\n",
       " \"@united why am I to believe they will help when customer service couldn't? Like I said, I want a number to someone who can fix what you did.\",\n",
       " '@united they helped me at the baggage service desk.  Said bc TSA screening was down in FLL not all bags made it but bag will be in EWR @ 12',\n",
       " '@united Mobile boarding pass disappeared from phone while standing in line to board. Second time this week... Hmm.',\n",
       " '@united for the record- Rozana at Newark was lovely and helpful. #choosekind',\n",
       " '@united thx for update',\n",
       " '@united Had to explain to a very over eager flight attendant trying to ask about my vision that my @ccicanine was not a guide dog!',\n",
       " \"@united what's the point of asking for details about a #servicedog when you book if your flight crew doesn't read them? (Continued)\",\n",
       " '@united I tried but no one was available in bogota and everyone was rude in Houston. I was stuck for 35 hours because of you guys',\n",
       " '@united #worst2unitedflightsever UA 236 LAS to IAD 2/24 mechanical problems again - took off - had to land for fix - delayed again #wtfodds!',\n",
       " '@united despite my bag not making it to Newark good informative email tracking updates help!',\n",
       " \"@United. What's going on with UA 236?  outbound flight last thurs was delayed 4hrs How long will this delay be? #worst2unitedflightsever\",\n",
       " '@united #worst2unitedflightsever UA1429 IAD to LAS 2/19 mechanical problems - switched aircraft delayed 3.5 hours!',\n",
       " '@united crashed trying to check in.',\n",
       " '@united Wow. What a deal. Again, 30+ plus seats available. Easy change to make a customer happy.',\n",
       " '@united on 768 to Logan - boarding gong show due to lax carry on enforcement. Bins full of coats = no room for bags. U need a better system!',\n",
       " '@united Blackmailed me into paying £130 extra or having my return ticket nullified in San Francisco Airport. Terrible service from rep #scam',\n",
       " '@united disappointed that u didnt honor my $100 credit given to me for ur mistakes. Taking my business elsewhere  ✌️out.',\n",
       " '@united ua1673 still waiting! Supposed to depart 9:08',\n",
       " '@united it was credit from my last trip that never came in the mail!',\n",
       " \"@united ok it's now been 7 months waiting to hear from airline. I gave them quite a bit more than the 30 days requested! Terrible service\",\n",
       " '@united does this process ever end? Still waiting for the reply since 2 months #pathetic #customerservice',\n",
       " \"@united What's going on with your website? I'm Flight Booking Problems three tickets today and I've been booted off the system umpteen times.\",\n",
       " '@united how do I get my account number if your website says email is unavailable?',\n",
       " '@united I received 1 bag last night, I am still missing the other one.',\n",
       " \"@united @simonroesner you'll need to upgrade the seats too, even in economy plus it's like sitting on a concrete bench.\",\n",
       " '@united 2nd flight also delayed no pilots! But they boarded is so we can just sit here! #scheduling',\n",
       " \"@united but it's hard to stay upset at someone when they at least TRY to show remorse.\",\n",
       " \"@united By the way, a simple apology goes a long way, even if it's a hollow one. It's obvious that you don't care about me or my well-being,\",\n",
       " \"@united This isn't a one time thing either! It's a shocking pattern of repeated neglect and disrespect.\",\n",
       " '@united Fingers crossed &amp; its all intact. Very disappointed with this experience as before this we were actually saying we enjoyed using you',\n",
       " \"@united It's an incredibly easy fix, but you would rather stay in your comfort zone, while I get forced out of mine.\",\n",
       " '@united ours in July. You have ZERO excuses for this. You have an out-of-date system that causes problems like this.',\n",
       " '@united Everyone around us is sitting with their friends and family members. They booked their tickets in October and December. We bought',\n",
       " '@united Not sure what you are talking about. She is going on nonstop flights. SNA to SFO and then SFO to EWR.',\n",
       " \".@united it will be because I'm moving to @AmericanAir because of @united talk, no service\",\n",
       " '@united I asked a legitimate question about systemwide vs. localized problems, and got back an unreLate Flightd copy/paste. You can do better.',\n",
       " '@united what time? Who can I call. I need my skis. I will go to the airport and get them. No more faith in United.',\n",
       " '@united I see you guys are at it again. Amazing how one company continually makes mistakes yet fails to be held accountable for their error',\n",
       " \"@united Yeah sorry but there's always a problem with United. And you have an international reputation for having problems.\",\n",
       " '@united but then again, maybe the @BBBNE_SD_KS_IA would care more to hear what went on than whoever listens to issues you caused',\n",
       " '@united I wonder if sharing all this on FB and insta would produce a number. 140 characters really limits my story telling.',\n",
       " \"@united so you're telling me there is no number to call after being left in an airport because of a negligent pilot and staff?\",\n",
       " '@united Could this email be resent as it doesnt appear to have arrived.',\n",
       " '@united you have to follow me in order for me to DM...come on now',\n",
       " '@united $25 United coupon to make up for broken entertainment system on a 9-hour flight, seriously? #Ridiculousness #learncustomerservice',\n",
       " \"@united So they didn't drop my bag overnight &amp; now I'm leaving for a week. This is why you were supposed to hold on to the bag....\",\n",
       " '@united I did DM the details but still no response. I have to book today.',\n",
       " '@united not able to DM you my confirmation number',\n",
       " \"@united I've sent the message, let me know if you got it. I'm not very twitter-literate. Also, is he REALLY going to be stuck for 18hrs?\",\n",
       " '@united very unhappy at no response to complaint emailed on 2nd Feb ref.8441639. Awful customer service!',\n",
       " \"@united private jet would have been cool! Do does not work. I'll try again\",\n",
       " '@united we were not given the option of using our United TravelBank in a recent Flight Booking Problems! Any help in using or recouping these funds? Thanks!',\n",
       " \"@united common!! keep your paper work ready and don't delay our flights(#1585)and meetings @ChooseChicago\",\n",
       " \"@united yep that's correct, I got an email at 12:30 am that the flight was Cancelled Flightled, doesn't matter now flight into atl is delayed, thx\",\n",
       " '@united 1k and had problem getting out of FLL to IAH  sent DM to you about making my connection  please let me know',\n",
       " '@united thanks, just sent :)',\n",
       " \"@united I'm grounded in Montreal with ua3659. I am missing my connection ua3417 to St. Louis. Can you help,Do you have a private jet for me?\",\n",
       " \"@united I'm so frustrated and nervous because of this.\",\n",
       " '@united are the ones who make it difficult for me.',\n",
       " \"@united I'm not a child. I'm someone who has an issue with flying and prepares ahead of time to reduce the distress caused by planes. You\",\n",
       " '@united how does it get Cancelled Flightled 10 hours before take off?',\n",
       " '@united This ALWAYS happens with you guys, and it makes traveling incredibly stressful and uncomfortable. Is that good business to you?',\n",
       " \"@united So what does someone with severe anxiety do when the one person who can help him isn't next to him?\",\n",
       " \"@united I'm seeking to go 2 client. B/c u cant get me there I need refund. I filled out form not confident it works if past is an indication\",\n",
       " '@united has unrivalled access to #California with flights to the U.S. from 7 UK airports, with nonstop or one-stop connections year-round',\n",
       " '@united Luckily I made my flights this time but was so disappointed with the lack of communication :(',\n",
       " '@united checking to see why flight 3466 (atl-ord) got Cancelled Flighted?',\n",
       " \"@united service so far has been horrid. We wanted to end the trip on a high note. Guess that's not an option.\",\n",
       " '@united Booked a flight home over 7 months ago and requested seats together for my fiancée and I. We got 2 middle seats. UNACCEPTABLE. The',\n",
       " '@united YOU GUYS ARE HORRIBLE.',\n",
       " '@united thnx for the info',\n",
       " '@united Why do I have to pay $ 17 for wifi with an international business ticket?  #pennypincher',\n",
       " \"@united ok. To top things off, you've lost my luggage. Could you get ANY worse??? #UnitedAirlines\",\n",
       " '@united kudos for not Cancelled Flightling flights from DFW this morning.   United usually first to panic...',\n",
       " '@united AND my luggage has been broken!! #youcouldntmakethis up #brokenwheel',\n",
       " \"@united maybe one day you'll be the one quoted on http://t.co/mJkpgVXmPC\",\n",
       " '@United flight delayed-no one remembered to turn the heat on flight 559 leaving ORD-seriously???',\n",
       " '@united another awesome new plane flight 1584 and extremely nice Captain Steve Connolly.',\n",
       " '@united to speak to a real person to get this resolved politely and efficiently. (2/2)',\n",
       " \"@united I hadn't filed a refund claim as I was told there was no charge by your DM. This is disputed by my bank, hence why I would like(1/2)\",\n",
       " \"@united did  bags make it on the flight out of iad? second day without clothes is pretty inconvenient. We're pretty curious #UnitedAirlines\",\n",
       " \"@united Every United flight between Saipan and Guam is an adventure! You never know when @CapeAir's old plane will be operational :)\",\n",
       " \"@united hence why I've been asking for the customer service phone number so I can speak to a real person to get this sorted out\",\n",
       " '@united did our bags leave Washington yet? That would be convenient seeing as we left there a day ago. #UnitedAirlines #lostluggage',\n",
       " \"@united according to your DMs, I'm not owed a refund. please may I be provided with a contact number before I go to my bank to file claim\",\n",
       " '@united about 3 hours ago. I need to work out if my bag can make it to my hotel here in time or if it will need to go elsewhere.',\n",
       " '@united pls properly train your agents. Requested to speak to 1k customer service &amp; was transferred to a dead end. Not even open at this hr',\n",
       " '@united Thanks for remembering to load my bag onto my connecting flight. Oh wait you forgot. Iceland should be fun with no clothes....',\n",
       " '@united Thank you for the cheese platter and abundance of entertainment options. Time just flew by.',\n",
       " '@united customer service is atrocious! You have disrupted my travel plans, you have lost my luggage and it is impossible to TALK TO A HUMAN',\n",
       " \"@united terminal at MIA should have food open before 5am esp when there are flights at 6am. Two hours early like recommended. Can't eat.\",\n",
       " \"@united it was UA flight 1001! Now I'm currently stuck in Portland because I missed my ride because of the 3 hour delay. #GetMartyHome\",\n",
       " '@united has not responded to my various requests for contact numbers, does anyone know the UK customer service number for #UnitedAirlines',\n",
       " '@united how we looking on getting those bags to Lusaka',\n",
       " \"@united Could you update me on the suitcase please? The online and phone tracking told me nothing. I was told I'd have it back yesterday!\",\n",
       " '@united thank you. Been trying for two days to set this up.',\n",
       " \"@united just 1 last thing. U guys shouldn't be charging $ for drinks on a transatlantic flight\",\n",
       " '@united LHR arrival lounge #fail. Waited 20 mins for shower then left to find hotel. U know how many passengers u carry. Planning???',\n",
       " \"@united completed form but doubt it's any use. UA doesn't care. 6 day vacation will now be 5. Sure UA won't feel responsibility for that...\",\n",
       " '@united Definitely a compliment! I really thought my bag was lost after it was sent on to another airport. In the end I am a happy customer',\n",
       " '@united thanx so much. You followed through and emailed me a $1000 ticket voucher. #unitedairlines they do care',\n",
       " '@united this will definitely be a trip to remember EWR-STI second of the season, first on seat 35A because it pays to be loyal!',\n",
       " '@united nope, they told us it was time for them to go home and to sleep at the airport. Even though they assured us we would get a room...',\n",
       " '@united ..back for the expensive holiday, he worked all year to pay for, that you RUINED! We want compensation &amp; his original case back!',\n",
       " '@united thanks United I understand that. But he would actually like his own bag back! What have you done with it?! He also wants the money..',\n",
       " '@united frankly worse customer service ever. Problems will happen, how you deal defines a company. Never again United.',\n",
       " \"@united It's still a valid flight. Just seems strange to delay for Late Flight inbound crew,  7 hours from now, when the plane is already here.\",\n",
       " '@united Thanks for the lack of help and the canned response from the 1K desk!',\n",
       " \"@united   It's too bad UA has had another unforeseeable operational issue on my return flight.\",\n",
       " '@united if I pay you $25 and $35 for my luggage to be delivered when I arrive. Why should I have to wait 3 additional days for its delivery?',\n",
       " \"@united so 8 hotels for 32 people but feel like we are being held hostage because someone has our boarding passes so we can't leave! #FAIL\",\n",
       " '@united you are one great airline ❤️',\n",
       " '@united Outbound 2 bags 70 lbs bags Returning home 1 bag 50 lbs. What is your logic? And WHY? Am I writing to a Machine? Human HELP required',\n",
       " \"@lindaSWC @united:  We don't like to hear you had a poor experience. Please share details w/our Customer Care team http://t.co/HIsc4NdMgZ.\",\n",
       " '@united no Cancelled Flightn just left us to fend for ourselves when flt came in Late Flight. Getting runaround for 3 hrs. Each employee blaming  previous 1.',\n",
       " '@united okay ase24766m. Find our luggage.',\n",
       " '@united The agent that met us at the gate said any issues w/delays on UA1116 would have to be taken up online...',\n",
       " '@united But they are not... lady one phone says its in tel aviv. Tel Aviv united says its in Newark. No one knows and I have nothing...',\n",
       " \"“@united: @MelanieSpring We'll see what we can do. ^KN” We are running! Most of this plane is running. Thanks for the help!\",\n",
       " '@united yes, but still now answers. Many have not had their luggage for 3 days! Unacceptable!!',\n",
       " '@united what is that going to do for you? Nothing just like you always do',\n",
       " '@united plus what about food? And taxis?',\n",
       " '@united you are offering us 8 rooms for 32 people #FAIL',\n",
       " '@united 32 people getting pretty tired about no action on solving the problem plus missing a day of vacation and skiing',\n",
       " \"@united The bright side would be keeping the promise that was made to me. Hope you're having a good night. Thanks.\",\n",
       " '@united I take back the comment about your team here working hard to help us A so far no solution for a hotel or food or anything #fail',\n",
       " '@united on 4124 arriving two hours Late Flight into CLT. Now sitting on the tarmac while they move a plane from the gate. Unhappy customer.',\n",
       " '@united airlines is the absolute worst. They have no idea what they are doing. #neveragain #UnitedAirlines',\n",
       " '@united Thanks; might want to fix this line: \"Our Customer Care team is currently responding to most inquiries within 7-10 business days.\"',\n",
       " \"@united we just flew with United from AUS (Austin Bergstrom) to Cancun Intl. Best flight ever! The 737's are not too big... Not too small!\",\n",
       " \"@united it's frustrating, as a frequent flyer, loyal since Continental. Upgrade equals paying 3 times or more on top of purchase ticket.\",\n",
       " \"@united at its worse. Can't figure how to pack plane, screws up connectns then claims no hotl rooms in San Fran for stranded pax. Way to go!\",\n",
       " '@united 4 passengers after a 2 hour delayed flight left with no hotel at the end of the night @ hou airport. Wtf??!! http://t.co/ZfqMpGXVS6',\n",
       " 'Hey @united why does the flight from IAH to POS leave so Late Flight, and the one back to IAH so early? I rather get to POS earlier',\n",
       " \"@united Lost bag process is broken. Agent promised they'd call &amp; hold my bag when found. Now they're waking me at 3am w/ delivery. #fail\",\n",
       " '@united the people at the counter have been very helpful. As you can see nobody is there. Flight to Austin 10:55 and still sitting here.',\n",
       " '“@united: @Darquenloveli We regret to hear this. Please let us know if you need assistance. ^KN” I was finally able to secure my seat. Thx',\n",
       " '@united good to know you will open the closed doors for \"premier passengers\" after safety briefings on delayed flights. #annoyed.',\n",
       " \"@united yea get me to phoenix already. Delays all day with you people. It's bullshit.\",\n",
       " \"@united If it's any consolation, your staff was stellar. Just not the hour+ delays I encountered with every one of my 4 flights.\",\n",
       " \"@united flight ua3576, gate b1. And tell ray I somehow made it on to the 736 flight out of IAH and didn't have to wait for the 917 one. :)\",\n",
       " \"@united that's unfortunate. The @Tumitravel was an xmas gift and it looks like a razor ripped right through the front pocket in the picture\",\n",
       " '@united But thanks for asking',\n",
       " '@united Lost bags. Cancelled Flightled flights. Delhi call centers. Poor United staff spread thin and stressed. You name it.',\n",
       " \"@united Yes. Doesn't make that mistake any less absurd. Doesn't change the fact that I'm very inconveniently missing my luggage tonight.\",\n",
       " \"@united I'm constantly having challenges with upgrades &amp; charges. In order to prevent DVT I have to pay an addtl $180 http://t.co/xC6jQ70r7B\",\n",
       " '@united In ORD, waited 20 min after crew members left before gate items came. Flight attendant sarcastically said good luck and walked away.',\n",
       " '@united you too!',\n",
       " '@united is my favorite airline.',\n",
       " '@united seriously #fail on making strangers share a room',\n",
       " \"@united we needed them here asap. Will they make it on today's flight?\",\n",
       " \"@united agent split up my reservation? Now can't Cancelled Flight and refund credit for 2wks? Why\",\n",
       " '@united why would they make me share a room?',\n",
       " \"@united tried calling too, but w/25 min phn wait means we'd miss options anyway\",\n",
       " '@united can you ask your guys with flight 1146 to BWI to wait for us to get off a delayed flight from San Diego? Pretty please?',\n",
       " \"@united we're still waiting to find out your rep is working hard - most upset about having to wait to tomorrow pm to get to mammoth\",\n",
       " '@united for an early flt, I think a call is appropriate. Yes, reviewed and nada avail until next day. Expect full refund',\n",
       " '@united again I ask, who can I call to get this fixed? Tweeting me BS questions to stall only makes things worse. Phone number please.',\n",
       " '@united Yo yo yo stuck on the tarmac for over 2 hours at @fly2ohare ... Going to miss my ride at @flypdx help please! #HelpImStuck #United',\n",
       " \"@united it's highly unprofessional for you to overbook a flight by 12 seats &amp;feel that I should rearrange my schedule for your mismanagement\",\n",
       " \"@united well, considering every agent before claimed they were unable to help with everything else, why waste more time to hear 'call corp'\",\n",
       " \"@united man I can't wait to book my ticket now! Thanks JP you're a life sabe\",\n",
       " '@united Ice, which I totally understand. But when a large number of us are facing 15+ hours of time and overnight Cancelled Flightations it seems like',\n",
       " '@united flt 1249 Cancelled Flightled and I get email @3:30 AM? What happened to courtesy phn call? Had to book diff airline &amp; city',\n",
       " \"@united tag numbers 0016 964012, 0016 964077, 0016 964078 - let's find these bags.\",\n",
       " '@united better train your support staff with appropriate decorum, consider revisiting your terrible \"provide a death certificate\\' policy',\n",
       " '@united Well the bar is set low! You guys are really good at the apology game! What will change? When will u guys learn?',\n",
       " '@united you guys continue to impress me in Houston. http://t.co/cIh1qNllcM',\n",
       " '@United I have no way of making phones calls... Need to handle via Twitter/email/web. Thank you!',\n",
       " '@united Your website deserves a new design. #html5 FTW!',\n",
       " \"@united thanks for effing up our holidays - we're missing a full day of skiing due to your baggage team's incompetence at @FlyYOW\",\n",
       " '@united agent helps the person in front of me.  Finishes up with them and then walks away.  The guy behind me is as shocked as I am.',\n",
       " '@united Connection at ORD was on the exact same plane again. Checked carry-on was apparently taken off &amp; left in Chicago. Pretty ridiculous.',\n",
       " \"@united Not encouraged that I'll have my CPAP tonight.\",\n",
       " '@united Yes. Did file a claim as soon as the carousel stopped without my bag on it. Got an email that its found but not sched for delivery',\n",
       " '@united  Delay DEN-CLE because they have to manually enter baggage tags? Really? Worst cust service day for this 1ker. #friendlyskies??',\n",
       " \"@united Why tell us flight is delayed, then tell us it's on time again with 20 min to spare? Don't say it's delayed unless you're sure!\",\n",
       " '@united yes in Lusaka, Zambia. My guess is the bags never made the plane at IAD.',\n",
       " \"@united Late Flight to Denver, Late Flight to Newark...let's not even get into the disaster that was checking bags. Unacceptable.\",\n",
       " \"@united has once again let me down. Don't think I've ever flown with them and not had problems. Worst airline period.\",\n",
       " '@united yes I filed a claim &amp; hope to receive by luggage by 2am. Ridiculous as I had to purchase items to go to sleep &amp; no reimbursement.',\n",
       " '@united UA938 ORD-LHR.  bags are being loaded 30min Late Flight. Frigid air into cabin! Plane feels like falling apart! Upgrade long haul fleet!',\n",
       " '@united Flight attendant never served me my beverage (tea), and not once checked up on me. What gives? #ua6076 #notcool',\n",
       " '@united load balancing system apparently down #systemwide - major impact on all #united airlines flights. Was this a #cyberattack?',\n",
       " '@united After our unscheduled refueling stop and missing 2 connecting flights we r home n looking 4ward to our bed and a big PB&amp;J sandwich.',\n",
       " '@united @AmericanAir spent hundreds to rectify the situation and you guys go quiet',\n",
       " '@united UA276 sitting at EWR nearly an hour after sked.  Pilot says computers down but no clue when we will leave.  Can you help?',\n",
       " \"@united @AmericanAir so that's it? It just ends there? Come on! I traveled for literally an extra day and a half because of this!\",\n",
       " '@united Made the upgrade list. Will fly 1st tomorrow (for 40 min) for the first time ever! 🙌 #StatusMatchPaidOff http://t.co/ATfRKp6goY',\n",
       " '@united not just refunded, but for those of us who are on vacation to get a free room night to make up for making us sleep in DIA',\n",
       " \"@united Thanks for the reminder. It's been a fun ride. http://t.co/pPVA4Rch9f\",\n",
       " \"@united I received my luggage that also looked to be left in the snow when I arrived. I'm asking for all 50 people to be refunded.\",\n",
       " \"@united updated A320 aircraft has wifi and device entertainment but no outlets. I don't get it. How can I charge devices?\",\n",
       " '@united was no one between the scan and inside the plane. I just asked the people in line around me where the plane was going',\n",
       " '@united 5 gate changes, two delays.  Even the crew thinks the airline sucks',\n",
       " \"@united I'm very frustrated and have wasted 2 days now due to your equipment failures.\",\n",
       " \"@united computers are down but you stopped giving updates and took my flight info off the app. That's just ridiculous keep people updated!\",\n",
       " \"@united Soooo, it's been 15 days and you've offered no response. So I assume poor treatment by gate agents is the norm now?\",\n",
       " '@united Terrific. Many thanks. Looking forward to being back on UA tomorrow. Had a great flight up to Vancouver.',\n",
       " '@united Calls to 800# resulted in 2hrs of hold time &amp; 2day wait to check suspect code share fare. Nothing investigated—my time wasted (2/2)',\n",
       " \"@united It's taken ~3 weeks for Cust Care to respond to Case #8477733, requesting a refund for wi-fi not working. Where can I get an update?\",\n",
       " '@united I appreciate your efforts getting me home!',\n",
       " \"@united That's correct—I've spent hours trying to book online only to receive an error when clicking final purchase button. (1/2)\",\n",
       " '@united Today was not your finest. All could have been prevented by one gate agent advising 200 passengers.',\n",
       " '@united  what is the real deal with the delay on flight UA 1032 from Denver to Vegas?',\n",
       " '@united UA63 from Madrid arrived no agent mass confusion we sent to and fro by 3 UA employees. MaryJo was rude and unhelpful.',\n",
       " \"@united system failure again = bad trend.  Software projects are like flying an airplane; there's no such thing as an emergency takeoff.\",\n",
       " '@united lots of reports of system failures delaying flights over the last week. Currently sitting on the tarmac at OGG for over an hour.',\n",
       " \"@united despite shaky connections, looks like I'll get home tonight. Great job, @united - was touch and go for a while..\",\n",
       " '@united http://t.co/hj5kq82Chn, however, is completely under your control—the price was and still is displayed on http://t.co/hj5kq82Chn.',\n",
       " '@united can you tell me how to file a claim for clothing that had to be purchased?',\n",
       " '@united comically on the return flight from ASE there were two United flights boarding at adjacent gates and not clear which plane to board',\n",
       " '@united GRK13575M is the file reference',\n",
       " '@united we would...how do I contact you to discuss? A few poor experiences with customer service but would give it a shot!',\n",
       " '@united UA 746. Pacific Rim and Date Night cut out. Not constantly or randomly, but one spot, repeatably.',\n",
       " '@united Been trying since 1230 to file a report.',\n",
       " \"@united I send an email about my bad experience and you send back a generic response.  Yet another reason why I'll never fly with you again.\",\n",
       " '@united here is the ticket # 0162424965446 please refund my unnecessary upgrade fee',\n",
       " \"@united is horrible!! They lost our carseat and expect us to use a loner carseat, safety regulations say it's illegal to use a used car seat\",\n",
       " '@united thank you.',\n",
       " '@united: I don\\'t care that a @thehipmunk link showed me a \"wrong\" price on your site—it\\'s your site &amp; responsibility to ensure correctness.',\n",
       " \"@united He needs to get to home the 24th, they're telling him it'll be the 25th @ night. Is there compensation or anything that can be done?\",\n",
       " \"“@united: @mllovelace The baggage fee is waived for Premier members. Please see http://t.co/u6Duw27mDE. ^JP” what's the point of membership?\",\n",
       " '@united wonderful bag claim people - finally have my bag. But why did I catch earlier flight? Original flight just landed. #wastedtime',\n",
       " '@united Dmed you. Thank you',\n",
       " \"@united thanks we'll be in touch!\",\n",
       " \"@united Thanks to Karen Salisbury at IAH for amazing customer service!  Found my daughter's bag lost on UA1516.  Made her day!\",\n",
       " '@united 3 days Late Flightr and my bag has not left IAD, United is not helping at all. Everyone tells me a different story',\n",
       " '@united I left my comment with customer care. Thanks for contacting me.',\n",
       " '@United how do you lose a gate checked bag DEN to ORD? Direct flight. Ugh.',\n",
       " \"@united caught earlier flight to ORD. Gate checked bag, and you've lost it at O'Hare. original flight lands in 20minutes. #frustrating!\",\n",
       " \"Yes!! Thanks so much!!! 💜“@united: @whitterbug We see you spoke with our Reservations team and they've reinstated the flight. Thanks. ^EY”\",\n",
       " '@united captain \"on behalf of the front office, welcome on board.\".... Never heard that before. I laughed...hard.  #funnycaptain',\n",
       " '@united Can you please follow for a Dm on a missing bag?',\n",
       " '@united These are great fares!!!!!',\n",
       " '@united i left an item on the plane and have been calling non stop and no one has been answering can you please help',\n",
       " \"@united awesome I'll book my next Christmas vacatinn this December any other ways you want to devalue mileage plus.\",\n",
       " \"@united what's a good number to call to speak with someone about how you can fix what you did to 50 people and their luggage on Saturday?\",\n",
       " '@United THANK U! Secured room for the night Thx to VERY helpful customer service rep N. Dorns.. I thanked her.. Can u 2? #goodenoughmother',\n",
       " \"@united where's my damn bag??\",\n",
       " '@united well someone should tell that to the employees at the Denver baggage claim. Still no bag!!!!',\n",
       " \"@united diverted and missed our connecting flight. Was just told that my bag is on it's way to MSY. If you only had people that cared\",\n",
       " \"@united Male agnt in LAS threatens Canadian cust when cust takes pic of him at gate after agents announce can't help rebook. #friendlyskies?\",\n",
       " '@united @Apollochplayers we just want to go home tonight - why did you Cancelled Flight the last leg of our reserv. w/out our permission??! #PH6RPS',\n",
       " '@united  Stressed and rude agents. Overwhelmed by delyd flight LAS-DEN 1657. Yelling at several people. Not pretty. This is #friendlyskies??',\n",
       " '@united landed in Boston at 9 last night.  The 15 hours of traveling was rough tho.',\n",
       " '@united FAIL You Cancelled Flightled our flight frm GJT and then used our reserv home to IAH (from SEA) for reFlight Booking Problems w/out OUR PERMISSION!! #PH6RPS',\n",
       " '@united has made my no fly list. Other airlines wait when connector Late Flight. Stuck in IAH.',\n",
       " '@united also, the mere fact that I have to go online to issue a statement vice calling and talking to some directly is one good example.',\n",
       " '@united thank you. I flew into Newark from Vail/Eagle.',\n",
       " '@united  i have a weekend of dealing with your company that would say otherwise.',\n",
       " '@United now what?!? http://t.co/5hpSqVRjK8 flight was gone when I got off plane! #BusinessTravel #goodenoughmother',\n",
       " \"@united the proper response: sorry for your wait, what flight # were you on so we can look into the issue. That's how @Delta would handle.\",\n",
       " '@united your customer service is terrible! Stood inline 3 hours no flights and 4 hours Late Flightr still no bag#disgutedindenver',\n",
       " '@united So you are inadequate by accident?',\n",
       " '@united @reebok @rockinwellness @ Denver International Airport https://t.co/tKVmHBkeC3',\n",
       " '@united Thank you for responding so quickly with a helpful tool! @dustyob',\n",
       " '@united boarding time shows 35 min and your gate agent started at 45. showed up at 4:00 and they had to check bag. http://t.co/zCBJyo6lsN',\n",
       " \"@united Agent in LAS letting 20 customers know they can't help them rebook delayed flight to DEN #unfriendlyskies http://t.co/QuzVmK2rTR\",\n",
       " '@united empathizes w/ my disappointment that 1stClass flight w/nonworking entertainmnt is worth $50. #UnFriendlySkies http://t.co/lOecO4gmvd',\n",
       " \"@united ...and when that doesn't work...\",\n",
       " \"@united searched for mileage tickets to BOM couldn't find a single one is saver awards - I see how you play.  Earn miles but can't use them.\",\n",
       " '@united flight arrives 30 minutes early, but then have we to wait for an hour for our bags.',\n",
       " \"@united That's not the issue. The fact that no one even called (despite promises) to confirm the bag's location is.\",\n",
       " '@united still waiting to hear back. My wallet was stolen from one of your planes so would appreciate a resolution here',\n",
       " '@united or @flysaa has lost my baggage… heard different things from different employees of @united. @flysaa has said nothing.',\n",
       " '@united cs thinks that miles can repair the damage done, it will be interesting if they travel in @united and exp the worst flight ever!',\n",
       " '@united I am signed up for notifications. This is the first trip I was not updated on. Not sure why this happened.',\n",
       " \"@united Thank you. Took care of everything and made it right. That's the experience I'm used to. Opened the app to find flight changed.\",\n",
       " \"@united that is not in line with your responses here. And now I'm waiting until tomorrow morning because all the flights are overbooked.\",\n",
       " '@united I took the exact same aircraft in to LAX 3 days ago. It fit, no problem. The agent today told some nonsense about a policy change',\n",
       " '@united your helpful agents in Club helped.  I am just out baggage fees and a night of my life.stop doing business with @SilverAirways',\n",
       " '@United never heard of this? http://t.co/QDebyaHqfM',\n",
       " '@SouthwestAir doesn\\'t charge ticket change fees. Do they not incur the same mysterious \"costs\" that you incur, @united?',\n",
       " '@united Exhausted &amp; frustrated! Link to a FB post abt my travel issue https://t.co/LaRKC8vc4s',\n",
       " \"@united I was denied getting on the plane w/o getting the chance to prove it fits. I'm not a rookie. Read my bio.\",\n",
       " \"@united that's exactly the point. It fits. I'm premier access. Boarding group 2. This was a return ticket. I've been doing this for 15 yrs\",\n",
       " \"@united I've never experienced worst customer service. Placing blame on codeshare partners and not assuming responsibility is unacceptable\",\n",
       " '@united currently on board so not now. Check in was terrible. Staff rude. Expensive luggage thrown around etc.',\n",
       " '@United fucked up, then voided my ticket, and KEPT MY MONEY.  Not even an apology. I will never fly with your airline again. #UnitedAirlines',\n",
       " \"@united has the WORST customer svcs! This Kevin rep at call center must be investigated. My baggage's lost and there's no help but argument!\",\n",
       " '@united should NOT sell tickets for @SilverAirways on http://t.co/onhXHCO6bK.  has terrible service and UA staff cannot reach Silver',\n",
       " '@united Just got demoted from Gold cuz my hubby got 100% of the PQD, tho there were enuf $ spent for 4 Golds.#spousal.discrimination/angry.',\n",
       " '@united Thank you!',\n",
       " '@united My favorite way to travel! Thank you! http://t.co/vGN2X1ckg0',\n",
       " '@united yes lots. You have terrible customer service at Newark and despite raising a complaint there we were ignored hence the tweet',\n",
       " '@united Lovely new plane from LGA to ORD but no power outlets?',\n",
       " \"@united but if i tweet the ID number, won't that reveal my home address to anyone on the web?\",\n",
       " '@united I filed a delayed bag report on Saturday! my flight was Cancelled Flightled and I never went anywhere!',\n",
       " '@united i need it there before she lands so she can have the EWR baggage claim file to have it sent but the employee has not droppeditoffyet',\n",
       " '@united rarely ceases to amaze...for the worse.  i hope this is the last time i \"have\" to fly with you.',\n",
       " '@united iCloud it is not there yet -- PLEASE HELP 917 703 1472',\n",
       " '@united I did... no response back',\n",
       " '@united this is atrocious customer service.',\n",
       " '@united #albanyairport delayed departure to check bags at gate claiming space filled and walk on to open spaces a delay #poorcustomerservice',\n",
       " '@united you Cancelled Flighted our flights for no reason &amp; now we have been on the phone for AN HOUR on our vacation. Why?',\n",
       " \"@united @dfpietra THAT'S your response?  Shaking my head back and forth with a tsk. You can do better-from customer service to your apology\",\n",
       " '@united of course I did. The bag should be here by now :( #frustrated',\n",
       " '@united you are the worst. I will avoid you like the plague.',\n",
       " '@united is the worst airline in the world.',\n",
       " '@united someone needs to DM me and resolve this correctly. Extremely disappointed with the service I received. Terrible management.',\n",
       " '@united Premier Gold desk changes flight. Waives fees. Gives me wrong flight. Now Jana Acosta in Salt Lake refuses the same service. Angry.',\n",
       " '@united I will give you one thing, you are consistent but unfortunately you are consistent at not doing your job well #AlwaysDelayedOnUnited',\n",
       " \"@united I will but right now I'm to angry\",\n",
       " '@united first time flying with United. Also last time. #terrible back to @VirginAtlantic for me. #branson #virginatlantic #UnitedAirlines',\n",
       " '@united I used to be a committed #ContinentalAirlines flyer until merger. I remember now why I switched to @SouthwestAir #CommunicationFail',\n",
       " '@united the least you could do is offer me a ticket in coach instead of just Cancelled Flighting my reservation because of your glitch!!! #notfair',\n",
       " \"@united I'm saying I made the flight but with poor/non-communication, unaccounted for lost time &amp; lots of frustrated flyers standing around\",\n",
       " '@united I think DM would be better',\n",
       " '@United gate announcement states delay due to maintenance yet app says Late Flight arriving aircraft  tell the truth! @unfriendly',\n",
       " \"@united you are easily the worst company I have ever experienced. You have lost someone's personal possessions &amp; you couldn't care less!....\",\n",
       " '@united how can your app show arriving aircraft is early but departing flight is delayed due to Late Flight arriving aircraft? @unfriendly',\n",
       " '@united already did that at the airport and 12 hrs Late Flightr its still not here! you guys are really killing me today. trying to stay positive..',\n",
       " \"@united once united's service levels reaches those of Etihad or lets be more realistically Lufthansa then ill consider it again\",\n",
       " '@united really?  Someone called in sick and then someone FORGOT to call a replacement?!  Now an hour Late Flight to take off. #theworst',\n",
       " '@united Asked Flight attendant what typical compensation would be &amp; says we might get free TV. #Unacceptable',\n",
       " '@united has been such a disappointment today. Simply put. Rather unpleased with things currently. Flight delayed; cant wait to just get home',\n",
       " '@united During the same round trip, my NON-English speaking friend was stranded TWICE for 12+ hours each time! Most staff members were rude.',\n",
       " '@united  found a group of people who actually hates people more than ISIS, thats right United Airlines.',\n",
       " '@united Nope. Walked up &amp; down the ORF terminal, &amp; not a United agent to be found. Showed up @ last minute to board us. Many panicked people',\n",
       " '@united thank you',\n",
       " '@united by the time I finally get to Dallas I could have driven with less frustration and cheaper.',\n",
       " \"@united I'm trying to get to my final destination, we need compensation. Just about 2hrs of personal time wasted.\",\n",
       " '@united that guy really has no customer service clue.Could have spent effort clearing bins for rollerboards instead of art projects in mine!',\n",
       " '@united he has no priority and Iove it',\n",
       " '@united Pleased to be a Premier Platinum',\n",
       " '@united how can you not put my bag on plane to Seattle. Flight 1212. Waiting  in line to talk to someone about my bag. Status should matter.',\n",
       " \"@united @campilley hahaha. If they weren't an American company, i would say this was great sarcasm!!\",\n",
       " '@united i think he actually did not like your screen  @campilley 😃😃😃',\n",
       " '@united Apparently they are asking 20 people to off board the plane--how can such a big miscalculation be made?!',\n",
       " \"@united It's a shame choosing #United may be the difference between reuniting with aging friends and never seeing them again #PoorService\",\n",
       " '@united Just checking in again - what is the status of our claim.   It is going on 2 months with no attention to this?   We are very upset.',\n",
       " '@united my flight was delayed due to maintenance in LIT and caused me to miss my connection at IAH to MSY. Can you help?',\n",
       " '@united #UnitedAirlines Pls Fix #AspenBaggageFail issues. Had to pay my own way to #Aspen after flight Cancelled Flight. Left us in the cold in DEN.',\n",
       " '@united Read my bio. See who I work with. I have NEVER encountered this with your airline before. Disappointed is an understatement.',\n",
       " \"@united Does customer care have email or a phone rep that I can speak with? We had so many issues they can't be placed in 2000 characters?\",\n",
       " 'Thank you “@united: @TRUU_Tall I can certainly take a look. Please follow and DM me your confirmation number for assistance. ^JH”',\n",
       " '@united In the process of recovering their car rental - condo rental $ in Florida. They called #United for an alternate flight #NOANSWER',\n",
       " '@united thanks for listening! I definitely was not the only person in line who thought it was absurd.',\n",
       " \"@United We've been waiting on tarmac for &gt;1hr because apparently UA1116 is overweight &amp; we returned to gate. #WTF #fb\",\n",
       " '@united Thank you. Mention that before I boarded she asked 1other person to measure their bag, and it was another woman. Men not asked.',\n",
       " \"@united Can't leave the Tarmac ..united's gate agent cannot agree on a head count. 20 min now counting a 100 people max #epicfailunited\",\n",
       " \"@united That's real dedication &amp; concern. Your apologies don't fix the issue nor any of the miserable issues I've had over the past 6 mos.\",\n",
       " \"@United blocked me from DM'ing them because they would rather I complain about them in a public forum\",\n",
       " '@united ok. I just submitted. Thanks for the opportunity to give feedback.',\n",
       " '@united Big thanks to Ms. Winston for assisting me over the phone with a baggage claim issue today. She really went the extra mile!',\n",
       " '@united I will, as soon as I am done with my article.  Thanks!  ~Tom',\n",
       " \"@united booked flights for 2 for $779. Was charged $389.50 twice. Means I can't redeem CC points properly. Would have gone elsewhere.\",\n",
       " \"@united We've had a ton of problems with getting our bags and have been given the run around for a day. Whats up with that?\",\n",
       " '@united pedophile airline. Split myself and my 10 yr old daughter rows apart on flight 1254 to boston',\n",
       " '@united have been waiting 2 days for my military bags from an airport 3 hours away from me. Horrible.',\n",
       " \"@united Arriving 25 minutes early is nice, but not if equipment isn't ready. Waiting 30 minutes for luggage, so far. Time gains wiped out.\",\n",
       " \"@united is doing musicians real dirty at LAX. I've never been blocked from getting on a flight with my bass.\",\n",
       " \"@united I'm rebooked now, but the line was 300 people deep.\",\n",
       " '@united @FlyEIA yes, they said it took more than an hour!',\n",
       " '@united those whose pay to actually fly with you over 30k/ year deserve better service than a CC holder.',\n",
       " '@united Ok thank again for your help!',\n",
       " '@united Not a happy flyer.  UA flight 1161 from SFO to Cleveland.  Sunday 2/22.  Stay tuned for blog article from http://t.co/VdFdODqVGx',\n",
       " '@united flight 1491...plane from SFO to DEN is basically on time.',\n",
       " '@united thanks. Just a program comment; the system assigned seats behind each other even though pairs were available. I changed it back.',\n",
       " '@united 20 min more delays to flt 2086 at sfo 2 load 2 more pax makes no sense. Will strand many of us overnight at ORD due to missed cnxns',\n",
       " \"@united Heads up We didn't check 8 bags, 2 we checked arrived, those aren't claim #s for our 2. Other people's bags? http://t.co/dplQ3mhQGD\",\n",
       " '@united This must be a drone “@united: @KeamBleam We understand your frustration. Our Bag team is working hard to get your bag(s) to you...\"',\n",
       " '@united Change made in just over 3 hours. For something that should have taken seconds online, I am not thrilled. Loved the agent, though.',\n",
       " '@united flight attendant doesn’t understand not understanding English doesn’t mean they are deaf. Stop yelling English slowly to them.',\n",
       " '@united Not appropriate to ask in public (hence the dm). each united employee, each a new answer. your process was such a hassle i Cancelled Flighted.',\n",
       " \"@united well that's big of you but I don't have terribly high expectations at this point.\",\n",
       " \"@united it's like you're trying to make me hate your airline. Fee for each checked bag that's never mentioned in the ticket + rude agents 👿\",\n",
       " '@united nice your app says US 4972 delayed by weather.  Pilot says waiting on fuel.  One in ur control, one not',\n",
       " '@united Please than Robin at EWR Premiere Desk for helping me get on a an earlier flight. She did the work.  Huge thanks.',\n",
       " \"@united Ok thank you, do you provide complimentary hotel accommodations since I'll have to stay overnight?\",\n",
       " '@united I was originally trying to share details but the link Jimmy Samartzis Vice President - Customer Experience sent me expired.',\n",
       " \"@united really? 3 hr delay, 4 gate changes, &amp; you boarded us, sent us back up, &amp; boarded us again.  Won't change our flight. Can we go now?\",\n",
       " '@united that would help! or how about integrate it into the App so I can just \"activate\" it and surf...',\n",
       " '@united I did. The AC went on for about 20 minutes before returning to the Mojave Desert. #PressureCooker #HeatTrap',\n",
       " '@united Nope - still no one helped me.  Giving up on united. #badservice',\n",
       " '@united when an airline causes the missed connection u would think they would take whatever steps to remedy that screw up.',\n",
       " \"@united I'd thank you - but you didn't help.  taking 6 hours to reply (so I get a message in the middle of the night) isn't actually helpful\",\n",
       " \"@united Flight UA1270 is descending into farce and we haven't left EWR yet. Is this going to get any worse?\",\n",
       " '@united I was told it was due to be on UA23 which flies direct to Dublin, so why did it go to London? This is a complete shambles!',\n",
       " '@united 45+ min at EWR baggage claim #stillnobags #ridiculous',\n",
       " '@united On a standby to Denver, which has been delayed, and a confirmed to Aspen, whose flights have been Cancelled Flighted all day. 0 confidence.',\n",
       " '@united yes at 2am...but now back on a plane again and delayed again due to baggage loading issue... http://t.co/NfAQHhr09j',\n",
       " '@united at what pt do u just Cancelled Flight!  Finally got stndby 4 1pm flight. What a day!  #missedWork #clientNotHappy http://t.co/sUPrLfOi8T',\n",
       " '@united thank YOU for your kindness. Your agents went above &amp; beyond to get my stranded family home.',\n",
       " \"@united don't see a justifiable cost to get on an early flight with seats. No airline charges to conveniently get their passengers in early\",\n",
       " '@united Woke up to notification- flight moved 1.5 hrs early. Barely made flight then 3 hrs layover in SFO - wanted to hop on earlier option',\n",
       " \"@united I will do delayed baggage claim when I land. Hopefully the bag isn't broken into, damaged or lost w/c will result in more complaints\",\n",
       " '@united done. Want me to send a screen shot of the second call, which is now at over 45 minutes?',\n",
       " '@united look at this beauty 😉 dc 10 united airlines 😉 http://t.co/MvYoizRPdE',\n",
       " \"@united Thanks! I'll fill up the form as soon as I land. I don't like being duped so I hope you will appreciate my feedback &amp; will be better\",\n",
       " '@united, this is the line in Denver to rebook due to weather issues. DO BETTER. http://t.co/tmccExYaaQ',\n",
       " \"@United the ones who suffer. I understand delays, I don't understand trying speed up a process that has been delays to this extent.\",\n",
       " '@united 2 Cancelled Flighted flights Late Flightr, agent claimed she put me on a new flight but then Cancelled Flighted it. Coworker got on flight- now delayed. Now?',\n",
       " '@United of urgency, but this is ridiculous. Your ceo claims to be customer focused, yet when delays happen, planes sit and customers are',\n",
       " \"@united I wasn't asking for a full refund but delaying me 3 hours and giving no reason should be enough to give partial credit\",\n",
       " \"@United flight was scheduled for 11:56, it's 1:05 and we haven't moved. I have never been on a flight where everyone moved without a sense\",\n",
       " '@united ok thx!',\n",
       " '@united go to hell',\n",
       " \"@united since bulkhead seats cannot have bags on floor, why don't u reserve o/head space above those seats? In 1B on UA246 - not impressed\",\n",
       " '@united Would be helpful if you could refresh boarding time info on boarding passes for delayed flights',\n",
       " '@united  18 flights so far this year. 13 delays including 2 Cancelled Flightations.  Late Flightst reason, crew needed mandatory sleep. IN MEXICO!',\n",
       " '@united great to hear Thankyou so much. Greatly appreciate your replies. Feel much more settled now.',\n",
       " '@united counter agents at RDU deserve a medal. #thankyou',\n",
       " 'The saga of the @MelissaAFrancis bag delay w/ @United - will there be a reunion or will she be forced to go shopping? Stay tuned.',\n",
       " \"@united Flight 211/ORD gate agent tried to prevent me from taking onboard a bag I've used for 15 years! Flight crew was more reasonable!\",\n",
       " '@united thank you. Literally called for preboarding as I ran up.',\n",
       " '@united why do you guys split up the charges to credit cards? Making it unnecessarily more expensive for people to fly with you guys on pts',\n",
       " '@united it was UA381 on 14 Feb. Point is, overselling flights= bad. Making people wait 1hr while you kick them off after boarding is worse',\n",
       " \"@united that's brilliant Thankyou so much. Is it classed as part of carryon?\",\n",
       " '@united thank you for listening to my compliant and doing the right thing. I appreciate you working with me',\n",
       " \"@united we've been here since 3am and you've Cancelled Flightled our flight twice\",\n",
       " '@united no chance I wait in ORD all afternoon for another flight after you screwed me. Hold 5396',\n",
       " \"@united UA5396 can wait for me. I'm on the ground trying to get to the gate after we were moved to B. This is crap.\",\n",
       " \"@united from MEX NRT (dates TBD) but I'm getting a 200 to 300 USD difference in my quotations through September when compared to MEX BKK\",\n",
       " '@united better just keep connection from ORD To FWA that boards in ten minutes open until I get off the plane that just landed an hour Late Flight',\n",
       " \"@united is there a United gold number? I've been on hold 24 minutes and think I may be lost in nowhereland. Have a gold reservation. Help.\",\n",
       " \"@united Great! I'm ready to go home.\",\n",
       " \"@united wow you even answered back!  Awesome! @AmericanAir @USAirways That's customer service!!! #usairwaysfail\",\n",
       " '@united noooooooooooooooooooooope.',\n",
       " \"@united Oh, we are sure it's not planned, but it occurs absolutely consistently, it's usually the only YYJ flight that's Cancelled Flightled daily.\",\n",
       " '@united @JMS2802 : outsource it all United Airlines...your customers  are just loving you for it. Outsource. Outsource. Outsource.',\n",
       " \"@united Thank you! You need to follow back tho otherwise I can't DM you. X\",\n",
       " \"@united it's not getting any better. I'd suggest you get a senior manager to this gate , then retrain these gate people\",\n",
       " '@united @JMS2802 : nothing like supporting your own mechanics and maintenance workers...instead United puts out a video of TIMCO doing wifi.',\n",
       " '@united Just sent! Thanks :)',\n",
       " '@united already missed  connection ugh',\n",
       " '@united @JMS2802 : sure show a video of your outsourced favorite TIMCO, who has a knack for doing substandard maintenance work on aircraft.',\n",
       " '@united How do I formally complain about your customer service handler who misconnected me. I was denied boarding &amp; I now lost my bag. Help!',\n",
       " '@united there are a lot of unhappy cold people on the bridge in freezing temps for an hour. Not given any info.',\n",
       " \"@united flight 3763 IAd-Sat. We're on the outdoor track for an hour\",\n",
       " \"@united - SERIOUSLY it's 2015?!?!  NO WiFi on a 5hr flight from CLE-SFO #1589.  You're the ONLY airline w/out WiFi...and pls no 'unwind' BS.\",\n",
       " '@united u would not be able to rebook me to get home any sooner than a now 2hr delayed flight.  #linesforever #customerservice #fail #again',\n",
       " \"@united you're the reason this whole travel experience has been a nightmare\",\n",
       " '@united what a pointless tweet. At least @AmericanAir asked me to follow them to try and resolve',\n",
       " \"@united that's not even an apology\",\n",
       " \"@united that's cool - now what?\",\n",
       " \"@united - SERIOUSLY it's 2015?!?!  NO WiFi on a 5hr flight from CLE-SFO #1589.  You're the ONLY airline without WiFi...\",\n",
       " '@united, b4 boarding this attendant took his shoe &amp;sock off at the desk and showed other agents his foot. So gross. http://t.co/755VpYm4Mv',\n",
       " \"@united #unitedairlines so is it 6:20 pm or 12:20?   ORD ABQ 3709.   I can't even take a walk without missing a change.\",\n",
       " '@united Hopefully my baggage fees will be waived tomorrow when I actually get on a flight, as well as compensation for my hotel room',\n",
       " '@united Either is fine. However, plundering my hard-earned dollars is not fine.',\n",
       " '@united your SFO-YYJ fight is Cancelled Flightled several times each week, why even bother?',\n",
       " \"@united, and now while waiting for new pilot the door on plane BROKE. why am I global services status  on an airline that's unsafe? STUNNING\",\n",
       " '@united How do I get reimbursed for hotel and taxis for the Cancelled Flightation?',\n",
       " '@united Awesome flight crew on UA1589, re the plane,  the  Jurassic period called and they want their dinosaur/plane back!',\n",
       " '@united In 2015, United is \"unable\" to look up a flight reservation by passenger name at the YYZ check-in counter - WOW smh #customerservice',\n",
       " '@united e-ticket # 0162389030167, refund request # 16866853, case id # 8465981',\n",
       " \"@united been on the phone for over an hour with customer service and they can't figure it out! awesome service... NOT!\",\n",
       " '@united\\nYou really know how to piss people off. Your Farelock option is fake!',\n",
       " '@united, last week shanghai to sfo 858 delay 5hrs bc of engine. today sfo-sea delay to \"sick pilot\". no compensation. They Do. Not. Care.',\n",
       " \"@united only thing confusing me is why I lost priority boarding? I'm a mileage plus card member 😔\",\n",
       " \"@united We're hoping to hear from you actually.\",\n",
       " '@united shes been rescheduled for today, but with the frigid cold, being a possible reason for \"maintenance\" it could be the same issue 2day',\n",
       " '@united It\\'s the fact that an international should not be with out her bag and no sense of what\\'s going on other than \"maintenance\".',\n",
       " \"@united b) I contacted you directly, and the phone service was Laissez Faire at best.  The problem isn't a Cancelled Flightled a flight.\",\n",
       " \"@united a) she's an international. Her phone is on the fritz, I had to get to Chicago from nearly 4 hrs away to figure everything out.\",\n",
       " '@united sorry for the delayed response. It was UA #381 Chicago to San Fran. Held up for almost an hour on the Tarmac. Also, lost my bags',\n",
       " \"@united Okay thanks if you could please update me. I was told at the airport someone would call me today but they haven't.\",\n",
       " \"@united thank you very much for the help. We're do I pick up my bags aspen airport &amp; are they coming in today on flight911\",\n",
       " '@united gate C 24 IAD. U released passengers to board w/others deplaning .50 peopleOn bridge while next flight  board http://t.co/HfoF33iyhi',\n",
       " \"@united I'd say most of the public can't extend their vacation a week, point is why advertise multiple flights you can't honor?\",\n",
       " '@united Cancelled Flights flt from EWR. \"No crew\".Tells wife &amp; 4 yr old to \"get to NY to catch @AirCanada\" to YYZ! Good #customerservice is dead.',\n",
       " \"@united Now arriving a day and a half Late Flightr than supposed to. Lesson of the day, don't believe verbal or written confirmations from United\",\n",
       " \"@united Arriving at the airport 2 hours before departure time and still missing your flight bc you actually don't have an electronic ticket\",\n",
       " '@united 1.75 hour delay.  Nothing says sorry like a voucher.  Missing time with family.  #family #precioustime',\n",
       " \"@United has two whole people trying to schedule a flight's worth of missed connections. Shameful http://t.co/6kqLhVaP7G\",\n",
       " '@united is unfriendly screw family, that hates kids and moms. now waiting on  UA871... pray its better FYVRFN ..due to agent error and tickt',\n",
       " '@united  gate agent at EWR \" if you are disabled or in a wheel chair, it\\'s time to board, please step\". STEP UP??? Lol',\n",
       " \"@united it won't help...been there done that.\",\n",
       " '@united forces us to check our baby bag on overbooked flight complains to wife that we need to much for our baby.. united has no baby meals',\n",
       " '@united would love help getting there today. In #EWR now. Will take any airline and connections. Thx',\n",
       " '@united today take flight to san francisco. .. refuse to let us board with baby early... time we board wont let us take baby carryon bag',\n",
       " '@united we had four scheduled flights on this reservation and literally did not take one! Unreal',\n",
       " '@united in ORD hotel issued to my 4yr old. Tickets needed fixing again another hour and 5 agents l8r nightmare still not over',\n",
       " '@united 3 hours to rebook but 8 hours l8r the same problem again. Arrive at gate stopped cause now infant is sitting in 4 yr old lap',\n",
       " '@united arrived in YYZ to take our flight to Taiwan. Reservation missing our ticket numbers. Slow agent Sukhdeep caused us to miss our flt.',\n",
       " '@united thank you!',\n",
       " '@united Thanks for the update.',\n",
       " '@united and those three people were awesome working very long hours. It is easy to say sorry on Twitter but you should help your ppl @EWR',\n",
       " '@united I guess. But what is the excuse for understaffed costumer services? 3 people had to deal with lots of angry passengers. Weather too?',\n",
       " \"@united ,now you have Cancelled Flightled my wife and daughter's flt?? What's going on? Follow me so I can dm details.\",\n",
       " '@united Has it departed? I was awaiting an inbound plane yesterday for three hours and it never arrived. Had to stay overnight (again).',\n",
       " \"@united just confirmed a seat! Crisis averted! Beers won't be missed now\",\n",
       " \"@united was that English? I'll DM though I don't think you'll make a plane appear.\",\n",
       " \"@united looks like today will be my 6th consecutive delayed flight from you...do I win a prize??? @Southwest Air why don't you fly to SBA? 😭\",\n",
       " '@united sitting in a plane with no pilot.  Thanks! #waitingonapilot #denver #siouxfalls #whyairtravelsucks',\n",
       " '@united Understood and thanks! I should have tried reaching out sooner.',\n",
       " \"@united already done that. the answer i got was... oops we can give you miles and we're very sorry. but who pays for my discomfort for 9 h?\",\n",
       " '@united received hotel but no food.  Also email for 3750 miles.  Last trip had 3 hr delay and 5000 miles - so less for Cancelled Flightlation?',\n",
       " \"@united Do we know why UA5282 is delayed x2)? This is getting crazy. I've already had 2 overnight delays. #UnitedAirlines\",\n",
       " '@united and most frustratingly, all this delay happened either at the gate, or even onboard the aircraft! No heads up in advance!!!',\n",
       " '@united The DEN b44 agent (9:30am) was amazing. The MPAgent at check in? She sucks. @seanMFmadden @PeterStraubMMA @jmercadoMMA @TonySimsMMA',\n",
       " '@united my UA3426 on 2/19 was also delayed by 2 hours, stretching my trip way past the midnight, extremely exhausting!',\n",
       " '@united Ha… you rebooked me in to an 11 hr layover &amp; are robbing me of a night with my family. Too Late Flight for that. Just fly on time for once.',\n",
       " '@united switched to fly united from delta for the past two trips and was very disappointed. Now my UA4646 on 2/23 is delayed by 3 hours!!',\n",
       " '@united traveling with @MegZezzo who is injured. Gate agent in Chicago was awesome helping her. TY #roadwarrior',\n",
       " '@united  #UnitedAirlines  how long will1531 be delayed.',\n",
       " \"@united Why isn't the flight status updated to delayed UA1532 no board\",\n",
       " '@united I paid for economy plus and you put me in the last boarding group so I have to gate check my bags too? @VirginAmerica knows better..',\n",
       " '@united i travelled from SCL- IHA feb 17. the AC on my sit (21L) was ON all night. I complaint to FA who never gave me a real answer. Help!',\n",
       " '@united you suck.    9 hour delay?!',\n",
       " '@united you are the worst airline in the world! From your crap website to your worthless app to your Late Flight flight. You SUCK! Just shut down.',\n",
       " '@united JH, thanks so much for reaching out. I was able to get assistance after waiting for 70 minutes.',\n",
       " '@united 3866 is at a stand still! No pilot or paperwork for fix over 25mins! Problem was fixed 30mins ago. Flight is as is delayed!',\n",
       " \"@united. Is it reasonable to wait 45 mins for the bag you made me check because the flight staff couldn't police the overhead bins?\",\n",
       " \"@united Please msg me a # for customer service. I will have an invoice for my dry cleaning but won't be able take wet clothes to the airport\",\n",
       " \"@united AN HOUR DELAY BECAUSE YOU CAN'T PRINT A PIECE OF PAPER!\",\n",
       " '@united still no response??',\n",
       " '@united should have been able to get seat assign without paying $174 more - cust sec should have done that for me',\n",
       " '@united There is no \"reference number.\" Your agent told me to \"just drive to the airport\" because \"I can\\'t reach anyone there to deliver...\"',\n",
       " '@united Slightly better. Crew spent a long time searching for better altitude. Would have helped to let pax in on why all the sharp drops.',\n",
       " '@united My credit card was charged on the transaction when I was told it would not be. If the charge goes through I will be contacting you.',\n",
       " '@united my PQMs and PQDs are no longer showing up correctly in my MileagePlus acct. How can I get this fixed?',\n",
       " '@united Thanks!',\n",
       " '@united 768 SFO to BOS and no internet it is 2015 what gives?',\n",
       " \"@united is the worst. Worst reservation policies. Worst costumer service. Worst worst worst. Congrats, @Delta you're not that bad!\",\n",
       " '@united I am trying to make/change reservations and getting extremely frustrated!!! Giving up and trying another airline!!!',\n",
       " '@united I got email update but still no ETA. More communication/details, apology + info on compensation rights would go a long way',\n",
       " '@united Late Flight crew into #btv last nite delayed todays flt. Will miss connection to #cun. Why do I have to play for hotel tonight in #ewr?',\n",
       " \"@united no they aren't - I just called to check. #WORSTCUSTOMERSERVICE\",\n",
       " '@united passengers should have been rerouted to match the intended arrival time (even if you have to incur cost to put us in other airlines)',\n",
       " '@united been solved,  they finally picked up the second time I called,  thanks for the response JH!  7:21 to dulles works!',\n",
       " '@united need to work on your #United #flierfriendly program. At the very least, clue in your flight attendants.',\n",
       " \"@united space. Doctors' notes and everything. And on my first trip they lost my first suitcase. Among other issues- not pleased with #united\",\n",
       " \"@united 's new #flierfriendly is garbage. Just had to cry to get attendant to find a place for my medical supplies with limited overhead\",\n",
       " '@united. epic fail. @reagan. no jetway. been here 15 mins on tarmac!',\n",
       " '@united thanks for the link, now finally arrived in Brussels, 9 h after schedule...',\n",
       " '@united 2nd flight in two weeks that you have lost my bag!  Taking my 1K status to @AmericanAir #neveragain #WORSTCUSTOMERSERVICE',\n",
       " '@united UA1130 Flight was a nightmare!! From poor customer service,having my confirmed seat given away.... +more issues',\n",
       " '@united has the best customer experience via twitter - huge fan!!!',\n",
       " '@united Flight 683 last night was #bad4business. Will be a long time before I recommend United to anyone.',\n",
       " '@united Beyond frustrated  Sked change = no seats, earlier departure and double layover.  Of course only seats are $$++.  Cust svc no help',\n",
       " \"@united working with Lisa J at ORD. she's working hard for us, but this is still VERY disappointing. was on 634 to EWR.\",\n",
       " '@united love the new 1st class breakfast!',\n",
       " \"@united i emailed the customer care via the website form. After a long wait Rachelle resolved my issue. But I'm still irritated w/ united.\",\n",
       " \"@united flight Cancelled Flightled,  and the updated one gets me into BWI too Late Flight! I'd be fine with DCA or IAD,  just arriving earlier!  Help!\",\n",
       " '@united so is the ^JJ standing for Just Joking?  I am not finding the humor.',\n",
       " '@united at this point I made it home on my own.',\n",
       " '@united Thanks for looking into this and for getting back to me via DM. Glad to hear my bag is finally being delivered to me. Thanks again!',\n",
       " '@united I would like to talk to a customer service agent about the service / non service I received on my last flight a a week or so a go.\\nJ',\n",
       " \"@united you Cancelled Flight my flight. I wait in line to get rebooked, when I'm at the front you make me go to another gate and I lose my place.\",\n",
       " \"@united it wasn't a comment. It was a question. But thanks for your copy and paste response\",\n",
       " \"@united you failed me last week at IAH. Next intl trip on Delta. Small ual flight from lax booked, that's it!\",\n",
       " '@united We were supposed to board at 605. They just brought the plane from the hanger! WTF did they not know there was a flight?1153 Lax-EWR',\n",
       " '@united flew from sdf to ATL to Tampa on Delta. Left early. Arrived early. Crew helpful. Wifi worked!!',\n",
       " '@united how about starting without the robotic response?',\n",
       " \"@united You can't control turbulence, but you can control customer experience, lot of scared people up here.\",\n",
       " \"@united Currently on UA862, 20 minutes of the worst turbulence I've ever experienced, and ZERO communication from the flight deck.\",\n",
       " \"@united yes, but it's not looking. The ticket agent at out terminal dismissed us and we missed a chance at a Miami flight then to DR\",\n",
       " '@united I have been told twice my issue has been resolved and twice it has not been. And when I write an email it bounces?! #worstservice',\n",
       " '@united flight 433 lets go you look like clowns no one is giving up 1st class for $500',\n",
       " \"@united I'm on hold for the 4th time waiting for you to resolve and issue with a flight for my 6-year-old son. #terribleservice #NoService\",\n",
       " '@united Cool. Thank you.',\n",
       " \"@United I'd like to thank and recognize Terri P at Dulles for going out of her way to get me back on my Raleigh flight\",\n",
       " '@united as a freq flyer it makes me sad to see cust needing assistance treated so poorly. #ServiceFail',\n",
       " \"@united day 3 of this Saga maybe they'll finally make it home.Intentional or not it not gonna get them back there vacation days #badservice\",\n",
       " \"@united No, thanks. I'm sick of your company's lousy excuse for customer service. I'm never flying United again.\",\n",
       " '@united current hold time AFTER speaking to rep to have tix reissued is 42 mins - why so long &amp; why not make this option available online?',\n",
       " \"@united I understand ppl make mistakes but don't code something in a way that we can't get reimbursed when it's YOUR fault. Just blatant LIE\",\n",
       " '@united also forgot add our bag is probably going to just sit in New Jersey because of a missed connection.',\n",
       " \"@united jx4s2t if you can out today would be great it's our honeymoon and this delay you has put a damper on iy\",\n",
       " \".@united Not what's been shared by the pilot with passengers!\",\n",
       " '@united WHERE IS MY RECEIPT! I upgraded return leg and 6 months Late Flightr still NO receipt! http://t.co/DAjWzhLVyu',\n",
       " '@United how is it that I book a flight with a reserved seat and then go to check in and find out I have no seat?  WTF.',\n",
       " \"@united they're not, actually. gate agent was so rude. now standing in a line waiting for reFlight Booking Problems. missed the only flight to STI. awful.\",\n",
       " \"@united I'm not sure you can do anything as this has been building up over time! Other than promises from your CEO service has gotten worse!\",\n",
       " \"@united wi-fi on 737-800 (aircraft 3511) didn't work entire ORD-DCA flight this morning\",\n",
       " '@united Cancelled Flightled my direct flight Newark-Brussels last night, now 7 hours behind schedule. In EU compensation would be a given, but in US?',\n",
       " '.@united You may \"dislike delays\" but I paid you .We had an agreement that I paid you and you got me to my destination at a certain time.',\n",
       " '@united #epicfail on #CX as flight from Frankfurt to San Francisco now going to Chicago as flight crew out of hours due to de-icing delay',\n",
       " \"@united I'm aware of the flight details, thanks. Three hours Late Flight a crew that could not give less of a shit\",\n",
       " \"@united Making sure your flights aren't delayed due to poor maintenance would be a start.\",\n",
       " '@united hilarious',\n",
       " '@united hahahahaha ya tried that already',\n",
       " '@United \"Your bag may or may not be at the airport. Unfortunately, no one at the airport is picking up the phone or responding to messages.\"',\n",
       " '@united funny I paid to check my bag and now flight 1086 is BEGGING folks to check bags for free 1 hour before flight. #notcool',\n",
       " '@united nope not here. You need a little red stamp from the counter. Check yourself, before you wreck yourself son http://t.co/0pRGySvuRm',\n",
       " \"@united wasn't trying to Cancelled Flight, just trying to change my award ticket, same date and place, but thanks for sending the link, I know the fee\",\n",
       " '@united unhappy with your new mileage rules :( - was my main reason to keep flying united. Will have to take my business elsewhere',\n",
       " '@united I need assistance. Due to your incompetence I need to reschedule a connection. I will NEVER fly @United again.',\n",
       " \"@united you've been officially displaced by @DeltaAssist for better flight experience, pleasant cabin crew and timeliness. UA 1m switching!\",\n",
       " '@united you need a bag bouncer. Get it together',\n",
       " \"@united @ShowExpert what is going on with United's Mileage Program? You pay $500 for a ticket and get a fraction of that as PQD credit?\",\n",
       " '@united you need to retrain your flight attendants. Saying there is no more room for carry ons when there actually is, is not cool.',\n",
       " 'UA3388 @united was Cancelled Flightled not delayed.  Re-Flight Booking Problems still 90 miles from home.  At least acknowledge the Cancelled Flightlation.',\n",
       " '@united never ever again will I be Flight Booking Problems a flight with United or any affiliate if there is a chance to get on a United flight',\n",
       " '@united Was able to send the DM. All good now.',\n",
       " '@united three delayed flights and missed connections on first class flights and not get any compensation for losing those seats...',\n",
       " \"@united and after being on hold for an hour the day before to sort it out and being told it's fine it should be fine when you arrive to fly\",\n",
       " \"@united - it's been almost 2 weeks and still no word from DOT on update of london fare to us cities? any updates on your end?\",\n",
       " '@united well for a start it would be nice if your ticket was actually in the system when you change a flight',\n",
       " '@united Another awful experience and Victoria at the check in desk in STL could not have been more rude and condescending.',\n",
       " '@united no they did not want to deliver at my house. Had to go to sombrons else house',\n",
       " '@united have Michelle at T1 ORD train your other staff on how to treat customers. A refreshing pleasure to deal with.',\n",
       " '@united I guess you have to \"follow\" me in order for me to send you a DM.. I tried and it won\\'t send.',\n",
       " '@united Stopped flying @united 1 yr ago bc of aggressive policy on carryon @bdl listening to pssngrs forced to chk@preboard,#notcomingback',\n",
       " '@united I have sent a message with a bag tag. Have you looked?',\n",
       " ...]"
      ]
     },
     "execution_count": 30,
     "metadata": {},
     "output_type": "execute_result"
    }
   ],
   "source": [
    "reviews"
   ]
  },
  {
   "cell_type": "code",
   "execution_count": 31,
   "metadata": {},
   "outputs": [],
   "source": [
    "#df['airline_sentiment']=df['airline_sentiment'].map({'postive':1,'negative':0})"
   ]
  },
  {
   "cell_type": "code",
   "execution_count": 32,
   "metadata": {},
   "outputs": [
    {
     "data": {
      "text/plain": [
       "Index(['airline_sentiment', 'text'], dtype='object')"
      ]
     },
     "execution_count": 32,
     "metadata": {},
     "output_type": "execute_result"
    }
   ],
   "source": [
    "df.columns"
   ]
  },
  {
   "cell_type": "code",
   "execution_count": 33,
   "metadata": {},
   "outputs": [
    {
     "data": {
      "text/html": [
       "<div>\n",
       "<style scoped>\n",
       "    .dataframe tbody tr th:only-of-type {\n",
       "        vertical-align: middle;\n",
       "    }\n",
       "\n",
       "    .dataframe tbody tr th {\n",
       "        vertical-align: top;\n",
       "    }\n",
       "\n",
       "    .dataframe thead th {\n",
       "        text-align: right;\n",
       "    }\n",
       "</style>\n",
       "<table border=\"1\" class=\"dataframe\">\n",
       "  <thead>\n",
       "    <tr style=\"text-align: right;\">\n",
       "      <th></th>\n",
       "      <th>airline_sentiment</th>\n",
       "      <th>text</th>\n",
       "    </tr>\n",
       "  </thead>\n",
       "  <tbody>\n",
       "    <tr>\n",
       "      <th>0</th>\n",
       "      <td>1</td>\n",
       "      <td>@VirginAmerica plus you've added commercials t...</td>\n",
       "    </tr>\n",
       "    <tr>\n",
       "      <th>1</th>\n",
       "      <td>0</td>\n",
       "      <td>@VirginAmerica it's really aggressive to blast...</td>\n",
       "    </tr>\n",
       "    <tr>\n",
       "      <th>2</th>\n",
       "      <td>0</td>\n",
       "      <td>@VirginAmerica and it's a really big bad thing...</td>\n",
       "    </tr>\n",
       "    <tr>\n",
       "      <th>3</th>\n",
       "      <td>0</td>\n",
       "      <td>@VirginAmerica seriously would pay $30 a fligh...</td>\n",
       "    </tr>\n",
       "    <tr>\n",
       "      <th>4</th>\n",
       "      <td>1</td>\n",
       "      <td>@VirginAmerica yes, nearly every time I fly VX...</td>\n",
       "    </tr>\n",
       "  </tbody>\n",
       "</table>\n",
       "</div>"
      ],
      "text/plain": [
       "   airline_sentiment                                               text\n",
       "0                  1  @VirginAmerica plus you've added commercials t...\n",
       "1                  0  @VirginAmerica it's really aggressive to blast...\n",
       "2                  0  @VirginAmerica and it's a really big bad thing...\n",
       "3                  0  @VirginAmerica seriously would pay $30 a fligh...\n",
       "4                  1  @VirginAmerica yes, nearly every time I fly VX..."
      ]
     },
     "execution_count": 33,
     "metadata": {},
     "output_type": "execute_result"
    }
   ],
   "source": [
    "df.head()"
   ]
  },
  {
   "cell_type": "code",
   "execution_count": 40,
   "metadata": {},
   "outputs": [
    {
     "data": {
      "text/plain": [
       "pandas.core.series.Series"
      ]
     },
     "execution_count": 40,
     "metadata": {},
     "output_type": "execute_result"
    }
   ],
   "source": [
    "type(df['airline_sentiment'])"
   ]
  },
  {
   "cell_type": "code",
   "execution_count": 41,
   "metadata": {},
   "outputs": [
    {
     "data": {
      "text/plain": [
       "array([1, 0, 0, ..., 1, 0, 0], dtype=int64)"
      ]
     },
     "execution_count": 41,
     "metadata": {},
     "output_type": "execute_result"
    }
   ],
   "source": [
    "np.array(df['airline_sentiment'])"
   ]
  },
  {
   "cell_type": "code",
   "execution_count": 42,
   "metadata": {},
   "outputs": [
    {
     "data": {
      "text/plain": [
       "(11541,)"
      ]
     },
     "execution_count": 42,
     "metadata": {},
     "output_type": "execute_result"
    }
   ],
   "source": [
    "df['airline_sentiment'].shape"
   ]
  },
  {
   "cell_type": "code",
   "execution_count": 44,
   "metadata": {},
   "outputs": [
    {
     "data": {
      "text/plain": [
       "0        1\n",
       "1        0\n",
       "2        0\n",
       "3        0\n",
       "4        1\n",
       "        ..\n",
       "11536    0\n",
       "11537    0\n",
       "11538    1\n",
       "11539    0\n",
       "11540    0\n",
       "Name: airline_sentiment, Length: 11541, dtype: int64"
      ]
     },
     "execution_count": 44,
     "metadata": {},
     "output_type": "execute_result"
    }
   ],
   "source": [
    "df['airline_sentiment']"
   ]
  },
  {
   "cell_type": "code",
   "execution_count": 34,
   "metadata": {},
   "outputs": [],
   "source": [
    "def text_preprocessing(reviews):\n",
    "    \n",
    "    \n",
    "    \"\"\" This will clean the text data, remove html tags, remove special characters and then tokenize the reviews to apply Stemmer on each word token.\"\"\"\n",
    "    \n",
    "    pre_processed_reviews=[]\n",
    "    \n",
    "    for review in tqdm(reviews):\n",
    "        #review= BeautifulSoup(review,'lxml').getText()#remove html tags\n",
    "    \n",
    "        review=re.sub('[^A-Za-z]+',' ',review) #remove special chars\n",
    "        review=re.sub(\"n't\",\"not\",review)\n",
    "        review=nltk.word_tokenize(str(review.lower())) #tokenize the reviews into word tokens\n",
    "        review=' '.join(PorterStemmer().stem(word) for word in review if word not in stopwords.words('english'))\n",
    "        pre_processed_reviews.append(review.strip())\n",
    "    return pre_processed_reviews"
   ]
  },
  {
   "cell_type": "code",
   "execution_count": 35,
   "metadata": {},
   "outputs": [
    {
     "name": "stderr",
     "output_type": "stream",
     "text": [
      "100%|████████████████████████████████████████████████████████████████████████████| 11541/11541 [02:05<00:00, 92.24it/s]\n"
     ]
    }
   ],
   "source": [
    "processed_reviews=text_preprocessing(text)"
   ]
  },
  {
   "cell_type": "code",
   "execution_count": 36,
   "metadata": {},
   "outputs": [
    {
     "data": {
      "text/plain": [
       "['virginamerica plu ad commerci experi tacki',\n",
       " 'virginamerica realli aggress blast obnoxi entertain guest face amp littl recours',\n",
       " 'virginamerica realli big bad thing',\n",
       " 'virginamerica serious would pay flight seat play realli bad thing fli va',\n",
       " 'virginamerica ye nearli everi time fli vx ear worm go away',\n",
       " 'virginamerica well',\n",
       " 'virginamerica amaz arriv hour earli good',\n",
       " 'virginamerica lt pretti graphic much better minim iconographi',\n",
       " 'virginamerica great deal alreadi think nd trip australia amp even gone st trip yet p',\n",
       " 'virginamerica virginmedia fli fabul seduct sky u take stress away travel http co ahlxhhkiyn',\n",
       " 'virginamerica thank',\n",
       " 'virginamerica sfo pdx schedul still mia',\n",
       " 'virginamerica excit first cross countri flight lax mco heard noth great thing virgin america daystogo',\n",
       " 'virginamerica flew nyc sfo last week fulli sit seat due two larg gentleman either side help',\n",
       " 'fli virginamerica',\n",
       " 'virginamerica know would amazingli awesom bo fll pleas want fli',\n",
       " 'virginamerica first fare may three time carrier seat avail select',\n",
       " 'virginamerica love graphic http co ut grrwaaa',\n",
       " 'virginamerica love hipster innov feel good brand',\n",
       " 'virginamerica guy mess seat reserv seat friend guy gave seat away want free internet',\n",
       " 'virginamerica statu match program appli three week call email respons',\n",
       " 'virginamerica happen ur vegan food option least say ur site know abl eat anyth next hr fail',\n",
       " 'virginamerica amaz get cold air vent vx noair worstflightev roast sfotobo',\n",
       " 'virginamerica hi bked cool birthday trip add elev caus enter middl name flight book problem',\n",
       " 'virginamerica help left expens headphon flight iad lax today seat one answer l amp f number lax',\n",
       " 'virginamerica await return phone call would prefer use onlin self servic option',\n",
       " 'virginamerica great news america could start flight hawaii end year http co r p zy fe via pacificbiznew',\n",
       " 'virginamerica moodlight way fli best experi ever cool calm moodlitmonday',\n",
       " 'virginamerica freddieaward done done best airlin around hand',\n",
       " 'virginamerica chat support work site http co vhp gtdwpk',\n",
       " 'virginamerica view downtown lo angel hollywood sign beyond rain mountain http co dw nf ibtr',\n",
       " 'virginamerica hey first time flyer next week excit hard time get flight ad elev account help',\n",
       " 'virginamerica elevategold good reason rock',\n",
       " 'virginamerica wow blew mind',\n",
       " 'virginamerica ladygaga carrieunderwood juli andrew way though ladygaga impress carrieunderwood',\n",
       " 'virginamerica hi excit lga gt dal deal tri book sinc last week amp page never load thx',\n",
       " 'virginamerica know need spotifi stat guiltypleasur',\n",
       " 'virginamerica ladygaga carrieunderwood ladi gaga amaz',\n",
       " 'virginamerica call week ago ad flight elev still shown help',\n",
       " 'virginamerica ladygaga carrieunderwood love three realli beat classic',\n",
       " 'virginamerica heyyyi guyyyi tri get hour someon call pleas',\n",
       " 'virginamerica hi virgin hold minut earlier flight la nyc tonight earlier pm',\n",
       " 'virginamerica congrat win travelzoo award best deal airlin us http co kj iljaebv',\n",
       " 'virginamerica everyth fine lost bag',\n",
       " 'virginamerica airlin awesom lax loft need step game dirti tabl floor http co hy vrfhjht',\n",
       " 'virginamerica worri great ride new plane great crew airlin like',\n",
       " 'virginamerica awesom flew yall sat morn way correct bill',\n",
       " 'virginamerica go custom servic anyway speak human asap thank',\n",
       " 'virginamerica supp biz travel like southwestair custom servic like jetblu neverflyvirginforbusi',\n",
       " 'virginamerica appli member inflight crew team im interest flightattend dreampath g',\n",
       " 'virginamerica best whenev begrudgingli use airlin delay late flight',\n",
       " 'virginamerica interest fli cancel flight next four flight plan neverflyvirginforbusi',\n",
       " 'virginamerica disappoint experi share everi busi travel meet neverflyvirgin',\n",
       " 'virginamerica troubl ad flight wife book elev account help http co px hqok r',\n",
       " 'virginamerica site back',\n",
       " 'virginamerica like tv interest video disappoint cancel flightl flight flight went jfk saturday',\n",
       " 'virginamerica land lax hour late flight bag check busi travel friendli nomorevirgin',\n",
       " 'virginamerica websit btw new websit great user experi time anoth redesign',\n",
       " 'virginamerica check add bag websit work tri desktop mobil http co avyqdmpi',\n",
       " 'virginamerica let scan passeng leav plane told someon remov bag st class bin uncomfort',\n",
       " 'virginamerica phone number find call flight reserv',\n",
       " 'virginamerica anyon anyth today websit useless one answer phone',\n",
       " 'virginamerica must travel miss flight late flight check bag miss morn appoint lost busi sfo lax',\n",
       " 'virginamerica direct flight fll gt sfo unexpect layov vega fuel yet peep next bought vega flight sneaki',\n",
       " 'virginamerica late flight bag check lost busi miss flight apt three peopl flight exp',\n",
       " 'virginamerica amaz custom servic raeann sf best customerservic virginamerica fli',\n",
       " 'virginamerica call servic line hung awesom sarcasm',\n",
       " 'virginamerica site trip tri check get plain text version reluct enter card info',\n",
       " 'virginamerica getaway deal may one way lot cool citi http co tzzjhuibch cheapflight farecompar',\n",
       " 'virginamerica getaway deal may one way lot cool citi http co b xi yg cheapflight farecompar',\n",
       " 'virginamerica great week',\n",
       " 'virginamerica come back phl alreadi need take us horribl cold pleasecomeback http co glxfwp nqh',\n",
       " 'virginamerica concern fli plane need delay due tech stop',\n",
       " 'virginamerica best airlin flown easi chang reserv help repres amp comfort fli experi',\n",
       " 'virginamerica anoth rep kick butt naelah repres team beauti thank',\n",
       " 'virginamerica beauti front end design right cool still book ticket b c back end secur',\n",
       " 'virginamerica love team run gate e la tonight wait delay flight kept thing entertain',\n",
       " 'virginamerica use anoth browser amp brand reput built tech respons cross browser compat websit',\n",
       " 'virginamerica flight flight book problem site total folk problem',\n",
       " 'virginamerica like custom servic min delay connect passeng seem long va',\n",
       " 'virginamerica thank outstand nyc jfk crew move mountain get home san francisco tonight',\n",
       " 'virginamerica absolut best team custom servic ever everi time fli delight thank',\n",
       " 'virginamerica need chang flight that schedul hour min wait time phone im call intern help',\n",
       " 'virginamerica complet awesom experi last month bo la nonstop thank awesom flight depart time vabeatsjblu',\n",
       " 'virginamerica fail custom check process link tsa pre check',\n",
       " 'virginamerica fidifamili us terribl airlin gave us hotel hotlin number said sorri',\n",
       " 'virginamerica chrysichrys assist yesterday u cancel flightl flight give us hotel hotlin shame',\n",
       " 'virginamerica anoth delay flight likingyoulessandless',\n",
       " 'virginamerica need regist servic dog first class ticket sfo gt dull phone queue hour longer pl advis',\n",
       " 'virginamerica rock make watch oscar flight redcarpet oscar oscar',\n",
       " 'virginamerica alway xoxo',\n",
       " 'virginamerica book seat flight buy even check creat much anxieti frustrat',\n",
       " 'virginamerica think pay extra buck rt luggag might afford hire extra hand sfo lame',\n",
       " 'virginamerica best custom servic rep world irmafromdalla take cake',\n",
       " 'virginamerica pleas provid statu flight cant imagin time web indic dude weather dalla',\n",
       " 'virginamerica amaz staff amp super help ran waltdisneyworld princesshalf spoil comfort',\n",
       " 'virginamerica paid premium fli across countri cancel flight flight offer check fee upgrad love sad face',\n",
       " 'virginamerica question possibl book seat infant give option want seat',\n",
       " 'alway togeth welcom rt virginamerica jessicajaym welcom',\n",
       " 'virginamerica flight home dc sunset globe backtowint back work refresh http co vx vbctdlf',\n",
       " 'virginamerica understand need dm give answer damag luggag polici',\n",
       " 'virginamerica mean polici destroy luggag',\n",
       " 'virginamerica thank check ticket purchas custom happi',\n",
       " 'virginamerica problem flight book problem web site keep give error contact phone phone minut wait',\n",
       " 'virginamerica reschedul cancel flightl flight onlin chang button grey',\n",
       " 'virginamerica rang wait minut book ticket vendor fix site',\n",
       " 'virginamerica got flight told today check email tomorrow unaccept',\n",
       " 'virginamerica flight lga cancel flight stuck dalla call reschedul told could get flight today',\n",
       " 'virginamerica pair includ red wine white offer redwineisbett',\n",
       " 'virginamerica websit',\n",
       " 'virginamerica site seem littl wonk right may want look tri two browser css http co qsqmm kf',\n",
       " 'virginamerica disappoint agent design silver statu check line dull airport close assist paseng',\n",
       " 'virginamerica normal receiv repli central baggag baggageissu smh',\n",
       " 'virginamerica logan airport wait checkin flight checkin desk open',\n",
       " 'virginamerica congrat got busi ewr sfo lax fuck unit fl sfo ewr clincher',\n",
       " 'virginamerica appli week ago heard back fli week disappoint',\n",
       " 'virginamerica thank follow',\n",
       " 'virginamerica mani apolog r wors airlin even respond cudtom',\n",
       " 'virginamerica shame va make peopl spend money strand citi airlin land jfk reimburs',\n",
       " 'virginamerica bad say take day via confirm email inquir week claim week',\n",
       " 'virginamerica flight bo gt la tomorrow cancel flightl notif wait time hour rebook anoth airlin',\n",
       " 'rt virginamerica met match got statu anoth airlin upgrad restr http co rhkamx vf http co pyalebgkjt',\n",
       " 'virginamerica way fli elev gold',\n",
       " 'virginamerica lot apolog thrown custom see sad thank noth worst airlin ever',\n",
       " 'virginamerica flight stuff wrong noth worst flight ever',\n",
       " 'virginamerica match americanairlin statu cool',\n",
       " 'virginamerica tri book flight guy websit let lose busi',\n",
       " 'virginamerica suck',\n",
       " 'virginamerica thank',\n",
       " 'virginamerica dm issu persist',\n",
       " 'virginamerica never rec cancel flightlat notic left w option fli ps drive la red eye mon w kid',\n",
       " 'virginamerica tri book flight amp site',\n",
       " 'virginamerica flight fli boston tomorrow need home cancel flightl flight anyth',\n",
       " 'virginamerica stink flight cancel flight psp jfk notif abil rebook disappoint expect better',\n",
       " 'virginamerica love guy song danc high school danc revu',\n",
       " 'virginamerica websit tri check',\n",
       " 'virginamerica done thank quick respons appar faster sit hold',\n",
       " 'virginamerica cool pictur anoth virginamerica plane wing site http co b agfd c',\n",
       " 'virginamerica keep great work',\n",
       " 'virginamerica good peopl love field amaz pressur texa beatstheoth crisi pleas fli ny',\n",
       " 'virginamerica thank great flight la boston pilot great job land snow go back la serious',\n",
       " 'virginamerica thank much awesom support guy rock',\n",
       " 'virginamerica seat row reclin mention websit soreback',\n",
       " 'virginamerica flight delay hour la due mechan problem handl like pro could toss us free drink',\n",
       " 'virginamerica cancel flight flight today precipit scare',\n",
       " 'virginamerica twitter team guy kill reschedul asap thank',\n",
       " 'virginamerica guy charg reschedul flight cancel flight refus refund deal',\n",
       " 'virginamerica access websit safari iphon seem work mac ipad need iphon add passbook',\n",
       " 'virginamerica mobil site broken show header elevateus numofpointsavail number point let checkin',\n",
       " 'virginamerica realli look forward flight let know reschedul diehardvirgin',\n",
       " 'virginamerica cancel flight flight vx one sec delay airport next cancel flightl gon na email call reschedul',\n",
       " 'virginamerica problem link email check thank',\n",
       " 'virginamerica chang anoth airlin get dc today unit abl land dc cost ugh',\n",
       " 'virginamerica look forward first flight today cancel flightl along subsequ one',\n",
       " 'virginamerica put great deal pdx la la pdx show love http co eniqg buzj',\n",
       " 'virginamerica wish afford fli next friday go back home love everyth airlin',\n",
       " 'virginamerica gon na deal dalla dc deal dc dalla sad',\n",
       " 'virginamerica hold time call center bit much',\n",
       " 'virginamerica like http co vpqem xuq',\n",
       " 'virginamerica site help',\n",
       " 'virginamerica best flight attend ever http co pxdel nq l',\n",
       " 'awesom rt virginamerica watch nomin film feet meetthefleet oscar http co dnstitrzwi',\n",
       " 'virginamerica thank much',\n",
       " 'virginamerica tri reset password email never arriv help',\n",
       " 'virginamerica airlin base silicon valley disrupt fcmostinnov incub fastcompani http co wu lbcncr',\n",
       " 'virginamerica nice done',\n",
       " 'virginamerica look forward watch oscar flight home tomorrow might even get someth bubbl drink',\n",
       " 'virginamerica reason delay departur vx jfk afternoon',\n",
       " 'virginamerica today flight palm spring ca jfk ny cancel flightl',\n",
       " 'virginamerica hahaha virginamerica guy amaz love guy',\n",
       " 'virginamerica sound like fun',\n",
       " 'virginamerica css site right pleas fix site unus',\n",
       " 'virginamerica flight vega boston today check onlin bag count regist fix somehow',\n",
       " 'virginamerica classiq luv virgin america greetingz',\n",
       " 'virginamerica hi tri check websit work tri differ browser problem continu',\n",
       " 'virginamerica thank great custom servic today amp help get travel sort',\n",
       " 'virginamerica thank guy sweet rout rocki airplanemodewason',\n",
       " 'virginamerica love music blast gate boston wait flight sanfrancisco could get ice coffe',\n",
       " 'virginamerica passeng flt assault flown trust ban crew file report faanew',\n",
       " 'virginamerica current bug websit show select departur citi select destin citi http co sllyib vq',\n",
       " 'virginamerica luggag sever dent miss wheel come baggag claim san luggag agent miranda think help',\n",
       " 'virginamerica thank easi itinerari shift impend weather quick painless amp free',\n",
       " 'virginamerica thank good time back vodkaton entir flight sfo',\n",
       " 'virginamerica great job ad littl luxuri aesthet improv air travel experi thank keep',\n",
       " 'virginamerica request window seat confirm window got stuck middl seat good way treat silver member',\n",
       " 'virginamerica wtf paid direct flight purpos stop fuel exhaust frequent flier noth inconveni',\n",
       " 'virginamerica someth wrong websit safari iphon',\n",
       " 'virginamerica thank gate check baggag full flight dfw lax give earli board sweet',\n",
       " 'virginamerica alreadi check page expir x',\n",
       " 'virginamerica boo refund seat upgrad fee want buy first place',\n",
       " 'virginamerica see',\n",
       " 'virginamerica inflight team make experi amaz',\n",
       " 'virginamerica cutest salt pepper shaker ever think guy get better http co vc keulg j',\n",
       " 'virginamerica move seat notic better seat cabin select behind row select disappoint',\n",
       " 'virginamerica fav airlin',\n",
       " 'virginamerica hot femal pilot sweet dca sfo',\n",
       " 'virginamerica alreadi contact central baggag amp sent dm renttherunway charg dress lost suitcas help',\n",
       " 'virginamerica thank',\n",
       " 'virginamerica anyth go websit get lot error past minut',\n",
       " 'virginamerica virginatlant check flight sfo lax amp told atlant fli club gold get benefit',\n",
       " 'virginamerica husband order three drink via screen never came awesom',\n",
       " 'virginamerica soooo guy go leav seatbelt light flight bare call turbul',\n",
       " 'virginamerica funni stori websit broken miss javascript stylesheet checkin process dislik',\n",
       " 'virginamerica would love virgin like gopro',\n",
       " 'virginamerica tri check ct flight tmm desktop websit work sort cach bug so',\n",
       " 'virginamerica guy know check link email broken http co npxb obmr',\n",
       " 'virginamerica love wait monday return flight mostli watch inflight safeti video sorrynotsorri',\n",
       " 'virginamerica lost luggag day ago flight vx lax iad amp call everi day respons pleas give back stuff',\n",
       " 'virginamerica flight book problem section websit seem broken chrome might wan na look',\n",
       " 'virginamerica hi want see new rout plan year newark love fli guy hope',\n",
       " 'virginamerica mean probabl inappropri board',\n",
       " 'virginamerica happi spend day togeth let',\n",
       " 'virginamerica understand help thx comp',\n",
       " 'virginamerica thank absolut',\n",
       " 'virginamerica look like broken link asset http co oardjjgrrd',\n",
       " 'virginamerica manag itinerari section websit seem broken http co pujvcelng',\n",
       " 'virginamerica check site look like everi time load http co kaci awdbw',\n",
       " 'virginamerica carrier less half price round trip fare stun http co ukdjjijrow',\n",
       " 'virginamerica wtf happen pdx late flight march one way sfo',\n",
       " 'virginamerica free drink flight back free promo',\n",
       " 'virginamerica ssal thank',\n",
       " 'virginamerica luggag gone file paperwork promis call email still resolut respons central luggag',\n",
       " 'virginamerica thank',\n",
       " 'virginamerica thank take care suuperg flight rockstar travel',\n",
       " 'virginamerica thank love soft view travel san sfo http co cnctl g ef',\n",
       " 'virginamerica request mileag challeng statu sever week ago onlin heard back get help',\n",
       " 'virginamerica tri book ticket nyc face super fun broken style worri keep tri',\n",
       " 'virginamerica appli statu match feb got confirm email day still news though guy drop ball late flightli',\n",
       " 'virginamerica ador look forward flight austin two week',\n",
       " 'virginamerica glad mention took first virgin flight year back transform experi',\n",
       " 'virginamerica tri check look like site',\n",
       " 'virginamerica spend birthday night dal dca get home',\n",
       " 'virginamerica sent coupl messag email provid avail tri next year cheer',\n",
       " 'virginamerica first time fli virgin went sanfrancisco thank smooth ride easili new fav airlin',\n",
       " 'virginamerica serious though direct flight sfo fll may',\n",
       " 'virginamerica fine alreadi done purchas tri go way go back',\n",
       " 'virginamerica realli experi hope ws forc check small carri w noth empti cabin space board',\n",
       " 'virginamerica wjere luggag slow lax',\n",
       " 'virginamerica spoke repres offer solut loyal custom fli virginatlant well',\n",
       " 'virginamerica deepli disappoint birthday promo appli trip book mere day receiv email',\n",
       " 'virginamerica happen direct flight sfo fll look may see connect help dontdothistom',\n",
       " 'virginamerica promot product problem southwest recommend noneoth best http co tfanxbh cf',\n",
       " 'virginamerica love guy pl get direct rout la au',\n",
       " 'virginamerica cours work virginatlant obsess entir virgin famili',\n",
       " 'virginamerica ok first time fli tonight',\n",
       " 'virginamerica emboss badg patch superior one current use http co fq xelbon',\n",
       " 'virginamerica vx jfk la dirti plane standard',\n",
       " 'virginamerica flight vx head la jfk dirtiest va plane ever sad great airlin',\n",
       " 'virginamerica got squar away someon pick soon tweet tweet sooner',\n",
       " 'virginamerica avi rental continu button work websit book car tri time phone suck',\n",
       " 'virginamerica delay',\n",
       " 'virginamerica current minut hold cust servic need anyth add lap child reserv',\n",
       " 'virginamerica karinsle cours fun celebr thank happi chines new year',\n",
       " 'virginamerica flight book problem last second flight next week sfo san chanc want gift promo code sinc love guy',\n",
       " 'virginamerica comen bank joke pleas chang noth constant problem bank',\n",
       " 'virginamerica grandma ella th would lt bday greet flight crew stewardess eastern airlin',\n",
       " 'virginamerica bought tix atx dalla rout thank ad love yr airlin amp yr websit best transact site ever',\n",
       " 'virginamerica gave credit late flight flight yesterday great servic wow moment unexpect gestur',\n",
       " 'virginamerica submit statu match request back still heard fli monday look acceler',\n",
       " 'virginamerica safeti video http co cqmm nue love first cross countri flight livewelltravel sytycd',\n",
       " 'virginamerica look fat look yummi',\n",
       " 'virginamerica omg omg nonstop dalla austin virgin',\n",
       " 'virginamerica plane realli pretti thought u know',\n",
       " 'virginamerica pull hair tri book flight u site work iphon ipad comput help',\n",
       " 'virginamerica thank',\n",
       " 'virginamerica get help support ticket day incid thank',\n",
       " 'virginamerica good home texa moodlight http co n bvzti zi',\n",
       " 'virginamerica even open laptop seat c paid premium let',\n",
       " 'virginamerica seat c even open laptop paid extra seat',\n",
       " 'virginamerica thank need way make austin trip dca come',\n",
       " 'virginamerica cool never ur plane',\n",
       " 'virginamerica great well deserv',\n",
       " 'virginamerica fyi info virginamerica com email address say contact password reset email exist email bounc',\n",
       " 'virginamerica statu match week gone news flt next week hope flt count toward requir cust svc help',\n",
       " 'virginamerica websit suck donkey dick thought know best',\n",
       " 'virginamerica crap channel pay watch uk tv',\n",
       " 'virginamerica got set thank',\n",
       " 'virginamerica giant virgin america match made heaven',\n",
       " 'virginamerica thank good also see friday nwk gt sf boom',\n",
       " 'virginamerica come iphon app still use make wast paper',\n",
       " 'virginamerica back seat entertain system accept credit card apostroph surnam apostrophefail',\n",
       " 'virginamerica vx use lga slot instead today ad au make less like',\n",
       " 'virginamerica luv ur peopl product thing u charg herbal tea black tea caffein drinker',\n",
       " 'virginamerica thank see soon excit see expans destin spread wing',\n",
       " 'virginamerica sad learn longer fli sfo gt phl hope return',\n",
       " 'virginamerica incred custom servic ever experienc refresh',\n",
       " 'virginamerica dream realli open rout dalla austin mean houston might next',\n",
       " 'virginamerica omg final',\n",
       " 'virginamerica kinda suck earphon jack work flight may want look futur passeng',\n",
       " 'virginamerica poor experi first comput problem seat malfunct stuck miss meet san diego',\n",
       " 'virginamerica thankyou dal au rout make day',\n",
       " 'virginamerica awesom deal dal au way http co xcvqxykg',\n",
       " 'virginamerica love take southwestair backyard consum win biz compet',\n",
       " 'virginamerica fli love austin excel news',\n",
       " 'virginamerica congrat vx new rout',\n",
       " 'virginamerica tri offer charg addit k new ticket strand thur st time last time',\n",
       " 'virginamerica never bad experi one took cake extort carri item well',\n",
       " 'virginamerica spend hour worri item carryon would broken stolen sinc carri plane lock bag',\n",
       " 'virginamerica group e told room bin got plane room least bag row',\n",
       " 'virginamerica thank make flight lax jfk nightmar forc check carri bag gate',\n",
       " 'virginamerica lot flight book site work phone wait minut',\n",
       " 'virginamerica flight artisan chees wine pair',\n",
       " 'virginamerica classi',\n",
       " 'virginamerica sure lot jfk lhr flight go lot faster mph strong tailwind',\n",
       " 'virginamerica minu minut elev silver upgrad window open freeneversuck',\n",
       " 'virginamerica take year fli home dalla get shit togeth',\n",
       " 'virginamerica jezziegoldz would rough trip luckili virginamerica flight weather',\n",
       " 'virginamerica anoth perfect flight come plane sun visor stay carrier make rais',\n",
       " 'nice rt virginamerica man steel might faster wifi say sciencebehindtheexperi http co fgrbpazsix',\n",
       " 'virginamerica love danc littl richard cool bean',\n",
       " 'virginamerica use passbook still love though lt use email futur',\n",
       " 'virginamerica thank free birthday point right',\n",
       " 'virginamerica man steel fli citi though frequenc',\n",
       " 'virginamerica thank much share ad site http co tsvibtvt h',\n",
       " 'virginamerica dad segway best part whole infograph',\n",
       " 'virginamerica plan short haul airlin europ would defiantli fli guy',\n",
       " 'virginamerica wifi better seat',\n",
       " 'virginamerica start flight scold use overhead bin offer person seat next',\n",
       " 'virginamerica great return call day ask myvxexperi',\n",
       " 'virginamerica airlin cancel flight flight bo help custom get home virgin say good luck',\n",
       " 'virginamerica group virgin other bo weather expos actual cu serv model never flight book problem virgin',\n",
       " 'virginamerica one travel affect boston storm shock virgin complet apathi toward custom',\n",
       " 'virginamerica umm reason someon differ contact contact get definit answer',\n",
       " 'virginamerica tri make chang advanc hour prior tri onlin earlier want chang fee',\n",
       " 'virginamerica loyal drive nyc pa fli virgin sinc cut philli flight',\n",
       " 'virginamerica guy perfect alway lt wervirgin',\n",
       " 'virginamerica thank best custom servic left industri',\n",
       " 'virginamerica realli wish fli fargo fargoairport fare amaz',\n",
       " 'virginamerica mood light point reclin seat kickin feet',\n",
       " 'virginamerica flight schedul pm departur still say time plane gate updat long delay',\n",
       " 'virginamerica group got cancel flightlat fee waiv ticket book rep help either',\n",
       " 'virginamerica got pm newark home la folk ewr incred letsgohom',\n",
       " 'virginamerica fli lax sfo look awesom movi lineup actual wish long haul',\n",
       " 'unit thank',\n",
       " 'unit thank take care mr happi custom',\n",
       " 'unit still refund word via dm pleas resolv issu cancel flightl flight useless assist trip',\n",
       " 'unit delay due lack crew delay long line deic still need improv servic unit',\n",
       " 'unit thank fill luck common',\n",
       " 'unit eri ord express connect huge popular could eri ewr hop',\n",
       " 'unit think board flight au earli think',\n",
       " 'unit gate agent hook altern flight way prevent constant issu would rock',\n",
       " 'unit thank',\n",
       " 'unit thank ticket',\n",
       " 'unit worst nonrefund first class ticket oh select global fc system auto select economi w upgrad',\n",
       " 'unit cheertymedad buy tix day flight transfer tix flaw secur logic flaw custom servic',\n",
       " 'unit start claim week unrealist realli suppos go long car seat child ridicul',\n",
       " 'unit follow pleas airlin beautiful',\n",
       " 'unit car seat lost unit reimburs new one pair shoe necess child',\n",
       " 'unit highbuddyyi total suck cousin work phl said unit',\n",
       " 'unit want let know wonder rosetta gate agent work flight dan ase let know wasappreci',\n",
       " 'unit begin feb call unit said would send anoth voucher mail never got anyth tiredofwait',\n",
       " 'unit internet great thing email execut compani mayb respond time manner',\n",
       " 'unit that weak see ya hey virginamerica',\n",
       " 'unit flew back w compani sinc unit didnt earlier flight',\n",
       " 'unit tri book award septemb need flight aegeanairlin show even w mani award seat availab',\n",
       " 'unit sure drive total hour get bag like explain debacl one want talk',\n",
       " 'unit see told repeatedli pilot late flight kept get late flightr board defibril issu',\n",
       " 'unit prefer secur line anymor tsa pre check pull silverairway partner flight platinum spoil',\n",
       " 'unit newarkliberti airport need indic differ gate termin amp c flyingainteasi',\n",
       " 'unit ye pleas newli marri tri updat last name preexist intern flight seem easi',\n",
       " 'unit unit refus reissu lost voucher plane take due mechan badcustomerservic',\n",
       " 'unit also run instruct shatter comput http co oaflfr wxb',\n",
       " 'unit ye agent last minut one agent rude thank ladan nice',\n",
       " 'unit iah charlott baggag claim rep latric h customerservic non exist ignor custom inappropri touch custom',\n",
       " 'unit thank help got need issu austrian guess sit awhil longer',\n",
       " 'unit uctraveladvisor would love respond websit saw realli long form busi new seat bad',\n",
       " 'unit refund flight voucher anoth flight differ airlin expens today hour drive inconveni',\n",
       " 'unit receiv call back day infant car seat suppos go anywher child',\n",
       " 'unit well sit ground time wait gate tiredofthi',\n",
       " 'unit airport snow remov method keep good work folk cessna becom http co v tmusjvu',\n",
       " 'unit need guy book plane concern travel someon els move forward',\n",
       " 'unit measli e certif appreci loyal custom wait hr tarmac ua unaccept',\n",
       " 'unit email address usernam sign avail',\n",
       " 'unit thank abl claim interim expens cost stuff',\n",
       " 'unit rude rude',\n",
       " 'unit get board pass austrian airlin codeshar flight rebook incl hour layov amp stuck outsid sec',\n",
       " 'unit receiv flight unit truli break guitar unitedbreaksguitar wantmymoneyback',\n",
       " 'unit flew telaviv paid third suitcas even make plane besid impolit servic',\n",
       " 'unit bag still colo spring disabl search unfamiliar airport look bag good outcom',\n",
       " 'unit shame flex ticket transfer rule even call neurosurgeri icu enough',\n",
       " 'unit denver said handl baggag made colo spring gave number call help either',\n",
       " 'unit guy need seriou train custom servic mani better option put way guy handl ur mistak',\n",
       " 'unit found problem avoid like plagu told find supervisor',\n",
       " 'unit zcc u cancel flight flight h advanc need connect flight reschedul link help help gf wait month see',\n",
       " 'unit fli',\n",
       " 'unit addit first flight delay hour arriv destin hr late flight',\n",
       " 'unit flew unit last month experi awesom',\n",
       " 'unit travel book thru unit group dept okc ticket agent less will help connect lax',\n",
       " 'unit v upset disabl servic told one employe carri medic equip rude',\n",
       " 'unit thnx quick repli think assist intl grp put consider inconveni today',\n",
       " 'unit wont transfer flight ticket accompani yr old activ militari mom emerg brain surgeri wow',\n",
       " 'unit getmeontop week late flightr still receiv mile mileageplu gift card starbuck card hand',\n",
       " 'unit k alway hope improv',\n",
       " 'unit yet complain guy check luggag throw bag around unfortun coincid hope',\n",
       " 'unit okc ticket agent roger mclarren sp less help intl group travel problem find supervisor help',\n",
       " 'unit mobil app need construct ground os categori expens get right',\n",
       " 'unit anoth fail unit ticket agent okc less help could care less problem american come',\n",
       " 'unit also work wc coach good thing bird land ahead schedul use wc stat',\n",
       " 'unit sent email custom care tell may break sincer hope help',\n",
       " 'unit silli fli delta today unit club staff attend surli unhelp alway seem bother peski folk',\n",
       " 'unit phone number find call flight reserv',\n",
       " 'unit well fix miss buddi th bday neglig attempt make',\n",
       " 'unit believ help custom servic like said want number someon fix',\n",
       " 'unit help baggag servic desk said bc tsa screen fll bag made bag ewr',\n",
       " 'unit mobil board pass disappear phone stand line board second time week hmm',\n",
       " 'unit record rozana newark love help choosekind',\n",
       " 'unit thx updat',\n",
       " 'unit explain eager flight attend tri ask vision ccicanin guid dog',\n",
       " 'unit point ask detail servicedog book flight crew read continu',\n",
       " 'unit tri one avail bogota everyon rude houston stuck hour guy',\n",
       " 'unit worst unitedflightsev ua la iad mechan problem took land fix delay wtfodd',\n",
       " 'unit despit bag make newark good inform email track updat help',\n",
       " 'unit go ua outbound flight last thur delay hr long delay worst unitedflightsev',\n",
       " 'unit worst unitedflightsev ua iad la mechan problem switch aircraft delay hour',\n",
       " 'unit crash tri check',\n",
       " 'unit wow deal plu seat avail easi chang make custom happi',\n",
       " 'unit logan board gong show due lax carri enforc bin full coat room bag u need better system',\n",
       " 'unit blackmail pay extra return ticket nullifi san francisco airport terribl servic rep scam',\n",
       " 'unit disappoint u didnt honor credit given ur mistak take busi elsewher',\n",
       " 'unit ua still wait suppos depart',\n",
       " 'unit credit last trip never came mail',\n",
       " 'unit ok month wait hear airlin gave quit bit day request terribl servic',\n",
       " 'unit process ever end still wait repli sinc month pathet customerservic',\n",
       " 'unit go websit flight book problem three ticket today boot system umpteen time',\n",
       " 'unit get account number websit say email unavail',\n",
       " 'unit receiv bag last night still miss one',\n",
       " 'unit simonroesn need upgrad seat even economi plu like sit concret bench',\n",
       " 'unit nd flight also delay pilot board sit schedul',\n",
       " 'unit hard stay upset someon least tri show remors',\n",
       " 'unit way simpl apolog goe long way even hollow one obviou care well',\n",
       " 'unit one time thing either shock pattern repeat neglect disrespect',\n",
       " 'unit finger cross amp intact disappoint experi actual say enjoy use',\n",
       " 'unit incred easi fix would rather stay comfort zone get forc mine',\n",
       " 'unit juli zero excus date system caus problem like',\n",
       " 'unit everyon around us sit friend famili member book ticket octob decemb bought',\n",
       " 'unit sure talk go nonstop flight sna sfo sfo ewr',\n",
       " 'unit move americanair unit talk servic',\n",
       " 'unit ask legitim question systemwid vs local problem got back unrel flightd copi past better',\n",
       " 'unit time call need ski go airport get faith unit',\n",
       " 'unit see guy amaz one compani continu make mistak yet fail held account error',\n",
       " 'unit yeah sorri alway problem unit intern reput problem',\n",
       " 'unit mayb bbbne sd ks ia would care hear went whoever listen issu caus',\n",
       " 'unit wonder share fb insta would produc number charact realli limit stori tell',\n",
       " 'unit tell number call left airport neglig pilot staff',\n",
       " 'unit could email resent doesnt appear arriv',\n",
       " 'unit follow order dm come',\n",
       " 'unit unit coupon make broken entertain system hour flight serious ridicul learncustomerservic',\n",
       " 'unit drop bag overnight amp leav week suppos hold bag',\n",
       " 'unit dm detail still respons book today',\n",
       " 'unit abl dm confirm number',\n",
       " 'unit sent messag let know got twitter liter also realli go stuck hr',\n",
       " 'unit unhappi respons complaint email nd feb ref aw custom servic',\n",
       " 'unit privat jet would cool work tri',\n",
       " 'unit given option use unit travelbank recent flight book problem help use recoup fund thank',\n",
       " 'unit common keep paper work readi delay flight meet choosechicago',\n",
       " 'unit yep correct got email flight cancel flightl matter flight atl delay thx',\n",
       " 'unit k problem get fll iah sent dm make connect pleas let know',\n",
       " 'unit thank sent',\n",
       " 'unit ground montreal ua miss connect ua st loui help privat jet',\n",
       " 'unit frustrat nervou',\n",
       " 'unit one make difficult',\n",
       " 'unit child someon issu fli prepar ahead time reduc distress caus plane',\n",
       " 'unit get cancel flightl hour take',\n",
       " 'unit alway happen guy make travel incred stress uncomfort good busi',\n",
       " 'unit someon sever anxieti one person help next',\n",
       " 'unit seek go client b c u cant get need refund fill form confid work past indic',\n",
       " 'unit unrival access california flight u uk airport nonstop one stop connect year round',\n",
       " 'unit luckili made flight time disappoint lack commun',\n",
       " 'unit check see flight atl ord got cancel flight',\n",
       " 'unit servic far horrid want end trip high note guess option',\n",
       " 'unit book flight home month ago request seat togeth fianc e got middl seat unaccept',\n",
       " 'unit guy horribl',\n",
       " 'unit thnx info',\n",
       " 'unit pay wifi intern busi ticket pennypinch',\n",
       " 'unit ok top thing lost luggag could get wors unitedairlin',\n",
       " 'unit kudo cancel flightl flight dfw morn unit usual first panic',\n",
       " 'unit luggag broken youcouldntmakethi brokenwheel',\n",
       " 'unit mayb one day one quot http co mjkpgvxmpc',\n",
       " 'unit flight delay one rememb turn heat flight leav ord serious',\n",
       " 'unit anoth awesom new plane flight extrem nice captain steve connolli',\n",
       " 'unit speak real person get resolv polit effici',\n",
       " 'unit file refund claim told charg dm disput bank henc would like',\n",
       " 'unit bag make flight iad second day without cloth pretti inconveni pretti curiou unitedairlin',\n",
       " 'unit everi unit flight saipan guam adventur never know capeair old plane oper',\n",
       " 'unit henc ask custom servic phone number speak real person get sort',\n",
       " 'unit bag leav washington yet would conveni see left day ago unitedairlin lostluggag',\n",
       " 'unit accord dm owe refund pleas may provid contact number go bank file claim',\n",
       " 'unit hour ago need work bag make hotel time need go elsewher',\n",
       " 'unit pl properli train agent request speak k custom servic amp transfer dead end even open hr',\n",
       " 'unit thank rememb load bag onto connect flight oh wait forgot iceland fun cloth',\n",
       " 'unit thank chees platter abund entertain option time flew',\n",
       " 'unit custom servic atroci disrupt travel plan lost luggag imposs talk human',\n",
       " 'unit termin mia food open esp flight two hour earli like recommend eat',\n",
       " 'unit ua flight current stuck portland miss ride hour delay getmartyhom',\n",
       " 'unit respond variou request contact number anyon know uk custom servic number unitedairlin',\n",
       " 'unit look get bag lusaka',\n",
       " 'unit could updat suitcas pleas onlin phone track told noth told back yesterday',\n",
       " 'unit thank tri two day set',\n",
       " 'unit last thing u guy charg drink transatlant flight',\n",
       " 'unit lhr arriv loung fail wait min shower left find hotel u know mani passeng u carri plan',\n",
       " 'unit complet form doubt use ua care day vacat sure ua feel respons',\n",
       " 'unit definit compliment realli thought bag lost sent anoth airport end happi custom',\n",
       " 'unit thanx much follow email ticket voucher unitedairlin care',\n",
       " 'unit definit trip rememb ewr sti second season first seat pay loyal',\n",
       " 'unit nope told us time go home sleep airport even though assur us would get room',\n",
       " 'unit back expens holiday work year pay ruin want compens amp origin case back',\n",
       " 'unit thank unit understand would actual like bag back done also want money',\n",
       " 'unit frankli wors custom servic ever problem happen deal defin compani never unit',\n",
       " 'unit still valid flight seem strang delay late flight inbound crew hour plane alreadi',\n",
       " 'unit thank lack help can respons k desk',\n",
       " 'unit bad ua anoth unforese oper issu return flight',\n",
       " 'unit pay luggag deliv arriv wait addit day deliveri',\n",
       " 'unit hotel peopl feel like held hostag someon board pass leav fail',\n",
       " 'unit one great airlin',\n",
       " 'unit outbound bag lb bag return home bag lb logic write machin human help requir',\n",
       " 'lindaswc unit like hear poor experi pleas share detail w custom care team http co hisc ndmgz',\n",
       " 'unit cancel flightn left us fend flt came late flight get runaround hr employe blame previou',\n",
       " 'unit okay ase find luggag',\n",
       " 'unit agent met us gate said issu w delay ua would taken onlin',\n",
       " 'unit ladi one phone say tel aviv tel aviv unit say newark one know noth',\n",
       " 'unit melaniespr see kn run plane run thank help',\n",
       " 'unit ye still answer mani luggag day unaccept',\n",
       " 'unit go noth like alway',\n",
       " 'unit plu food taxi',\n",
       " 'unit offer us room peopl fail',\n",
       " 'unit peopl get pretti tire action solv problem plu miss day vacat ski',\n",
       " 'unit bright side would keep promis made hope good night thank',\n",
       " 'unit take back comment team work hard help us far solut hotel food anyth fail',\n",
       " 'unit arriv two hour late flight clt sit tarmac move plane gate unhappi custom',\n",
       " 'unit airlin absolut worst idea neveragain unitedairlin',\n",
       " 'unit thank might want fix line custom care team current respond inquiri within busi day',\n",
       " 'unit flew unit au austin bergstrom cancun intl best flight ever big small',\n",
       " 'unit frustrat frequent flyer loyal sinc continent upgrad equal pay time top purchas ticket',\n",
       " 'unit wors figur pack plane screw connectn claim hotl room san fran strand pax way go',\n",
       " 'unit passeng hour delay flight left hotel end night hou airport wtf http co zfqmpgxv',\n",
       " 'hey unit flight iah po leav late flight one back iah earli rather get po earlier',\n",
       " 'unit lost bag process broken agent promis call amp hold bag found wake w deliveri fail',\n",
       " 'unit peopl counter help see nobodi flight austin still sit',\n",
       " 'unit darquenlov regret hear pleas let us know need assist kn final abl secur seat thx',\n",
       " 'unit good know open close door premier passeng safeti brief delay flight annoy',\n",
       " 'unit yea get phoenix alreadi delay day peopl bullshit',\n",
       " 'unit consol staff stellar hour delay encount everi one flight',\n",
       " 'unit flight ua gate b tell ray somehow made flight iah wait one',\n",
       " 'unit unfortun tumitravel xma gift look like razor rip right front pocket pictur',\n",
       " 'unit thank ask',\n",
       " 'unit lost bag cancel flightl flight delhi call center poor unit staff spread thin stress name',\n",
       " 'unit ye make mistak less absurd chang fact inconveni miss luggag tonight',\n",
       " 'unit constantli challeng upgrad amp charg order prevent dvt pay addtl http co xc jq r b',\n",
       " 'unit ord wait min crew member left gate item came flight attend sarcast said good luck walk away',\n",
       " 'unit',\n",
       " 'unit favorit airlin',\n",
       " 'unit serious fail make stranger share room',\n",
       " 'unit need asap make today flight',\n",
       " 'unit agent split reserv cancel flight refund credit wk',\n",
       " 'unit would make share room',\n",
       " 'unit tri call w min phn wait mean miss option anyway',\n",
       " 'unit ask guy flight bwi wait us get delay flight san diego pretti pleas',\n",
       " 'unit still wait find rep work hard upset wait tomorrow pm get mammoth',\n",
       " 'unit earli flt think call appropri ye review nada avail next day expect full refund',\n",
       " 'unit ask call get fix tweet bs question stall make thing wors phone number pleas',\n",
       " 'unit yo yo yo stuck tarmac hour fli ohar go miss ride flypdx help pleas helpimstuck unit',\n",
       " 'unit highli unprofession overbook flight seat amp feel rearrang schedul mismanag',\n",
       " 'unit well consid everi agent claim unabl help everyth els wast time hear call corp',\n",
       " 'unit man wait book ticket thank jp life sabe',\n",
       " 'unit ice total understand larg number us face hour time overnight cancel flightat seem like',\n",
       " 'unit flt cancel flightl get email happen courtesi phn call book diff airlin amp citi',\n",
       " 'unit tag number let find bag',\n",
       " 'unit better train support staff appropri decorum consid revisit terribl provid death certif polici',\n",
       " 'unit well bar set low guy realli good apolog game chang u guy learn',\n",
       " 'unit guy continu impress houston http co cih qnllcm',\n",
       " 'unit way make phone call need handl via twitter email web thank',\n",
       " 'unit websit deserv new design html ftw',\n",
       " 'unit thank ef holiday miss full day ski due baggag team incompet flyyow',\n",
       " 'unit agent help person front finish walk away guy behind shock',\n",
       " 'unit connect ord exact plane check carri appar taken amp left chicago pretti ridicul',\n",
       " 'unit encourag cpap tonight',\n",
       " 'unit ye file claim soon carousel stop without bag got email found sched deliveri',\n",
       " 'unit delay den cle manual enter baggag tag realli worst cust servic day ker friendlyski',\n",
       " 'unit tell us flight delay tell us time min spare say delay unless sure',\n",
       " 'unit ye lusaka zambia guess bag never made plane iad',\n",
       " 'unit late flight denver late flight newark let even get disast check bag unaccept',\n",
       " 'unit let think ever flown problem worst airlin period',\n",
       " 'unit ye file claim amp hope receiv luggag ridicul purchas item go sleep amp reimburs',\n",
       " 'unit ua ord lhr bag load min late flight frigid air cabin plane feel like fall apart upgrad long haul fleet',\n",
       " 'unit flight attend never serv beverag tea check give ua notcool',\n",
       " 'unit load balanc system appar systemwid major impact unit airlin flight cyberattack',\n",
       " 'unit unschedul refuel stop miss connect flight r home n look ward bed big pb amp j sandwich',\n",
       " 'unit americanair spent hundr rectifi situat guy go quiet',\n",
       " 'unit ua sit ewr nearli hour sked pilot say comput clue leav help',\n",
       " 'unit americanair end come travel liter extra day half',\n",
       " 'unit made upgrad list fli st tomorrow min first time ever statusmatchpaidoff http co atfrkp goy',\n",
       " 'unit refund us vacat get free room night make make us sleep dia',\n",
       " 'unit thank remind fun ride http co ppva rch f',\n",
       " 'unit receiv luggag also look left snow arriv ask peopl refund',\n",
       " 'unit updat aircraft wifi devic entertain outlet get charg devic',\n",
       " 'unit one scan insid plane ask peopl line around plane go',\n",
       " 'unit gate chang two delay even crew think airlin suck',\n",
       " 'unit frustrat wast day due equip failur',\n",
       " 'unit comput stop give updat took flight info app ridicul keep peopl updat',\n",
       " 'unit soooo day offer respons assum poor treatment gate agent norm',\n",
       " 'unit terrif mani thank look forward back ua tomorrow great flight vancouv',\n",
       " 'unit call result hr hold time amp day wait check suspect code share fare noth investig time wast',\n",
       " 'unit taken week cust care respond case request refund wi fi work get updat',\n",
       " 'unit appreci effort get home',\n",
       " 'unit correct spent hour tri book onlin receiv error click final purchas button',\n",
       " 'unit today finest could prevent one gate agent advis passeng',\n",
       " 'unit real deal delay flight ua denver vega',\n",
       " 'unit ua madrid arriv agent mass confus sent fro ua employe maryjo rude unhelp',\n",
       " 'unit system failur bad trend softwar project like fli airplan thing emerg takeoff',\n",
       " 'unit lot report system failur delay flight last week current sit tarmac ogg hour',\n",
       " 'unit despit shaki connect look like get home tonight great job unit touch go',\n",
       " 'unit http co hj kq chn howev complet control price still display http co hj kq chn',\n",
       " 'unit tell file claim cloth purchas',\n",
       " 'unit comic return flight ase two unit flight board adjac gate clear plane board',\n",
       " 'unit grk file refer',\n",
       " 'unit would contact discuss poor experi custom servic would give shot',\n",
       " 'unit ua pacif rim date night cut constantli randomli one spot repeat',\n",
       " 'unit tri sinc file report',\n",
       " 'unit send email bad experi send back gener respons yet anoth reason never fli',\n",
       " 'unit ticket pleas refund unnecessari upgrad fee',\n",
       " 'unit horribl lost carseat expect us use loner carseat safeti regul say illeg use use car seat',\n",
       " 'unit thank',\n",
       " 'unit care thehipmunk link show wrong price site site amp respons ensur correct',\n",
       " 'unit need get home th tell th night compens anyth done',\n",
       " 'unit mllovelac baggag fee waiv premier member pleas see http co u duw mde jp point membership',\n",
       " 'unit wonder bag claim peopl final bag catch earlier flight origin flight land wastedtim',\n",
       " 'unit dmed thank',\n",
       " 'unit thank touch',\n",
       " 'unit thank karen salisburi iah amaz custom servic found daughter bag lost ua made day',\n",
       " 'unit day late flightr bag left iad unit help everyon tell differ stori',\n",
       " 'unit left comment custom care thank contact',\n",
       " 'unit lose gate check bag den ord direct flight ugh',\n",
       " 'unit caught earlier flight ord gate check bag lost hare origin flight land minut frustrat',\n",
       " 'ye thank much unit whitterbug see spoke reserv team reinstat flight thank ey',\n",
       " 'unit captain behalf front offic welcom board never heard laugh hard funnycaptain',\n",
       " 'unit pleas follow dm miss bag',\n",
       " 'unit great fare',\n",
       " 'unit left item plane call non stop one answer pleas help',\n",
       " 'unit awesom book next christma vacatinn decemb way want devalu mileag plu',\n",
       " 'unit good number call speak someon fix peopl luggag saturday',\n",
       " 'unit thank u secur room night thx help custom servic rep n dorn thank u goodenoughmoth',\n",
       " 'unit damn bag',\n",
       " 'unit well someon tell employe denver baggag claim still bag',\n",
       " 'unit divert miss connect flight told bag way msi peopl care',\n",
       " 'unit male agnt la threaten canadian cust cust take pic gate agent announc help rebook friendlyski',\n",
       " 'unit apollochplay want go home tonight cancel flight last leg reserv w permiss ph rp',\n",
       " 'unit stress rude agent overwhelm delyd flight la den yell sever peopl pretti friendlyski',\n",
       " 'unit land boston last night hour travel rough tho',\n",
       " 'unit fail cancel flightl flight frm gjt use reserv home iah sea reflight book problem w permiss ph rp',\n",
       " 'unit made fli list airlin wait connector late flight stuck iah',\n",
       " 'unit also mere fact go onlin issu statement vice call talk directli one good exampl',\n",
       " 'unit thank flew newark vail eagl',\n",
       " 'unit weekend deal compani would say otherwis',\n",
       " 'unit http co hpsqvrjk flight gone got plane businesstravel goodenoughmoth',\n",
       " 'unit proper respons sorri wait flight look issu delta would handl',\n",
       " 'unit custom servic terribl stood inlin hour flight hour late flightr still bag disgutedindenv',\n",
       " 'unit inadequ accid',\n",
       " 'unit reebok rockinwel denver intern airport http co tkvmhbkec',\n",
       " 'unit thank respond quickli help tool dustyob',\n",
       " 'unit board time show min gate agent start show check bag http co zcbjyo lsn',\n",
       " 'unit agent la let custom know help rebook delay flight den unfriendlyski http co quzvmk rtr',\n",
       " 'unit empath w disappoint stclass flight w nonwork entertainmnt worth unfriendlyski http co loeco gmvd',\n",
       " 'unit work',\n",
       " 'unit search mileag ticket bom find singl one saver award see play earn mile use',\n",
       " 'unit flight arriv minut earli wait hour bag',\n",
       " 'unit issu fact one even call despit promis confirm bag locat',\n",
       " 'unit still wait hear back wallet stolen one plane would appreci resolut',\n",
       " 'unit flysaa lost baggag heard differ thing differ employe unit flysaa said noth',\n",
       " 'unit cs think mile repair damag done interest travel unit exp worst flight ever',\n",
       " 'unit sign notif first trip updat sure happen',\n",
       " 'unit thank took care everyth made right experi use open app find flight chang',\n",
       " 'unit line respons wait tomorrow morn flight overbook',\n",
       " 'unit took exact aircraft lax day ago fit problem agent today told nonsens polici chang',\n",
       " 'unit help agent club help baggag fee night life stop busi silverairway',\n",
       " 'unit never heard http co qdebyahqfm',\n",
       " 'southwestair charg ticket chang fee incur mysteri cost incur unit',\n",
       " 'unit exhaust amp frustrat link fb post abt travel issu http co larkc vc',\n",
       " 'unit deni get plane w get chanc prove fit rooki read bio',\n",
       " 'unit exactli point fit premier access board group return ticket yr',\n",
       " 'unit never experienc worst custom servic place blame codeshar partner assum respons unaccept',\n",
       " 'unit current board check terribl staff rude expens luggag thrown around etc',\n",
       " 'unit fuck void ticket kept money even apolog never fli airlin unitedairlin',\n",
       " 'unit worst custom svc kevin rep call center must investig baggag lost help argument',\n",
       " 'unit sell ticket silverairway http co onhxhco bk terribl servic ua staff reach silver',\n",
       " 'unit got demot gold cuz hubbi got pqd tho enuf spent gold spousal discrimin angri',\n",
       " 'unit thank',\n",
       " 'unit favorit way travel thank http co vgn x ckg',\n",
       " 'unit ye lot terribl custom servic newark despit rais complaint ignor henc tweet',\n",
       " 'unit love new plane lga ord power outlet',\n",
       " 'unit tweet id number reveal home address anyon web',\n",
       " 'unit file delay bag report saturday flight cancel flightl never went anywher',\n",
       " 'unit need land ewr baggag claim file sent employe droppeditoffyet',\n",
       " 'unit rare ceas amaz wors hope last time fli',\n",
       " 'unit icloud yet pleas help',\n",
       " 'unit respons back',\n",
       " 'unit atroci custom servic',\n",
       " 'unit albanyairport delay departur check bag gate claim space fill walk open space delay poorcustomerservic',\n",
       " 'unit cancel flight flight reason amp phone hour vacat',\n",
       " 'unit dfpietra respons shake head back forth tsk better custom servic apolog',\n",
       " 'unit cours bag frustrat',\n",
       " 'unit worst avoid like plagu',\n",
       " 'unit worst airlin world',\n",
       " 'unit someon need dm resolv correctli extrem disappoint servic receiv terribl manag',\n",
       " 'unit premier gold desk chang flight waiv fee give wrong flight jana acosta salt lake refus servic angri',\n",
       " 'unit give one thing consist unfortun consist job well alwaysdelayedonunit',\n",
       " 'unit right angri',\n",
       " 'unit first time fli unit also last time terribl back virginatlant branson virginatlant unitedairlin',\n",
       " 'unit use commit continentalairlin flyer merger rememb switch southwestair communicationfail',\n",
       " 'unit least could offer ticket coach instead cancel flight reserv glitch notfair',\n",
       " 'unit say made flight poor non commun unaccount lost time amp lot frustrat flyer stand around',\n",
       " 'unit think dm would better',\n",
       " 'unit gate announc state delay due mainten yet app say late flight arriv aircraft tell truth unfriendli',\n",
       " 'unit easili worst compani ever experienc lost someon person possess amp care less',\n",
       " 'unit app show arriv aircraft earli depart flight delay due late flight arriv aircraft unfriendli',\n",
       " 'unit alreadi airport hr late flightr still guy realli kill today tri stay posit',\n",
       " 'unit unit servic level reach etihad let realist lufthansa ill consid',\n",
       " 'unit realli someon call sick someon forgot call replac hour late flight take theworst',\n",
       " 'unit ask flight attend typic compens would amp say might get free tv unaccept',\n",
       " 'unit disappoint today simpli put rather unpleas thing current flight delay cant wait get home',\n",
       " 'unit round trip non english speak friend strand twice hour time staff member rude',\n",
       " 'unit found group peopl actual hate peopl isi that right unit airlin',\n",
       " 'unit nope walk amp orf termin amp unit agent found show last minut board us mani panick peopl',\n",
       " 'unit thank',\n",
       " 'unit time final get dalla could driven less frustrat cheaper',\n",
       " 'unit tri get final destin need compens hr person time wast',\n",
       " 'unit guy realli custom servic clue could spent effort clear bin rollerboard instead art project mine',\n",
       " 'unit prioriti iov',\n",
       " 'unit pleas premier platinum',\n",
       " 'unit put bag plane seattl flight wait line talk someon bag statu matter',\n",
       " 'unit campilley hahaha american compani would say great sarcasm',\n",
       " 'unit think actual like screen campilley',\n",
       " 'unit appar ask peopl board plane big miscalcul made',\n",
       " 'unit shame choos unit may differ reunit age friend never see poorservic',\n",
       " 'unit check statu claim go month attent upset',\n",
       " 'unit flight delay due mainten lit caus miss connect iah msi help',\n",
       " 'unit unitedairlin pl fix aspenbaggagefail issu pay way aspen flight cancel flight left us cold den',\n",
       " 'unit read bio see work never encount airlin disappoint understat',\n",
       " 'unit custom care email phone rep speak mani issu place charact',\n",
       " 'thank unit truu tall certainli take look pleas follow dm confirm number assist jh',\n",
       " 'unit process recov car rental condo rental florida call unit altern flight noanswer',\n",
       " 'unit thank listen definit person line thought absurd',\n",
       " 'unit wait tarmac gt hr appar ua overweight amp return gate wtf fb',\n",
       " 'unit thank mention board ask person measur bag anoth woman men ask',\n",
       " 'unit leav tarmac unit gate agent agre head count min count peopl max epicfailunit',\n",
       " 'unit real dedic amp concern apolog fix issu miser issu past mo',\n",
       " 'unit block dm ing would rather complain public forum',\n",
       " 'unit ok submit thank opportun give feedback',\n",
       " 'unit big thank ms winston assist phone baggag claim issu today realli went extra mile',\n",
       " 'unit soon done articl thank tom',\n",
       " 'unit book flight charg twice mean redeem cc point properli would gone elsewher',\n",
       " 'unit ton problem get bag given run around day what',\n",
       " 'unit pedophil airlin split yr old daughter row apart flight boston',\n",
       " 'unit wait day militari bag airport hour away horribl',\n",
       " 'unit arriv minut earli nice equip readi wait minut luggag far time gain wipe',\n",
       " 'unit musician real dirti lax never block get flight bass',\n",
       " 'unit rebook line peopl deep',\n",
       " 'unit flyeia ye said took hour',\n",
       " 'unit whose pay actual fli k year deserv better servic cc holder',\n",
       " 'unit ok thank help',\n",
       " 'unit happi flyer ua flight sfo cleveland sunday stay tune blog articl http co vdfdodqvgx',\n",
       " 'unit flight plane sfo den basic time',\n",
       " 'unit thank program comment system assign seat behind even though pair avail chang back',\n",
       " 'unit min delay flt sfo load pax make sens strand mani us overnight ord due miss cnxn',\n",
       " 'unit head check bag check arriv claim peopl bag http co dplq mhqgd',\n",
       " 'unit must drone unit keambleam understand frustrat bag team work hard get bag',\n",
       " 'unit chang made hour someth taken second onlin thrill love agent though',\n",
       " 'unit flight attend understand understand english mean deaf stop yell english slowli',\n",
       " 'unit appropri ask public henc dm unit employe new answer process hassl cancel flight',\n",
       " 'unit well big terribl high expect point',\n",
       " 'unit like tri make hate airlin fee check bag never mention ticket rude agent',\n",
       " 'unit nice app say us delay weather pilot say wait fuel one ur control one',\n",
       " 'unit pleas robin ewr premier desk help get earlier flight work huge thank',\n",
       " 'unit ok thank provid complimentari hotel accommod sinc stay overnight',\n",
       " 'unit origin tri share detail link jimmi samartzi vice presid custom experi sent expir',\n",
       " 'unit realli hr delay gate chang amp board us sent us back amp board us chang flight go',\n",
       " 'unit would help integr app activ surf',\n",
       " 'unit ac went minut return mojav desert pressurecook heattrap',\n",
       " 'unit nope still one help give unit badservic',\n",
       " 'unit airlin caus miss connect u would think would take whatev step remedi screw',\n",
       " 'unit thank help take hour repli get messag middl night actual help',\n",
       " 'unit flight ua descend farc left ewr yet go get wors',\n",
       " 'unit told due ua fli direct dublin go london complet shambl',\n",
       " 'unit min ewr baggag claim stillnobag ridicul',\n",
       " 'unit standbi denver delay confirm aspen whose flight cancel flight day confid',\n",
       " 'unit ye back plane delay due baggag load issu http co nfaqhhr j',\n",
       " 'unit pt u cancel flight final got stndbi pm flight day missedwork clientnothappi http co suprlfoi',\n",
       " 'unit thank kind agent went amp beyond get strand famili home',\n",
       " 'unit see justifi cost get earli flight seat airlin charg conveni get passeng earli',\n",
       " 'unit woke notif flight move hr earli bare made flight hr layov sfo want hop earlier option',\n",
       " 'unit delay baggag claim land hope bag broken damag lost w c result complaint',\n",
       " 'unit done want send screen shot second call minut',\n",
       " 'unit look beauti dc unit airlin http co mvyoizrpd',\n",
       " 'unit thank fill form soon land like dupe hope appreci feedback amp better',\n",
       " 'unit line denver rebook due weather issu better http co tmccexyaaq',\n",
       " 'unit one suffer understand delay understand tri speed process delay extent',\n",
       " 'unit cancel flight flight late flightr agent claim put new flight cancel flight cowork got flight delay',\n",
       " 'unit urgenc ridicul ceo claim custom focus yet delay happen plane sit custom',\n",
       " 'unit ask full refund delay hour give reason enough give partial credit',\n",
       " 'unit flight schedul move never flight everyon move without sens',\n",
       " 'unit ok thx',\n",
       " 'unit go hell',\n",
       " 'unit sinc bulkhead seat bag floor u reserv head space seat b ua impress',\n",
       " 'unit would help could refresh board time info board pass delay flight',\n",
       " 'unit flight far year delay includ cancel flightat late flightst reason crew need mandatori sleep mexico',\n",
       " 'unit great hear thankyou much greatli appreci repli feel much settl',\n",
       " 'unit counter agent rdu deserv medal thankyou',\n",
       " 'saga melissaafr bag delay w unit reunion forc go shop stay tune',\n",
       " 'unit flight ord gate agent tri prevent take onboard bag use year flight crew reason',\n",
       " 'unit thank liter call preboard ran',\n",
       " 'unit guy split charg credit card make unnecessarili expens peopl fli guy pt',\n",
       " 'unit ua feb point oversel flight bad make peopl wait hr kick board wors',\n",
       " 'unit brilliant thankyou much class part carryon',\n",
       " 'unit thank listen compliant right thing appreci work',\n",
       " 'unit sinc cancel flightl flight twice',\n",
       " 'unit chanc wait ord afternoon anoth flight screw hold',\n",
       " 'unit ua wait ground tri get gate move b crap',\n",
       " 'unit mex nrt date tbd get usd differ quotat septemb compar mex bkk',\n",
       " 'unit better keep connect ord fwa board ten minut open get plane land hour late flight',\n",
       " 'unit unit gold number hold minut think may lost nowhereland gold reserv help',\n",
       " 'unit great readi go home',\n",
       " 'unit wow even answer back awesom americanair usairway custom servic usairwaysfail',\n",
       " 'unit noooooooooooooooooooooop',\n",
       " 'unit oh sure plan occur absolut consist usual yyj flight cancel flightl daili',\n",
       " 'unit jm outsourc unit airlin custom love outsourc outsourc outsourc',\n",
       " 'unit thank need follow back tho otherwis dm x',\n",
       " 'unit get better suggest get senior manag gate retrain gate peopl',\n",
       " 'unit jm noth like support mechan mainten worker instead unit put video timco wifi',\n",
       " 'unit sent thank',\n",
       " 'unit alreadi miss connect ugh',\n",
       " 'unit jm sure show video outsourc favorit timco knack substandard mainten work aircraft',\n",
       " 'unit formal complain custom servic handler misconnect deni board amp lost bag help',\n",
       " 'unit lot unhappi cold peopl bridg freez temp hour given info',\n",
       " 'unit flight iad sat outdoor track hour',\n",
       " 'unit serious wifi hr flight cle sfo airlin w wifi pl unwind bs',\n",
       " 'unit u would abl rebook get home sooner hr delay flight linesforev customerservic fail',\n",
       " 'unit reason whole travel experi nightmar',\n",
       " 'unit pointless tweet least americanair ask follow tri resolv',\n",
       " 'unit even apolog',\n",
       " 'unit cool',\n",
       " 'unit serious wifi hr flight cle sfo airlin without wifi',\n",
       " 'unit b board attend took shoe amp sock desk show agent foot gross http co vpym mv',\n",
       " 'unit unitedairlin pm ord abq even take walk without miss chang',\n",
       " 'unit hope baggag fee waiv tomorrow actual get flight well compens hotel room',\n",
       " 'unit either fine howev plunder hard earn dollar fine',\n",
       " 'unit sfo yyj fight cancel flightl sever time week even bother',\n",
       " 'unit wait new pilot door plane broke global servic statu airlin unsaf stun',\n",
       " 'unit get reimburs hotel taxi cancel flightat',\n",
       " 'unit awesom flight crew ua plane jurass period call want dinosaur plane back',\n",
       " 'unit unit unabl look flight reserv passeng name yyz check counter wow smh customerservic',\n",
       " 'unit e ticket refund request case id',\n",
       " 'unit phone hour custom servic figur awesom servic',\n",
       " 'unit realli know piss peopl farelock option fake',\n",
       " 'unit last week shanghai sfo delay hr bc engin today sfo sea delay sick pilot compens care',\n",
       " 'unit thing confus lost prioriti board mileag plu card member',\n",
       " 'unit hope hear actual',\n",
       " 'unit she reschedul today frigid cold possibl reason mainten could issu day',\n",
       " 'unit fact intern bag sens go mainten',\n",
       " 'unit b contact directli phone servic laissez fair best problem cancel flightl flight',\n",
       " 'unit intern phone fritz get chicago nearli hr away figur everyth',\n",
       " 'unit sorri delay respons ua chicago san fran held almost hour tarmac also lost bag',\n",
       " 'unit okay thank could pleas updat told airport someon would call today',\n",
       " 'unit thank much help pick bag aspen airport amp come today flight',\n",
       " 'unit gate c iad u releas passeng board w other deplan peopleon bridg next flight board http co hfof iyhi',\n",
       " 'unit say public extend vacat week point advertis multipl flight honor',\n",
       " 'unit cancel flight flt ewr crew tell wife amp yr old get ny catch aircanada yyz good customerservic dead',\n",
       " 'unit arriv day half late flightr suppos lesson day believ verbal written confirm unit',\n",
       " 'unit arriv airport hour departur time still miss flight bc actual electron ticket',\n",
       " 'unit hour delay noth say sorri like voucher miss time famili famili precioustim',\n",
       " 'unit two whole peopl tri schedul flight worth miss connect shame http co kqlhvap g',\n",
       " 'unit unfriendli screw famili hate kid mom wait ua pray better fyvrfn due agent error tickt',\n",
       " 'unit gate agent ewr disabl wheel chair time board pleas step step lol',\n",
       " 'unit help done',\n",
       " 'unit forc us check babi bag overbook flight complain wife need much babi unit babi meal',\n",
       " 'unit would love help get today ewr take airlin connect thx',\n",
       " 'unit today take flight san francisco refus let us board babi earli time board wont let us take babi carryon bag',\n",
       " 'unit four schedul flight reserv liter take one unreal',\n",
       " 'unit ord hotel issu yr old ticket need fix anoth hour agent l r nightmar still',\n",
       " 'unit hour rebook hour l r problem arriv gate stop caus infant sit yr old lap',\n",
       " 'unit arriv yyz take flight taiwan reserv miss ticket number slow agent sukhdeep caus us miss flt',\n",
       " 'unit thank',\n",
       " 'unit thank updat',\n",
       " 'unit three peopl awesom work long hour easi say sorri twitter help ppl ewr',\n",
       " 'unit guess excus understaf costum servic peopl deal lot angri passeng weather',\n",
       " 'unit cancel flightl wife daughter flt go follow dm detail',\n",
       " 'unit depart await inbound plane yesterday three hour never arriv stay overnight',\n",
       " 'unit confirm seat crisi avert beer miss',\n",
       " 'unit english dm though think make plane appear',\n",
       " 'unit look like today th consecut delay flight win prize southwest air fli sba',\n",
       " 'unit sit plane pilot thank waitingonapilot denver siouxfal whyairtravelsuck',\n",
       " 'unit understood thank tri reach sooner',\n",
       " 'unit alreadi done answer got oop give mile sorri pay discomfort h',\n",
       " 'unit receiv hotel food also email mile last trip hr delay mile less cancel flightlat',\n",
       " 'unit know ua delay x get crazi alreadi overnight delay unitedairlin',\n",
       " 'unit frustratingli delay happen either gate even onboard aircraft head advanc',\n",
       " 'unit den b agent amaz mpagent check suck seanmfmadden peterstraubmma jmercadomma tonysimsmma',\n",
       " 'unit ua also delay hour stretch trip way past midnight extrem exhaust',\n",
       " 'unit ha rebook hr layov amp rob night famili late flight fli time',\n",
       " 'unit switch fli unit delta past two trip disappoint ua delay hour',\n",
       " 'unit travel megzezzo injur gate agent chicago awesom help ty roadwarrior',\n",
       " 'unit unitedairlin long delay',\n",
       " 'unit flight statu updat delay ua board',\n",
       " 'unit paid economi plu put last board group gate check bag virginamerica know better',\n",
       " 'unit travel scl iha feb ac sit l night complaint fa never gave real answer help',\n",
       " 'unit suck hour delay',\n",
       " 'unit worst airlin world crap websit worthless app late flight flight suck shut',\n",
       " 'unit jh thank much reach abl get assist wait minut',\n",
       " 'unit stand still pilot paperwork fix min problem fix min ago flight delay',\n",
       " 'unit reason wait min bag made check flight staff polic overhead bin',\n",
       " 'unit pleas msg custom servic invoic dri clean abl take wet cloth airport',\n",
       " 'unit hour delay print piec paper',\n",
       " 'unit still respons',\n",
       " 'unit abl get seat assign without pay cust sec done',\n",
       " 'unit refer number agent told drive airport reach anyon deliv',\n",
       " 'unit slightli better crew spent long time search better altitud would help let pax sharp drop',\n",
       " 'unit credit card charg transact told would charg goe contact',\n",
       " 'unit pqm pqd longer show correctli mileageplu acct get fix',\n",
       " 'unit thank',\n",
       " 'unit sfo bo internet give',\n",
       " 'unit worst worst reserv polici worst costum servic worst worst worst congrat delta bad',\n",
       " 'unit tri make chang reserv get extrem frustrat give tri anoth airlin',\n",
       " 'unit got email updat still eta commun detail apolog info compens right would go long way',\n",
       " 'unit late flight crew btv last nite delay today flt miss connect cun play hotel tonight ewr',\n",
       " 'unit call check worstcustomerservic',\n",
       " 'unit passeng rerout match intend arriv time even incur cost put us airlin',\n",
       " 'unit solv final pick second time call thank respons jh dull work',\n",
       " 'unit need work unit flierfriendli program least clue flight attend',\n",
       " 'unit space doctor note everyth first trip lost first suitcas among issu pleas unit',\n",
       " 'unit new flierfriendli garbag cri get attend find place medic suppli limit overhead',\n",
       " 'unit epic fail reagan jetway min tarmac',\n",
       " 'unit thank link final arriv brussel h schedul',\n",
       " 'unit nd flight two week lost bag take k statu americanair neveragain worstcustomerservic',\n",
       " 'unit ua flight nightmar poor custom servic confirm seat given away issu',\n",
       " 'unit best custom experi via twitter huge fan',\n",
       " 'unit flight last night bad busi long time recommend unit anyon',\n",
       " 'unit beyond frustrat sked chang seat earlier departur doubl layov cours seat cust svc help',\n",
       " 'unit work lisa j ord work hard us still disappoint ewr',\n",
       " 'unit love new st class breakfast',\n",
       " 'unit email custom care via websit form long wait rachel resolv issu still irrit w unit',\n",
       " 'unit flight cancel flightl updat one get bwi late flight fine dca iad arriv earlier help',\n",
       " 'unit jj stand joke find humor',\n",
       " 'unit point made home',\n",
       " 'unit thank look get back via dm glad hear bag final deliv thank',\n",
       " 'unit would like talk custom servic agent servic non servic receiv last flight week go j',\n",
       " 'unit cancel flight flight wait line get rebook front make go anoth gate lose place',\n",
       " 'unit comment question thank copi past respons',\n",
       " 'unit fail last week iah next intl trip delta small ual flight lax book',\n",
       " 'unit suppos board brought plane hanger wtf know flight lax ewr',\n",
       " 'unit flew sdf atl tampa delta left earli arriv earli crew help wifi work',\n",
       " 'unit start without robot respons',\n",
       " 'unit control turbul control custom experi lot scare peopl',\n",
       " 'unit current ua minut worst turbul ever experienc zero commun flight deck',\n",
       " 'unit ye look ticket agent termin dismiss us miss chanc miami flight dr',\n",
       " 'unit told twice issu resolv twice write email bounc worstservic',\n",
       " 'unit flight let go look like clown one give st class',\n",
       " 'unit hold th time wait resolv issu flight year old son terribleservic noservic',\n",
       " 'unit cool thank',\n",
       " 'unit like thank recogn terri p dull go way get back raleigh flight',\n",
       " 'unit freq flyer make sad see cust need assist treat poorli servicefail',\n",
       " 'unit day saga mayb final make home intent gon na get back vacat day badservic',\n",
       " 'unit thank sick compani lousi excus custom servic never fli unit',\n",
       " 'unit current hold time speak rep tix reissu min long amp make option avail onlin',\n",
       " 'unit understand ppl make mistak code someth way get reimburs fault blatant lie',\n",
       " 'unit also forgot add bag probabl go sit new jersey miss connect',\n",
       " 'unit jx today would great honeymoon delay put damper iy',\n",
       " 'unit share pilot passeng',\n",
       " 'unit receipt upgrad return leg month late flightr still receipt http co dajwzhlvyu',\n",
       " 'unit book flight reserv seat go check find seat wtf',\n",
       " 'unit actual gate agent rude stand line wait reflight book problem miss flight sti aw',\n",
       " 'unit sure anyth build time promis ceo servic gotten wors',\n",
       " 'unit wi fi aircraft work entir ord dca flight morn',\n",
       " 'unit cancel flightl direct flight newark brussel last night hour behind schedul eu compens would given us',\n",
       " 'unit may dislik delay paid agreement paid got destin certain time',\n",
       " 'unit epicfail cx flight frankfurt san francisco go chicago flight crew hour due de ice delay',\n",
       " 'unit awar flight detail thank three hour late flight crew could give less shit',\n",
       " 'unit make sure flight delay due poor mainten would start',\n",
       " 'unit hilari',\n",
       " 'unit hahahahaha ya tri alreadi',\n",
       " 'unit bag may may airport unfortun one airport pick phone respond messag',\n",
       " 'unit funni paid check bag flight beg folk check bag free hour flight notcool',\n",
       " 'unit nope need littl red stamp counter check wreck son http co prgysvurm',\n",
       " 'unit tri cancel flight tri chang award ticket date place thank send link know fee',\n",
       " 'unit unhappi new mileag rule main reason keep fli unit take busi elsewher',\n",
       " 'unit need assist due incompet need reschedul connect never fli unit',\n",
       " 'unit offici displac deltaassist better flight experi pleasant cabin crew timeli ua switch',\n",
       " 'unit need bag bouncer get togeth',\n",
       " 'unit showexpert go unit mileag program pay ticket get fraction pqd credit',\n",
       " 'unit need retrain flight attend say room carri on actual cool',\n",
       " 'ua unit cancel flightl delay flight book problem still mile home least acknowledg cancel flightlat',\n",
       " 'unit never ever flight book problem flight unit affili chanc get unit flight',\n",
       " 'unit abl send dm good',\n",
       " 'unit three delay flight miss connect first class flight get compens lose seat',\n",
       " 'unit hold hour day sort told fine fine arriv fli',\n",
       " 'unit almost week still word dot updat london fare us citi updat end',\n",
       " 'unit well start would nice ticket actual system chang flight',\n",
       " 'unit anoth aw experi victoria check desk stl could rude condescend',\n",
       " 'unit want deliv hous go sombron els hous',\n",
       " 'unit michel ord train staff treat custom refresh pleasur deal',\n",
       " 'unit guess follow order send dm tri send',\n",
       " 'unit stop fli unit yr ago bc aggress polici carryon bdl listen pssngr forc chk preboard notcomingback',\n",
       " 'unit sent messag bag tag look',\n",
       " ...]"
      ]
     },
     "execution_count": 36,
     "metadata": {},
     "output_type": "execute_result"
    }
   ],
   "source": [
    "processed_reviews"
   ]
  },
  {
   "cell_type": "code",
   "execution_count": 147,
   "metadata": {},
   "outputs": [],
   "source": [
    "x=df.iloc[:,1].values\n",
    "y=df.iloc[:,0].values\n",
    "#y=y.reshape(-1,1)"
   ]
  },
  {
   "cell_type": "code",
   "execution_count": 152,
   "metadata": {},
   "outputs": [
    {
     "data": {
      "text/plain": [
       "numpy.ndarray"
      ]
     },
     "execution_count": 152,
     "metadata": {},
     "output_type": "execute_result"
    },
    {
     "data": {
      "text/plain": [
       "pandas.core.series.Series"
      ]
     },
     "execution_count": 152,
     "metadata": {},
     "output_type": "execute_result"
    }
   ],
   "source": [
    "type(x)\n",
    "type(df['text'])"
   ]
  },
  {
   "cell_type": "code",
   "execution_count": 155,
   "metadata": {},
   "outputs": [],
   "source": [
    "x=df['text']\n",
    "y=df['airline_sentiment']"
   ]
  },
  {
   "cell_type": "code",
   "execution_count": 156,
   "metadata": {},
   "outputs": [
    {
     "data": {
      "text/plain": [
       "pandas.core.series.Series"
      ]
     },
     "execution_count": 156,
     "metadata": {},
     "output_type": "execute_result"
    },
    {
     "data": {
      "text/plain": [
       "pandas.core.series.Series"
      ]
     },
     "execution_count": 156,
     "metadata": {},
     "output_type": "execute_result"
    },
    {
     "data": {
      "text/plain": [
       "pandas.core.series.Series"
      ]
     },
     "execution_count": 156,
     "metadata": {},
     "output_type": "execute_result"
    },
    {
     "data": {
      "text/plain": [
       "pandas.core.series.Series"
      ]
     },
     "execution_count": 156,
     "metadata": {},
     "output_type": "execute_result"
    }
   ],
   "source": [
    "type(x)\n",
    "type(y)\n",
    "type(df['text'])\n",
    "type(df['airline_sentiment'])"
   ]
  },
  {
   "cell_type": "code",
   "execution_count": 157,
   "metadata": {},
   "outputs": [
    {
     "data": {
      "text/plain": [
       "(11541,)"
      ]
     },
     "execution_count": 157,
     "metadata": {},
     "output_type": "execute_result"
    }
   ],
   "source": [
    "y.shape"
   ]
  },
  {
   "cell_type": "code",
   "execution_count": 158,
   "metadata": {},
   "outputs": [
    {
     "data": {
      "text/plain": [
       "(11541,)"
      ]
     },
     "execution_count": 158,
     "metadata": {},
     "output_type": "execute_result"
    }
   ],
   "source": [
    "x.shape"
   ]
  },
  {
   "cell_type": "code",
   "execution_count": 119,
   "metadata": {},
   "outputs": [],
   "source": [
    "#x=df[['text']]"
   ]
  },
  {
   "cell_type": "code",
   "execution_count": 120,
   "metadata": {},
   "outputs": [],
   "source": [
    "#x.shape"
   ]
  },
  {
   "cell_type": "code",
   "execution_count": 159,
   "metadata": {},
   "outputs": [
    {
     "name": "stdout",
     "output_type": "stream",
     "text": [
      "(8655,) (2886,)\n",
      "(8655,) (2886,)\n"
     ]
    },
    {
     "data": {
      "text/plain": [
       "TfidfVectorizer(max_features=6000, min_df=10, ngram_range=(1, 2))"
      ]
     },
     "execution_count": 159,
     "metadata": {},
     "output_type": "execute_result"
    },
    {
     "name": "stdout",
     "output_type": "stream",
     "text": [
      "(8655, 3081) (2886, 3081)\n"
     ]
    }
   ],
   "source": [
    "#split the data into train and test datasets\n",
    "x_train,x_test,y_train,y_test=train_test_split(x,y)#.text,processed_reviews.sentiment)\n",
    "print(x_train.shape,x_test.shape)\n",
    "print(y_train.shape,y_test.shape)\n",
    "#Applying TFIDF\n",
    "tfidf_model=TfidfVectorizer(ngram_range=(1,2),min_df=10, max_features=6000)\n",
    "tfidf_model.fit(x_train,y_train)\n",
    "x_train_tfidf=tfidf_model.transform(x_train)\n",
    "x_test_tfidf=tfidf_model.transform(x_test)\n",
    "print(x_train_tfidf.shape,x_test_tfidf.shape)"
   ]
  },
  {
   "cell_type": "code",
   "execution_count": 160,
   "metadata": {},
   "outputs": [
    {
     "data": {
      "text/html": [
       "<div>\n",
       "<style scoped>\n",
       "    .dataframe tbody tr th:only-of-type {\n",
       "        vertical-align: middle;\n",
       "    }\n",
       "\n",
       "    .dataframe tbody tr th {\n",
       "        vertical-align: top;\n",
       "    }\n",
       "\n",
       "    .dataframe thead th {\n",
       "        text-align: right;\n",
       "    }\n",
       "</style>\n",
       "<table border=\"1\" class=\"dataframe\">\n",
       "  <thead>\n",
       "    <tr style=\"text-align: right;\">\n",
       "      <th></th>\n",
       "      <th>000</th>\n",
       "      <th>10</th>\n",
       "      <th>100</th>\n",
       "      <th>11</th>\n",
       "      <th>12</th>\n",
       "      <th>13</th>\n",
       "      <th>14</th>\n",
       "      <th>15</th>\n",
       "      <th>15 minutes</th>\n",
       "      <th>150</th>\n",
       "      <th>...</th>\n",
       "      <th>your response</th>\n",
       "      <th>your service</th>\n",
       "      <th>your site</th>\n",
       "      <th>your staff</th>\n",
       "      <th>your system</th>\n",
       "      <th>your team</th>\n",
       "      <th>your website</th>\n",
       "      <th>yr</th>\n",
       "      <th>yyz</th>\n",
       "      <th>zero</th>\n",
       "    </tr>\n",
       "  </thead>\n",
       "  <tbody>\n",
       "    <tr>\n",
       "      <th>3448</th>\n",
       "      <td>0.0</td>\n",
       "      <td>0.0</td>\n",
       "      <td>0.0</td>\n",
       "      <td>0.0</td>\n",
       "      <td>0.0</td>\n",
       "      <td>0.0</td>\n",
       "      <td>0.0</td>\n",
       "      <td>0.0</td>\n",
       "      <td>0.0</td>\n",
       "      <td>0.0</td>\n",
       "      <td>...</td>\n",
       "      <td>0.0</td>\n",
       "      <td>0.0</td>\n",
       "      <td>0.0</td>\n",
       "      <td>0.0</td>\n",
       "      <td>0.0</td>\n",
       "      <td>0.0</td>\n",
       "      <td>0.0</td>\n",
       "      <td>0.0</td>\n",
       "      <td>0.0</td>\n",
       "      <td>0.0</td>\n",
       "    </tr>\n",
       "    <tr>\n",
       "      <th>1676</th>\n",
       "      <td>0.0</td>\n",
       "      <td>0.0</td>\n",
       "      <td>0.0</td>\n",
       "      <td>0.0</td>\n",
       "      <td>0.0</td>\n",
       "      <td>0.0</td>\n",
       "      <td>0.0</td>\n",
       "      <td>0.0</td>\n",
       "      <td>0.0</td>\n",
       "      <td>0.0</td>\n",
       "      <td>...</td>\n",
       "      <td>0.0</td>\n",
       "      <td>0.0</td>\n",
       "      <td>0.0</td>\n",
       "      <td>0.0</td>\n",
       "      <td>0.0</td>\n",
       "      <td>0.0</td>\n",
       "      <td>0.0</td>\n",
       "      <td>0.0</td>\n",
       "      <td>0.0</td>\n",
       "      <td>0.0</td>\n",
       "    </tr>\n",
       "    <tr>\n",
       "      <th>7326</th>\n",
       "      <td>0.0</td>\n",
       "      <td>0.0</td>\n",
       "      <td>0.0</td>\n",
       "      <td>0.0</td>\n",
       "      <td>0.0</td>\n",
       "      <td>0.0</td>\n",
       "      <td>0.0</td>\n",
       "      <td>0.0</td>\n",
       "      <td>0.0</td>\n",
       "      <td>0.0</td>\n",
       "      <td>...</td>\n",
       "      <td>0.0</td>\n",
       "      <td>0.0</td>\n",
       "      <td>0.0</td>\n",
       "      <td>0.0</td>\n",
       "      <td>0.0</td>\n",
       "      <td>0.0</td>\n",
       "      <td>0.0</td>\n",
       "      <td>0.0</td>\n",
       "      <td>0.0</td>\n",
       "      <td>0.0</td>\n",
       "    </tr>\n",
       "    <tr>\n",
       "      <th>10256</th>\n",
       "      <td>0.0</td>\n",
       "      <td>0.0</td>\n",
       "      <td>0.0</td>\n",
       "      <td>0.0</td>\n",
       "      <td>0.0</td>\n",
       "      <td>0.0</td>\n",
       "      <td>0.0</td>\n",
       "      <td>0.0</td>\n",
       "      <td>0.0</td>\n",
       "      <td>0.0</td>\n",
       "      <td>...</td>\n",
       "      <td>0.0</td>\n",
       "      <td>0.0</td>\n",
       "      <td>0.0</td>\n",
       "      <td>0.0</td>\n",
       "      <td>0.0</td>\n",
       "      <td>0.0</td>\n",
       "      <td>0.0</td>\n",
       "      <td>0.0</td>\n",
       "      <td>0.0</td>\n",
       "      <td>0.0</td>\n",
       "    </tr>\n",
       "    <tr>\n",
       "      <th>11149</th>\n",
       "      <td>0.0</td>\n",
       "      <td>0.0</td>\n",
       "      <td>0.0</td>\n",
       "      <td>0.0</td>\n",
       "      <td>0.0</td>\n",
       "      <td>0.0</td>\n",
       "      <td>0.0</td>\n",
       "      <td>0.0</td>\n",
       "      <td>0.0</td>\n",
       "      <td>0.0</td>\n",
       "      <td>...</td>\n",
       "      <td>0.0</td>\n",
       "      <td>0.0</td>\n",
       "      <td>0.0</td>\n",
       "      <td>0.0</td>\n",
       "      <td>0.0</td>\n",
       "      <td>0.0</td>\n",
       "      <td>0.0</td>\n",
       "      <td>0.0</td>\n",
       "      <td>0.0</td>\n",
       "      <td>0.0</td>\n",
       "    </tr>\n",
       "    <tr>\n",
       "      <th>...</th>\n",
       "      <td>...</td>\n",
       "      <td>...</td>\n",
       "      <td>...</td>\n",
       "      <td>...</td>\n",
       "      <td>...</td>\n",
       "      <td>...</td>\n",
       "      <td>...</td>\n",
       "      <td>...</td>\n",
       "      <td>...</td>\n",
       "      <td>...</td>\n",
       "      <td>...</td>\n",
       "      <td>...</td>\n",
       "      <td>...</td>\n",
       "      <td>...</td>\n",
       "      <td>...</td>\n",
       "      <td>...</td>\n",
       "      <td>...</td>\n",
       "      <td>...</td>\n",
       "      <td>...</td>\n",
       "      <td>...</td>\n",
       "      <td>...</td>\n",
       "    </tr>\n",
       "    <tr>\n",
       "      <th>1934</th>\n",
       "      <td>0.0</td>\n",
       "      <td>0.0</td>\n",
       "      <td>0.0</td>\n",
       "      <td>0.0</td>\n",
       "      <td>0.0</td>\n",
       "      <td>0.0</td>\n",
       "      <td>0.0</td>\n",
       "      <td>0.0</td>\n",
       "      <td>0.0</td>\n",
       "      <td>0.0</td>\n",
       "      <td>...</td>\n",
       "      <td>0.0</td>\n",
       "      <td>0.0</td>\n",
       "      <td>0.0</td>\n",
       "      <td>0.0</td>\n",
       "      <td>0.0</td>\n",
       "      <td>0.0</td>\n",
       "      <td>0.0</td>\n",
       "      <td>0.0</td>\n",
       "      <td>0.0</td>\n",
       "      <td>0.0</td>\n",
       "    </tr>\n",
       "    <tr>\n",
       "      <th>9770</th>\n",
       "      <td>0.0</td>\n",
       "      <td>0.0</td>\n",
       "      <td>0.0</td>\n",
       "      <td>0.0</td>\n",
       "      <td>0.0</td>\n",
       "      <td>0.0</td>\n",
       "      <td>0.0</td>\n",
       "      <td>0.0</td>\n",
       "      <td>0.0</td>\n",
       "      <td>0.0</td>\n",
       "      <td>...</td>\n",
       "      <td>0.0</td>\n",
       "      <td>0.0</td>\n",
       "      <td>0.0</td>\n",
       "      <td>0.0</td>\n",
       "      <td>0.0</td>\n",
       "      <td>0.0</td>\n",
       "      <td>0.0</td>\n",
       "      <td>0.0</td>\n",
       "      <td>0.0</td>\n",
       "      <td>0.0</td>\n",
       "    </tr>\n",
       "    <tr>\n",
       "      <th>299</th>\n",
       "      <td>0.0</td>\n",
       "      <td>0.0</td>\n",
       "      <td>0.0</td>\n",
       "      <td>0.0</td>\n",
       "      <td>0.0</td>\n",
       "      <td>0.0</td>\n",
       "      <td>0.0</td>\n",
       "      <td>0.0</td>\n",
       "      <td>0.0</td>\n",
       "      <td>0.0</td>\n",
       "      <td>...</td>\n",
       "      <td>0.0</td>\n",
       "      <td>0.0</td>\n",
       "      <td>0.0</td>\n",
       "      <td>0.0</td>\n",
       "      <td>0.0</td>\n",
       "      <td>0.0</td>\n",
       "      <td>0.0</td>\n",
       "      <td>0.0</td>\n",
       "      <td>0.0</td>\n",
       "      <td>0.0</td>\n",
       "    </tr>\n",
       "    <tr>\n",
       "      <th>10535</th>\n",
       "      <td>0.0</td>\n",
       "      <td>0.0</td>\n",
       "      <td>0.0</td>\n",
       "      <td>0.0</td>\n",
       "      <td>0.0</td>\n",
       "      <td>0.0</td>\n",
       "      <td>0.0</td>\n",
       "      <td>0.0</td>\n",
       "      <td>0.0</td>\n",
       "      <td>0.0</td>\n",
       "      <td>...</td>\n",
       "      <td>0.0</td>\n",
       "      <td>0.0</td>\n",
       "      <td>0.0</td>\n",
       "      <td>0.0</td>\n",
       "      <td>0.0</td>\n",
       "      <td>0.0</td>\n",
       "      <td>0.0</td>\n",
       "      <td>0.0</td>\n",
       "      <td>0.0</td>\n",
       "      <td>0.0</td>\n",
       "    </tr>\n",
       "    <tr>\n",
       "      <th>9761</th>\n",
       "      <td>0.0</td>\n",
       "      <td>0.0</td>\n",
       "      <td>0.0</td>\n",
       "      <td>0.0</td>\n",
       "      <td>0.0</td>\n",
       "      <td>0.0</td>\n",
       "      <td>0.0</td>\n",
       "      <td>0.0</td>\n",
       "      <td>0.0</td>\n",
       "      <td>0.0</td>\n",
       "      <td>...</td>\n",
       "      <td>0.0</td>\n",
       "      <td>0.0</td>\n",
       "      <td>0.0</td>\n",
       "      <td>0.0</td>\n",
       "      <td>0.0</td>\n",
       "      <td>0.0</td>\n",
       "      <td>0.0</td>\n",
       "      <td>0.0</td>\n",
       "      <td>0.0</td>\n",
       "      <td>0.0</td>\n",
       "    </tr>\n",
       "  </tbody>\n",
       "</table>\n",
       "<p>8655 rows × 3081 columns</p>\n",
       "</div>"
      ],
      "text/plain": [
       "       000   10  100   11   12   13   14   15  15 minutes  150  ...  \\\n",
       "3448   0.0  0.0  0.0  0.0  0.0  0.0  0.0  0.0         0.0  0.0  ...   \n",
       "1676   0.0  0.0  0.0  0.0  0.0  0.0  0.0  0.0         0.0  0.0  ...   \n",
       "7326   0.0  0.0  0.0  0.0  0.0  0.0  0.0  0.0         0.0  0.0  ...   \n",
       "10256  0.0  0.0  0.0  0.0  0.0  0.0  0.0  0.0         0.0  0.0  ...   \n",
       "11149  0.0  0.0  0.0  0.0  0.0  0.0  0.0  0.0         0.0  0.0  ...   \n",
       "...    ...  ...  ...  ...  ...  ...  ...  ...         ...  ...  ...   \n",
       "1934   0.0  0.0  0.0  0.0  0.0  0.0  0.0  0.0         0.0  0.0  ...   \n",
       "9770   0.0  0.0  0.0  0.0  0.0  0.0  0.0  0.0         0.0  0.0  ...   \n",
       "299    0.0  0.0  0.0  0.0  0.0  0.0  0.0  0.0         0.0  0.0  ...   \n",
       "10535  0.0  0.0  0.0  0.0  0.0  0.0  0.0  0.0         0.0  0.0  ...   \n",
       "9761   0.0  0.0  0.0  0.0  0.0  0.0  0.0  0.0         0.0  0.0  ...   \n",
       "\n",
       "       your response  your service  your site  your staff  your system  \\\n",
       "3448             0.0           0.0        0.0         0.0          0.0   \n",
       "1676             0.0           0.0        0.0         0.0          0.0   \n",
       "7326             0.0           0.0        0.0         0.0          0.0   \n",
       "10256            0.0           0.0        0.0         0.0          0.0   \n",
       "11149            0.0           0.0        0.0         0.0          0.0   \n",
       "...              ...           ...        ...         ...          ...   \n",
       "1934             0.0           0.0        0.0         0.0          0.0   \n",
       "9770             0.0           0.0        0.0         0.0          0.0   \n",
       "299              0.0           0.0        0.0         0.0          0.0   \n",
       "10535            0.0           0.0        0.0         0.0          0.0   \n",
       "9761             0.0           0.0        0.0         0.0          0.0   \n",
       "\n",
       "       your team  your website   yr  yyz  zero  \n",
       "3448         0.0           0.0  0.0  0.0   0.0  \n",
       "1676         0.0           0.0  0.0  0.0   0.0  \n",
       "7326         0.0           0.0  0.0  0.0   0.0  \n",
       "10256        0.0           0.0  0.0  0.0   0.0  \n",
       "11149        0.0           0.0  0.0  0.0   0.0  \n",
       "...          ...           ...  ...  ...   ...  \n",
       "1934         0.0           0.0  0.0  0.0   0.0  \n",
       "9770         0.0           0.0  0.0  0.0   0.0  \n",
       "299          0.0           0.0  0.0  0.0   0.0  \n",
       "10535        0.0           0.0  0.0  0.0   0.0  \n",
       "9761         0.0           0.0  0.0  0.0   0.0  \n",
       "\n",
       "[8655 rows x 3081 columns]"
      ]
     },
     "execution_count": 160,
     "metadata": {},
     "output_type": "execute_result"
    }
   ],
   "source": [
    "tfidf_df=pd.DataFrame(x_train_tfidf.toarray(),columns=tfidf_model.get_feature_names(),index=x_train.index)\n",
    "tfidf_df"
   ]
  },
  {
   "cell_type": "code",
   "execution_count": 173,
   "metadata": {},
   "outputs": [],
   "source": [
    "# Lets checkout the top features\n",
    "top_features=sorted(zip(tfidf_model.idf_,tfidf_model.get_feature_names()))\n",
    "top30=top_features[:30]"
   ]
  },
  {
   "cell_type": "code",
   "execution_count": 174,
   "metadata": {},
   "outputs": [
    {
     "data": {
      "text/plain": [
       "[(1.8301172751577672, 'to'),\n",
       " (2.0566449244562177, 'the'),\n",
       " (2.2823674048650098, 'united'),\n",
       " (2.3231720456555136, 'for'),\n",
       " (2.3283917182283584, 'you'),\n",
       " (2.3780108346932467, 'and'),\n",
       " (2.3993178010061773, 'flight'),\n",
       " (2.4063650465215805, 'on'),\n",
       " (2.4868400336901866, 'usairways'),\n",
       " (2.555577444708256, 'americanair'),\n",
       " (2.5810777177966013, 'my'),\n",
       " (2.695777359279182, 'is'),\n",
       " (2.8175039287156527, 'in'),\n",
       " (2.87684026266594, 'southwestair'),\n",
       " (2.892049681329469, 'it'),\n",
       " (2.947181752024185, 'of'),\n",
       " (3.015018554018218, 'jetblue'),\n",
       " (3.0476062020170622, 'me'),\n",
       " (3.055696133779034, 'your'),\n",
       " (3.136491230322613, 'that'),\n",
       " (3.16326526392767, 'not'),\n",
       " (3.1928441668737446, 'was'),\n",
       " (3.199074716624381, 'have'),\n",
       " (3.2340544355204077, 'no'),\n",
       " (3.2602854476692773, 'at'),\n",
       " (3.261393481023639, 'with'),\n",
       " (3.3137376249445207, 'this'),\n",
       " (3.361593646122156, 'but'),\n",
       " (3.3751657236676995, 'can'),\n",
       " (3.413144971732916, 'get')]"
      ]
     },
     "execution_count": 174,
     "metadata": {},
     "output_type": "execute_result"
    }
   ],
   "source": [
    "top30"
   ]
  },
  {
   "cell_type": "code",
   "execution_count": 164,
   "metadata": {},
   "outputs": [
    {
     "name": "stdout",
     "output_type": "stream",
     "text": [
      "Collecting wordcloud\n",
      "  Downloading wordcloud-1.8.1-cp38-cp38-win_amd64.whl (155 kB)\n",
      "Requirement already satisfied: pillow in c:\\users\\peddi\\anaconda3\\lib\\site-packages (from wordcloud) (7.2.0)\n",
      "Requirement already satisfied: matplotlib in c:\\users\\peddi\\anaconda3\\lib\\site-packages (from wordcloud) (3.2.2)\n",
      "Requirement already satisfied: numpy>=1.6.1 in c:\\users\\peddi\\anaconda3\\lib\\site-packages (from wordcloud) (1.18.5)\n",
      "Requirement already satisfied: pyparsing!=2.0.4,!=2.1.2,!=2.1.6,>=2.0.1 in c:\\users\\peddi\\anaconda3\\lib\\site-packages (from matplotlib->wordcloud) (2.4.7)\n",
      "Requirement already satisfied: kiwisolver>=1.0.1 in c:\\users\\peddi\\anaconda3\\lib\\site-packages (from matplotlib->wordcloud) (1.2.0)\n",
      "Requirement already satisfied: python-dateutil>=2.1 in c:\\users\\peddi\\anaconda3\\lib\\site-packages (from matplotlib->wordcloud) (2.8.1)\n",
      "Requirement already satisfied: cycler>=0.10 in c:\\users\\peddi\\anaconda3\\lib\\site-packages (from matplotlib->wordcloud) (0.10.0)\n",
      "Requirement already satisfied: six>=1.5 in c:\\users\\peddi\\anaconda3\\lib\\site-packages (from python-dateutil>=2.1->matplotlib->wordcloud) (1.15.0)\n",
      "Installing collected packages: wordcloud\n",
      "Successfully installed wordcloud-1.8.1\n"
     ]
    }
   ],
   "source": [
    "!pip install wordcloud"
   ]
  },
  {
   "cell_type": "code",
   "execution_count": 176,
   "metadata": {},
   "outputs": [
    {
     "data": {
      "text/plain": [
       "<Figure size 720x576 with 0 Axes>"
      ]
     },
     "execution_count": 176,
     "metadata": {},
     "output_type": "execute_result"
    },
    {
     "data": {
      "text/plain": [
       "<wordcloud.wordcloud.WordCloud at 0x1e245f22250>"
      ]
     },
     "execution_count": 176,
     "metadata": {},
     "output_type": "execute_result"
    },
    {
     "data": {
      "text/plain": [
       "<matplotlib.image.AxesImage at 0x1e245acdf10>"
      ]
     },
     "execution_count": 176,
     "metadata": {},
     "output_type": "execute_result"
    },
    {
     "data": {
      "text/plain": [
       "Text(0.5, 0.88, 'Top 30 words in airline data')"
      ]
     },
     "execution_count": 176,
     "metadata": {},
     "output_type": "execute_result"
    },
    {
     "data": {
      "text/plain": [
       "(-0.5, 399.5, 199.5, -0.5)"
      ]
     },
     "execution_count": 176,
     "metadata": {},
     "output_type": "execute_result"
    },
    {
     "data": {
      "image/png": "[encoded data removed]",
      "text/plain": [
       "<Figure size 720x576 with 1 Axes>"
      ]
     },
     "metadata": {
      "needs_background": "light"
     },
     "output_type": "display_data"
    }
   ],
   "source": [
    "from wordcloud import WordCloud\n",
    "plt.figure(figsize=(10,8))\n",
    "wc = WordCloud(background_color=\"black\",max_font_size=150, random_state=42)\n",
    "wc.generate(str(top30))\n",
    "plt.imshow(wc, interpolation='bilinear')\n",
    "plt.suptitle('Top 30 words in airline data', size=30, y=0.88,color=\"r\"); \n",
    "plt.axis(\"off\")\n",
    "#plt.savefig(\"top15_words.png\")\n",
    "plt.show()"
   ]
  },
  {
   "cell_type": "markdown",
   "metadata": {},
   "source": [
    "## Modelling"
   ]
  },
  {
   "cell_type": "code",
   "execution_count": 179,
   "metadata": {},
   "outputs": [
    {
     "data": {
      "text/plain": [
       "LogisticRegression(max_iter=1000)"
      ]
     },
     "execution_count": 179,
     "metadata": {},
     "output_type": "execute_result"
    },
    {
     "data": {
      "text/plain": [
       "0.9038840874534462"
      ]
     },
     "execution_count": 179,
     "metadata": {},
     "output_type": "execute_result"
    }
   ],
   "source": [
    "#Applying Logistic Regression\n",
    "from sklearn.linear_model import LogisticRegression \n",
    "lr=LogisticRegression(max_iter=1000)\n",
    "lr.fit(x_train_tfidf,y_train)\n",
    "lr_predict=lr.predict(x_test_tfidf)\n",
    "lr_f1=f1_score(y_test,lr_predict,average='weighted')\n",
    "lr_f1"
   ]
  },
  {
   "cell_type": "code",
   "execution_count": 180,
   "metadata": {},
   "outputs": [
    {
     "data": {
      "text/plain": [
       "2692    0\n",
       "6886    0\n",
       "9504    0\n",
       "9755    0\n",
       "7131    0\n",
       "       ..\n",
       "203     1\n",
       "8626    0\n",
       "5232    0\n",
       "3687    1\n",
       "6217    0\n",
       "Name: airline_sentiment, Length: 2886, dtype: int64"
      ]
     },
     "execution_count": 180,
     "metadata": {},
     "output_type": "execute_result"
    },
    {
     "data": {
      "text/plain": [
       "array([0, 0, 0, ..., 0, 0, 0], dtype=int64)"
      ]
     },
     "execution_count": 180,
     "metadata": {},
     "output_type": "execute_result"
    }
   ],
   "source": [
    "y_test\n",
    "lr_predict\n",
    "#lr_predict=lr_predict.reshape(-1,1)"
   ]
  },
  {
   "cell_type": "code",
   "execution_count": 181,
   "metadata": {},
   "outputs": [
    {
     "data": {
      "text/plain": [
       "(2886,)"
      ]
     },
     "execution_count": 181,
     "metadata": {},
     "output_type": "execute_result"
    },
    {
     "data": {
      "text/plain": [
       "(2886,)"
      ]
     },
     "execution_count": 181,
     "metadata": {},
     "output_type": "execute_result"
    }
   ],
   "source": [
    "y_test.shape\n",
    "lr_predict.shape"
   ]
  },
  {
   "cell_type": "code",
   "execution_count": 182,
   "metadata": {},
   "outputs": [
    {
     "data": {
      "text/plain": [
       "pandas.core.series.Series"
      ]
     },
     "execution_count": 182,
     "metadata": {},
     "output_type": "execute_result"
    },
    {
     "data": {
      "text/plain": [
       "numpy.ndarray"
      ]
     },
     "execution_count": 182,
     "metadata": {},
     "output_type": "execute_result"
    }
   ],
   "source": [
    "type(y_test)\n",
    "type(lr_predict)"
   ]
  },
  {
   "cell_type": "code",
   "execution_count": 190,
   "metadata": {},
   "outputs": [],
   "source": [
    "#Confusion matrix:-\n",
    "cm_lr=confusion_matrix(y_test,lr_predict)\n",
    "cm_lr=pd.crosstab(y_test,lr_predict)"
   ]
  },
  {
   "cell_type": "code",
   "execution_count": 192,
   "metadata": {},
   "outputs": [
    {
     "data": {
      "text/html": [
       "<div>\n",
       "<style scoped>\n",
       "    .dataframe tbody tr th:only-of-type {\n",
       "        vertical-align: middle;\n",
       "    }\n",
       "\n",
       "    .dataframe tbody tr th {\n",
       "        vertical-align: top;\n",
       "    }\n",
       "\n",
       "    .dataframe thead th {\n",
       "        text-align: right;\n",
       "    }\n",
       "</style>\n",
       "<table border=\"1\" class=\"dataframe\">\n",
       "  <thead>\n",
       "    <tr style=\"text-align: right;\">\n",
       "      <th>col_0</th>\n",
       "      <th>0</th>\n",
       "      <th>1</th>\n",
       "    </tr>\n",
       "    <tr>\n",
       "      <th>airline_sentiment</th>\n",
       "      <th></th>\n",
       "      <th></th>\n",
       "    </tr>\n",
       "  </thead>\n",
       "  <tbody>\n",
       "    <tr>\n",
       "      <th>0</th>\n",
       "      <td>2275</td>\n",
       "      <td>44</td>\n",
       "    </tr>\n",
       "    <tr>\n",
       "      <th>1</th>\n",
       "      <td>215</td>\n",
       "      <td>352</td>\n",
       "    </tr>\n",
       "  </tbody>\n",
       "</table>\n",
       "</div>"
      ],
      "text/plain": [
       "col_0                 0    1\n",
       "airline_sentiment           \n",
       "0                  2275   44\n",
       "1                   215  352"
      ]
     },
     "execution_count": 192,
     "metadata": {},
     "output_type": "execute_result"
    }
   ],
   "source": [
    "cm_lr"
   ]
  },
  {
   "cell_type": "code",
   "execution_count": 191,
   "metadata": {},
   "outputs": [
    {
     "data": {
      "text/plain": [
       "<Figure size 504x360 with 0 Axes>"
      ]
     },
     "execution_count": 191,
     "metadata": {},
     "output_type": "execute_result"
    },
    {
     "data": {
      "text/plain": [
       "<matplotlib.axes._subplots.AxesSubplot at 0x1e2460fcfa0>"
      ]
     },
     "execution_count": 191,
     "metadata": {},
     "output_type": "execute_result"
    },
    {
     "data": {
      "image/png": "[encoded data removed]",
      "text/plain": [
       "<Figure size 504x360 with 2 Axes>"
      ]
     },
     "metadata": {
      "needs_background": "light"
     },
     "output_type": "display_data"
    }
   ],
   "source": [
    "plt.figure(figsize=(7,5))\n",
    "sns.heatmap(cm_lr, annot=True)"
   ]
  },
  {
   "cell_type": "code",
   "execution_count": 193,
   "metadata": {},
   "outputs": [
    {
     "data": {
      "text/plain": [
       "3448     0\n",
       "1676     0\n",
       "7326     0\n",
       "10256    0\n",
       "11149    0\n",
       "        ..\n",
       "1934     0\n",
       "9770     1\n",
       "299      0\n",
       "10535    0\n",
       "9761     0\n",
       "Name: airline_sentiment, Length: 8655, dtype: int64"
      ]
     },
     "execution_count": 193,
     "metadata": {},
     "output_type": "execute_result"
    },
    {
     "data": {
      "text/plain": [
       "2692    0\n",
       "6886    0\n",
       "9504    0\n",
       "9755    0\n",
       "7131    0\n",
       "       ..\n",
       "203     1\n",
       "8626    0\n",
       "5232    0\n",
       "3687    1\n",
       "6217    0\n",
       "Name: airline_sentiment, Length: 2886, dtype: int64"
      ]
     },
     "execution_count": 193,
     "metadata": {},
     "output_type": "execute_result"
    },
    {
     "data": {
      "text/plain": [
       "<8655x3081 sparse matrix of type '<class 'numpy.float64'>'\n",
       "\twith 171863 stored elements in Compressed Sparse Row format>"
      ]
     },
     "execution_count": 193,
     "metadata": {},
     "output_type": "execute_result"
    },
    {
     "data": {
      "text/plain": [
       "3448     @united i have items of sentimental value that...\n",
       "1676     @united it would be great to get a callback fr...\n",
       "7326     @USAirways I'm tired of paying for luggage &am...\n",
       "10256    @AmericanAir @EdPlotts don't bother trying to ...\n",
       "11149    @AmericanAir any idea what's up with flight AA...\n",
       "                               ...                        \n",
       "1934     @united we are delayed in San Pedro, Belize. W...\n",
       "9770     @AmericanAir I love the Admiral Clubs! Thanks,...\n",
       "299      @VirginAmerica Thanks for making my flight fro...\n",
       "10535    @AmericanAir Stuck in Miami, and one of the wo...\n",
       "9761     @AmericanAir 2284, four hours Late Flightrs an...\n",
       "Name: text, Length: 8655, dtype: object"
      ]
     },
     "execution_count": 193,
     "metadata": {},
     "output_type": "execute_result"
    },
    {
     "data": {
      "text/plain": [
       "2692    @united the wifi in the ewr lounge reminds me ...\n",
       "6886    @USAirways membership has no privileges anymor...\n",
       "9504    @AmericanAir  we are going to the police dept ...\n",
       "9755    @AmericanAir nothing to do with Mother Nature,...\n",
       "7131    @USAirways how do I get a hold of customer ser...\n",
       "                              ...                        \n",
       "203     @VirginAmerica would love to do more for virgi...\n",
       "8626    @USAirways what's happening with 1217 Phl to L...\n",
       "5232    @JetBlue I had to call back five times to get ...\n",
       "3687    @SouthwestAir Awesome staff at the  check in d...\n",
       "6217    @JetBlue if I'm about to get on a plane, I thi...\n",
       "Name: text, Length: 2886, dtype: object"
      ]
     },
     "execution_count": 193,
     "metadata": {},
     "output_type": "execute_result"
    },
    {
     "data": {
      "text/plain": [
       "<2886x3081 sparse matrix of type '<class 'numpy.float64'>'\n",
       "\twith 56158 stored elements in Compressed Sparse Row format>"
      ]
     },
     "execution_count": 193,
     "metadata": {},
     "output_type": "execute_result"
    }
   ],
   "source": [
    "y_train\n",
    "y_test\n",
    "x_train_tfidf\n",
    "x_train\n",
    "x_test\n",
    "x_test_tfidf"
   ]
  },
  {
   "cell_type": "code",
   "execution_count": 194,
   "metadata": {},
   "outputs": [
    {
     "data": {
      "text/plain": [
       "(8655,)"
      ]
     },
     "execution_count": 194,
     "metadata": {},
     "output_type": "execute_result"
    }
   ],
   "source": [
    "y_train.shape"
   ]
  },
  {
   "cell_type": "code",
   "execution_count": 195,
   "metadata": {},
   "outputs": [
    {
     "data": {
      "text/plain": [
       "(8655, 3081)"
      ]
     },
     "execution_count": 195,
     "metadata": {},
     "output_type": "execute_result"
    }
   ],
   "source": [
    "x_train_tfidf.shape"
   ]
  },
  {
   "cell_type": "code",
   "execution_count": 196,
   "metadata": {},
   "outputs": [
    {
     "data": {
      "text/plain": [
       "<1x3081 sparse matrix of type '<class 'numpy.float64'>'\n",
       "\twith 8 stored elements in Compressed Sparse Row format>"
      ]
     },
     "execution_count": 196,
     "metadata": {},
     "output_type": "execute_result"
    }
   ],
   "source": [
    "x_train_tfidf[0]"
   ]
  },
  {
   "cell_type": "code",
   "execution_count": 197,
   "metadata": {},
   "outputs": [
    {
     "data": {
      "text/plain": [
       "1    6859\n",
       "0    6859\n",
       "Name: airline_sentiment, dtype: int64"
      ]
     },
     "execution_count": 197,
     "metadata": {},
     "output_type": "execute_result"
    }
   ],
   "source": [
    "from imblearn.over_sampling import SMOTE\n",
    "# Resample the minority class.\n",
    "sm = SMOTE(sampling_strategy='auto', random_state=7)\n",
    "oversampled_trainX, oversampled_trainY = sm.fit_resample(x_train_tfidf,y_train)\n",
    "oversampled_trainY.value_counts()"
   ]
  },
  {
   "cell_type": "code",
   "execution_count": 198,
   "metadata": {},
   "outputs": [
    {
     "data": {
      "text/plain": [
       "<matplotlib.axes._subplots.AxesSubplot at 0x1e24d76b820>"
      ]
     },
     "execution_count": 198,
     "metadata": {},
     "output_type": "execute_result"
    },
    {
     "data": {
      "image/png": "[encoded data removed]",
      "text/plain": [
       "<Figure size 432x288 with 1 Axes>"
      ]
     },
     "metadata": {
      "needs_background": "light"
     },
     "output_type": "display_data"
    }
   ],
   "source": [
    "sns.countplot(oversampled_trainY)"
   ]
  },
  {
   "cell_type": "code",
   "execution_count": 199,
   "metadata": {},
   "outputs": [
    {
     "data": {
      "text/plain": [
       "RandomizedSearchCV(estimator=LogisticRegression(max_iter=1000,\n",
       "                                                solver='liblinear'),\n",
       "                   param_distributions={'C': [0.0001, 0.001, 0.01, 0.1, 1, 10,\n",
       "                                              100, 1000],\n",
       "                                        'penalty': ['l1', 'l2']})"
      ]
     },
     "execution_count": 199,
     "metadata": {},
     "output_type": "execute_result"
    },
    {
     "data": {
      "text/plain": [
       "{'penalty': 'l2', 'C': 1000}"
      ]
     },
     "execution_count": 199,
     "metadata": {},
     "output_type": "execute_result"
    }
   ],
   "source": [
    "# we will tune the parameters of Logistic Regression with RandomizedsearchCV\n",
    "lr_params={\"penalty\":[\"l1\",\"l2\"],\n",
    "           \"C\":[10**i for i in range(-4,4)]}\n",
    "lr=LogisticRegression( max_iter=1000,solver=\"liblinear\")\n",
    "lr1=RandomizedSearchCV(lr,lr_params)\n",
    "lr1.fit(oversampled_trainX,oversampled_trainY)\n",
    "lr1.best_params_"
   ]
  },
  {
   "cell_type": "code",
   "execution_count": 200,
   "metadata": {},
   "outputs": [
    {
     "data": {
      "text/plain": [
       "LogisticRegression(C=1000, max_iter=1000, solver='liblinear')"
      ]
     },
     "execution_count": 200,
     "metadata": {},
     "output_type": "execute_result"
    },
    {
     "data": {
      "text/plain": [
       "0.8978230097340046"
      ]
     },
     "execution_count": 200,
     "metadata": {},
     "output_type": "execute_result"
    }
   ],
   "source": [
    "lr2=LogisticRegression(**lr1.best_params_, max_iter=1000,solver=\"liblinear\")\n",
    "lr2.fit(oversampled_trainX,oversampled_trainY)\n",
    "lr2_predict=lr2.predict(x_test_tfidf)\n",
    "lr2_f1=f1_score(lr2_predict,y_test,average=\"weighted\")\n",
    "lr2_f1"
   ]
  },
  {
   "cell_type": "code",
   "execution_count": 223,
   "metadata": {},
   "outputs": [
    {
     "data": {
      "text/plain": [
       "<Figure size 504x360 with 0 Axes>"
      ]
     },
     "execution_count": 223,
     "metadata": {},
     "output_type": "execute_result"
    },
    {
     "data": {
      "text/plain": [
       "<matplotlib.axes._subplots.AxesSubplot at 0x1e24d77b4c0>"
      ]
     },
     "execution_count": 223,
     "metadata": {},
     "output_type": "execute_result"
    },
    {
     "data": {
      "image/png": "[encoded data removed]",
      "text/plain": [
       "<Figure size 504x360 with 2 Axes>"
      ]
     },
     "metadata": {
      "needs_background": "light"
     },
     "output_type": "display_data"
    }
   ],
   "source": [
    "#Confusion matrix:-\n",
    "cm_lr2=confusion_matrix(y_test,lr2_predict)\n",
    "cm_lr2=pd.crosstab(y_test,lr2_predict)\n",
    "plt.figure(figsize=(7,5))\n",
    "sns.heatmap(cm_lr2, annot=True,cmap='gist_stern')"
   ]
  },
  {
   "cell_type": "markdown",
   "metadata": {},
   "source": [
    "### SVC"
   ]
  },
  {
   "cell_type": "code",
   "execution_count": 202,
   "metadata": {},
   "outputs": [
    {
     "data": {
      "text/plain": [
       "RandomizedSearchCV(estimator=LinearSVC(dual=False, max_iter=5000),\n",
       "                   param_distributions={'C': [0.0001, 0.001, 0.01, 0.1, 1, 10,\n",
       "                                              100, 1000],\n",
       "                                        'penalty': ['l1', 'l2']})"
      ]
     },
     "execution_count": 202,
     "metadata": {},
     "output_type": "execute_result"
    }
   ],
   "source": [
    "from sklearn.svm import LinearSVC\n",
    "svc_params={'penalty':['l1','l2'],\n",
    "        'C':[10**i for i in range(-4,4)]}\n",
    "svc_model=LinearSVC(dual=False,max_iter=5000)\n",
    "rndm_svc=RandomizedSearchCV(svc_model,svc_params)\n",
    "rndm_svc.fit(oversampled_trainX,oversampled_trainY)\n",
    "svc_best_params=rndm_svc.best_estimator_"
   ]
  },
  {
   "cell_type": "code",
   "execution_count": 203,
   "metadata": {},
   "outputs": [
    {
     "data": {
      "text/plain": [
       "LinearSVC(C=10, dual=False, max_iter=5000)"
      ]
     },
     "execution_count": 203,
     "metadata": {},
     "output_type": "execute_result"
    }
   ],
   "source": [
    "svc_best_params"
   ]
  },
  {
   "cell_type": "code",
   "execution_count": 204,
   "metadata": {},
   "outputs": [
    {
     "data": {
      "text/plain": [
       "LinearSVC(C=1000, dual=False, max_iter=5000)"
      ]
     },
     "execution_count": 204,
     "metadata": {},
     "output_type": "execute_result"
    },
    {
     "data": {
      "text/plain": [
       "0.8958165243235621"
      ]
     },
     "execution_count": 204,
     "metadata": {},
     "output_type": "execute_result"
    }
   ],
   "source": [
    "svc_model1=LinearSVC(C=1000, dual=False, max_iter=5000)\n",
    "svc_model1.fit(oversampled_trainX,oversampled_trainY)\n",
    "svc_predict1=svc_model1.predict(x_test_tfidf)\n",
    "svc1_f1=f1_score(y_test,svc_predict1,average=\"weighted\")\n",
    "svc1_f1"
   ]
  },
  {
   "cell_type": "code",
   "execution_count": 222,
   "metadata": {},
   "outputs": [
    {
     "data": {
      "text/plain": [
       "<Figure size 504x360 with 0 Axes>"
      ]
     },
     "execution_count": 222,
     "metadata": {},
     "output_type": "execute_result"
    },
    {
     "data": {
      "text/plain": [
       "<matplotlib.axes._subplots.AxesSubplot at 0x1e25b8fc190>"
      ]
     },
     "execution_count": 222,
     "metadata": {},
     "output_type": "execute_result"
    },
    {
     "data": {
      "image/png": "[encoded data removed]",
      "text/plain": [
       "<Figure size 504x360 with 2 Axes>"
      ]
     },
     "metadata": {
      "needs_background": "light"
     },
     "output_type": "display_data"
    }
   ],
   "source": [
    "#Confusion matrix:-\n",
    "cm_svc1=confusion_matrix(y_test,svc_predict1)\n",
    "cm_svc1=pd.crosstab(y_test,svc_predict1)\n",
    "plt.figure(figsize=(7,5))\n",
    "sns.heatmap(cm_svc1, annot=True,cmap='ocean_r')"
   ]
  },
  {
   "cell_type": "markdown",
   "metadata": {},
   "source": [
    "### Decision Tree"
   ]
  },
  {
   "cell_type": "code",
   "execution_count": 206,
   "metadata": {},
   "outputs": [
    {
     "data": {
      "text/plain": [
       "RandomizedSearchCV(estimator=DecisionTreeClassifier(),\n",
       "                   param_distributions={'max_depth': [5, 8, 11, 14, 17, 20, 23,\n",
       "                                                      26, 29, 32, 35, 38, 41,\n",
       "                                                      44, 47, 50, 53, 56, 59,\n",
       "                                                      62, 65, 68, 71, 74, 77,\n",
       "                                                      80, 83, 86, 89, 92, ...],\n",
       "                                        'min_samples_split': [5, 8, 11, 14, 17,\n",
       "                                                              20, 23, 26, 29,\n",
       "                                                              32, 35, 38, 41,\n",
       "                                                              44, 47, 50, 53,\n",
       "                                                              56, 59, 62, 65,\n",
       "                                                              68, 71, 74, 77,\n",
       "                                                              80, 83, 86, 89,\n",
       "                                                              92, ...]})"
      ]
     },
     "execution_count": 206,
     "metadata": {},
     "output_type": "execute_result"
    }
   ],
   "source": [
    "from sklearn.tree import DecisionTreeClassifier\n",
    "dt_params={'max_depth':[i for i in range(5,2000,3)],\n",
    "         'min_samples_split':[i for i in range(5,2000,3)]}\n",
    "dt=DecisionTreeClassifier()\n",
    "rndm_dt=RandomizedSearchCV(dt,dt_params)\n",
    "rndm_dt.fit(oversampled_trainX,oversampled_trainY)\n",
    "dt_best_params=rndm_dt.best_params_"
   ]
  },
  {
   "cell_type": "code",
   "execution_count": 207,
   "metadata": {},
   "outputs": [
    {
     "data": {
      "text/plain": [
       "{'min_samples_split': 53, 'max_depth': 617}"
      ]
     },
     "execution_count": 207,
     "metadata": {},
     "output_type": "execute_result"
    }
   ],
   "source": [
    "dt_best_params"
   ]
  },
  {
   "cell_type": "code",
   "execution_count": 208,
   "metadata": {},
   "outputs": [
    {
     "data": {
      "text/plain": [
       "DecisionTreeClassifier(max_depth=617, min_samples_split=53)"
      ]
     },
     "execution_count": 208,
     "metadata": {},
     "output_type": "execute_result"
    },
    {
     "data": {
      "text/plain": [
       "0.8358334574916938"
      ]
     },
     "execution_count": 208,
     "metadata": {},
     "output_type": "execute_result"
    }
   ],
   "source": [
    "dt1=DecisionTreeClassifier(**dt_best_params)\n",
    "dt1.fit(oversampled_trainX,oversampled_trainY)\n",
    "dt_predict1=dt1.predict(x_test_tfidf)\n",
    "dt1_f1=f1_score(y_test,dt_predict1,average=\"weighted\")\n",
    "dt1_f1"
   ]
  },
  {
   "cell_type": "code",
   "execution_count": 215,
   "metadata": {},
   "outputs": [
    {
     "data": {
      "text/plain": [
       "<Figure size 360x288 with 0 Axes>"
      ]
     },
     "execution_count": 215,
     "metadata": {},
     "output_type": "execute_result"
    },
    {
     "data": {
      "text/plain": [
       "<matplotlib.axes._subplots.AxesSubplot at 0x1e24614c100>"
      ]
     },
     "execution_count": 215,
     "metadata": {},
     "output_type": "execute_result"
    },
    {
     "data": {
      "image/png": "[encoded data removed]",
      "text/plain": [
       "<Figure size 360x288 with 2 Axes>"
      ]
     },
     "metadata": {
      "needs_background": "light"
     },
     "output_type": "display_data"
    }
   ],
   "source": [
    "#Confusion matrix:-\n",
    "cm_dt1=confusion_matrix(y_test,dt_predict1)\n",
    "cm_dt1=pd.crosstab(y_test,dt_predict1)\n",
    "plt.figure(figsize=(5,4))\n",
    "sns.heatmap(cm_dt1, annot=True,cmap='jet')"
   ]
  },
  {
   "cell_type": "markdown",
   "metadata": {},
   "source": [
    "### Naive Bayes"
   ]
  },
  {
   "cell_type": "code",
   "execution_count": 226,
   "metadata": {},
   "outputs": [
    {
     "data": {
      "text/plain": [
       "RandomizedSearchCV(estimator=MultinomialNB(),\n",
       "                   param_distributions={'alpha': [1e-05, 0.0001, 0.001, 0.01,\n",
       "                                                  0.1, 1, 10, 100, 1000,\n",
       "                                                  10000]})"
      ]
     },
     "execution_count": 226,
     "metadata": {},
     "output_type": "execute_result"
    },
    {
     "data": {
      "text/plain": [
       "MultinomialNB(alpha=1e-05)"
      ]
     },
     "execution_count": 226,
     "metadata": {},
     "output_type": "execute_result"
    },
    {
     "data": {
      "text/plain": [
       "0.8913551437366389"
      ]
     },
     "execution_count": 226,
     "metadata": {},
     "output_type": "execute_result"
    }
   ],
   "source": [
    "nb_params={\"alpha\":[10**i for i in range(-5,5)]}\n",
    "nb=MultinomialNB()\n",
    "rndm_nb=RandomizedSearchCV(nb,nb_params)\n",
    "#rndm_clf.fit(oversampled_trainX,oversampled_trainY)\n",
    "rndm_nb.fit(oversampled_trainX,oversampled_trainY)\n",
    "nb_best_params=rndm_nb.best_params_\n",
    "#fitting to Naive bayes algorithm after tuning\n",
    "nb1=MultinomialNB(**nb_best_params)\n",
    "nb1.fit(oversampled_trainX,oversampled_trainY)\n",
    "nb_predict1=nb1.predict(x_test_tfidf)\n",
    "nb1_f1=f1_score(y_test,nb_predict1,average=\"weighted\")\n",
    "nb1_f1"
   ]
  },
  {
   "cell_type": "code",
   "execution_count": 227,
   "metadata": {},
   "outputs": [
    {
     "data": {
      "text/plain": [
       "<Figure size 360x288 with 0 Axes>"
      ]
     },
     "execution_count": 227,
     "metadata": {},
     "output_type": "execute_result"
    },
    {
     "data": {
      "text/plain": [
       "<matplotlib.axes._subplots.AxesSubplot at 0x1e25b8d20d0>"
      ]
     },
     "execution_count": 227,
     "metadata": {},
     "output_type": "execute_result"
    },
    {
     "data": {
      "image/png": "[encoded data removed]",
      "text/plain": [
       "<Figure size 360x288 with 2 Axes>"
      ]
     },
     "metadata": {
      "needs_background": "light"
     },
     "output_type": "display_data"
    }
   ],
   "source": [
    "#Confusion matrix:-\n",
    "cm_nb1=confusion_matrix(y_test,dt_predict1)\n",
    "cm_nb1=pd.crosstab(y_test,nb_predict1)\n",
    "plt.figure(figsize=(5,4))\n",
    "sns.heatmap(cm_nb1, annot=True,cmap='ocean')"
   ]
  },
  {
   "cell_type": "markdown",
   "metadata": {},
   "source": [
    "### Random Forest"
   ]
  },
  {
   "cell_type": "code",
   "execution_count": 228,
   "metadata": {},
   "outputs": [
    {
     "data": {
      "text/plain": [
       "RandomizedSearchCV(estimator=RandomForestClassifier(),\n",
       "                   param_distributions={'max_depth': [2, 3, 4, 5, 6, 7, 8, 9,\n",
       "                                                      10],\n",
       "                                        'n_estimators': [1, 6, 11, 16, 21, 26,\n",
       "                                                         31, 36, 41, 46, 51, 56,\n",
       "                                                         61, 66, 71, 76, 81, 86,\n",
       "                                                         91, 96, 101, 106, 111,\n",
       "                                                         116, 121, 126, 131,\n",
       "                                                         136, 141, 146, ...]})"
      ]
     },
     "execution_count": 228,
     "metadata": {},
     "output_type": "execute_result"
    }
   ],
   "source": [
    "from sklearn.ensemble import RandomForestClassifier\n",
    "param_rf={'max_depth':[2,3,4,5,6,7,8,9,10],'n_estimators':[i for i in range(1,1000,5)]}\n",
    "rf=RandomForestClassifier()\n",
    "rndm_rf=RandomizedSearchCV(rf,param_rf)\n",
    "rndm_rf.fit(oversampled_trainX,oversampled_trainY)\n",
    "rf_best_params=rndm_rf.best_params_"
   ]
  },
  {
   "cell_type": "code",
   "execution_count": 229,
   "metadata": {},
   "outputs": [
    {
     "data": {
      "text/plain": [
       "{'n_estimators': 136, 'max_depth': 10}"
      ]
     },
     "execution_count": 229,
     "metadata": {},
     "output_type": "execute_result"
    }
   ],
   "source": [
    "rf_best_params"
   ]
  },
  {
   "cell_type": "code",
   "execution_count": 230,
   "metadata": {},
   "outputs": [
    {
     "data": {
      "text/plain": [
       "RandomForestClassifier(class_weight='balanced', max_depth=10, n_estimators=136)"
      ]
     },
     "execution_count": 230,
     "metadata": {},
     "output_type": "execute_result"
    }
   ],
   "source": [
    "rf1=RandomForestClassifier(**rf_best_params,class_weight='balanced')\n",
    "rf1.fit(oversampled_trainX,oversampled_trainY)\n",
    "rf_predict1=rf1.predict(x_test_tfidf)"
   ]
  },
  {
   "cell_type": "code",
   "execution_count": 232,
   "metadata": {},
   "outputs": [
    {
     "data": {
      "text/plain": [
       "0.8730403533682797"
      ]
     },
     "execution_count": 232,
     "metadata": {},
     "output_type": "execute_result"
    }
   ],
   "source": [
    "rf1_f1=f1_score(y_test,rf_predict1,average=\"weighted\")\n",
    "rf1_f1"
   ]
  },
  {
   "cell_type": "code",
   "execution_count": 238,
   "metadata": {},
   "outputs": [
    {
     "data": {
      "text/plain": [
       "<Figure size 360x288 with 0 Axes>"
      ]
     },
     "execution_count": 238,
     "metadata": {},
     "output_type": "execute_result"
    },
    {
     "data": {
      "text/plain": [
       "<matplotlib.axes._subplots.AxesSubplot at 0x1e24918b2b0>"
      ]
     },
     "execution_count": 238,
     "metadata": {},
     "output_type": "execute_result"
    },
    {
     "data": {
      "image/png": "[encoded data removed]",
      "text/plain": [
       "<Figure size 360x288 with 2 Axes>"
      ]
     },
     "metadata": {
      "needs_background": "light"
     },
     "output_type": "display_data"
    }
   ],
   "source": [
    "#Confusion matrix:-\n",
    "cm_rf1=confusion_matrix(y_test,rf_predict1)\n",
    "cm_rf1=pd.crosstab(y_test,rf_predict1)\n",
    "plt.figure(figsize=(5,4))\n",
    "sns.heatmap(cm_rf1, annot=True,cmap='terrain_r')"
   ]
  },
  {
   "cell_type": "markdown",
   "metadata": {},
   "source": [
    "### Model Evaluation"
   ]
  },
  {
   "cell_type": "code",
   "execution_count": 240,
   "metadata": {},
   "outputs": [
    {
     "data": {
      "text/plain": [
       "[0.8978230097340046,\n",
       " 0.8358334574916938,\n",
       " 0.8958165243235621,\n",
       " 0.8913551437366389,\n",
       " 0.8730403533682797]"
      ]
     },
     "execution_count": 240,
     "metadata": {},
     "output_type": "execute_result"
    }
   ],
   "source": [
    "models=[\"Logistic Regression\",\"DecisionTrees\",\"SVC\",\"NaiveBayes\",\"Random Forest\"]\n",
    "f1_scores=[lr2_f1,dt1_f1,svc1_f1,nb1_f1,rf1_f1]\n",
    "f1_scores"
   ]
  },
  {
   "cell_type": "code",
   "execution_count": 241,
   "metadata": {},
   "outputs": [],
   "source": [
    "scores=pd.DataFrame(columns=['Model','Score'])"
   ]
  },
  {
   "cell_type": "code",
   "execution_count": 242,
   "metadata": {},
   "outputs": [
    {
     "data": {
      "text/html": [
       "<div>\n",
       "<style scoped>\n",
       "    .dataframe tbody tr th:only-of-type {\n",
       "        vertical-align: middle;\n",
       "    }\n",
       "\n",
       "    .dataframe tbody tr th {\n",
       "        vertical-align: top;\n",
       "    }\n",
       "\n",
       "    .dataframe thead th {\n",
       "        text-align: right;\n",
       "    }\n",
       "</style>\n",
       "<table border=\"1\" class=\"dataframe\">\n",
       "  <thead>\n",
       "    <tr style=\"text-align: right;\">\n",
       "      <th></th>\n",
       "      <th>Model</th>\n",
       "      <th>Score</th>\n",
       "    </tr>\n",
       "  </thead>\n",
       "  <tbody>\n",
       "  </tbody>\n",
       "</table>\n",
       "</div>"
      ],
      "text/plain": [
       "Empty DataFrame\n",
       "Columns: [Model, Score]\n",
       "Index: []"
      ]
     },
     "execution_count": 242,
     "metadata": {},
     "output_type": "execute_result"
    }
   ],
   "source": [
    "scores"
   ]
  },
  {
   "cell_type": "code",
   "execution_count": 245,
   "metadata": {},
   "outputs": [],
   "source": [
    "scores['Model']=models\n",
    "scores['Score']=f1_scores"
   ]
  },
  {
   "cell_type": "code",
   "execution_count": 246,
   "metadata": {},
   "outputs": [
    {
     "data": {
      "text/html": [
       "<div>\n",
       "<style scoped>\n",
       "    .dataframe tbody tr th:only-of-type {\n",
       "        vertical-align: middle;\n",
       "    }\n",
       "\n",
       "    .dataframe tbody tr th {\n",
       "        vertical-align: top;\n",
       "    }\n",
       "\n",
       "    .dataframe thead th {\n",
       "        text-align: right;\n",
       "    }\n",
       "</style>\n",
       "<table border=\"1\" class=\"dataframe\">\n",
       "  <thead>\n",
       "    <tr style=\"text-align: right;\">\n",
       "      <th></th>\n",
       "      <th>Model</th>\n",
       "      <th>Score</th>\n",
       "    </tr>\n",
       "  </thead>\n",
       "  <tbody>\n",
       "    <tr>\n",
       "      <th>0</th>\n",
       "      <td>Logistic Regression</td>\n",
       "      <td>0.897823</td>\n",
       "    </tr>\n",
       "    <tr>\n",
       "      <th>1</th>\n",
       "      <td>DecisionTrees</td>\n",
       "      <td>0.835833</td>\n",
       "    </tr>\n",
       "    <tr>\n",
       "      <th>2</th>\n",
       "      <td>SVC</td>\n",
       "      <td>0.895817</td>\n",
       "    </tr>\n",
       "    <tr>\n",
       "      <th>3</th>\n",
       "      <td>NaiveBayes</td>\n",
       "      <td>0.891355</td>\n",
       "    </tr>\n",
       "    <tr>\n",
       "      <th>4</th>\n",
       "      <td>Random Forest</td>\n",
       "      <td>0.873040</td>\n",
       "    </tr>\n",
       "  </tbody>\n",
       "</table>\n",
       "</div>"
      ],
      "text/plain": [
       "                 Model     Score\n",
       "0  Logistic Regression  0.897823\n",
       "1        DecisionTrees  0.835833\n",
       "2                  SVC  0.895817\n",
       "3           NaiveBayes  0.891355\n",
       "4        Random Forest  0.873040"
      ]
     },
     "execution_count": 246,
     "metadata": {},
     "output_type": "execute_result"
    }
   ],
   "source": [
    "scores"
   ]
  },
  {
   "cell_type": "code",
   "execution_count": 247,
   "metadata": {},
   "outputs": [
    {
     "data": {
      "text/plain": [
       "<Figure size 432x360 with 0 Axes>"
      ]
     },
     "execution_count": 247,
     "metadata": {},
     "output_type": "execute_result"
    },
    {
     "data": {
      "text/plain": [
       "<BarContainer object of 5 artists>"
      ]
     },
     "execution_count": 247,
     "metadata": {},
     "output_type": "execute_result"
    },
    {
     "data": {
      "text/plain": [
       "Text(0.5, 1.0, 'F1 Scores of all models')"
      ]
     },
     "execution_count": 247,
     "metadata": {},
     "output_type": "execute_result"
    },
    {
     "data": {
      "text/plain": [
       "Text(0.9, 0, '0.9')"
      ]
     },
     "execution_count": 247,
     "metadata": {},
     "output_type": "execute_result"
    },
    {
     "data": {
      "text/plain": [
       "Text(0.9, 1, '0.84')"
      ]
     },
     "execution_count": 247,
     "metadata": {},
     "output_type": "execute_result"
    },
    {
     "data": {
      "text/plain": [
       "Text(0.9, 2, '0.9')"
      ]
     },
     "execution_count": 247,
     "metadata": {},
     "output_type": "execute_result"
    },
    {
     "data": {
      "text/plain": [
       "Text(0.9, 3, '0.89')"
      ]
     },
     "execution_count": 247,
     "metadata": {},
     "output_type": "execute_result"
    },
    {
     "data": {
      "text/plain": [
       "Text(0.9, 4, '0.87')"
      ]
     },
     "execution_count": 247,
     "metadata": {},
     "output_type": "execute_result"
    },
    {
     "data": {
      "text/plain": [
       "Text(0.5, 0, 'F1_SCores')"
      ]
     },
     "execution_count": 247,
     "metadata": {},
     "output_type": "execute_result"
    },
    {
     "data": {
      "text/plain": [
       "Text(0, 0.5, 'Models')"
      ]
     },
     "execution_count": 247,
     "metadata": {},
     "output_type": "execute_result"
    },
    {
     "data": {
      "image/png": "[encoded data removed]",
      "text/plain": [
       "<Figure size 432x360 with 1 Axes>"
      ]
     },
     "metadata": {
      "needs_background": "light"
     },
     "output_type": "display_data"
    }
   ],
   "source": [
    "plt.figure(figsize=(6,5))\n",
    "plt.barh(models,f1_scores,color=['c','r','m','y','b'])\n",
    "plt.title(\"F1 Scores of all models\",size=20)\n",
    "for index, value in enumerate(f1_scores):\n",
    "    plt.text(0.9,index,str(round(value,2)))\n",
    "plt.xlabel('F1_SCores',size=15)\n",
    "plt.ylabel(\"Models\",size=15)\n",
    "#plt.savefig(\"f1_scores.png\")\n",
    "plt.show()"
   ]
  },
  {
   "cell_type": "code",
   "execution_count": 248,
   "metadata": {},
   "outputs": [
    {
     "data": {
      "text/html": [
       "<div>\n",
       "<style scoped>\n",
       "    .dataframe tbody tr th:only-of-type {\n",
       "        vertical-align: middle;\n",
       "    }\n",
       "\n",
       "    .dataframe tbody tr th {\n",
       "        vertical-align: top;\n",
       "    }\n",
       "\n",
       "    .dataframe thead th {\n",
       "        text-align: right;\n",
       "    }\n",
       "</style>\n",
       "<table border=\"1\" class=\"dataframe\">\n",
       "  <thead>\n",
       "    <tr style=\"text-align: right;\">\n",
       "      <th>col_0</th>\n",
       "      <th>0</th>\n",
       "      <th>1</th>\n",
       "    </tr>\n",
       "    <tr>\n",
       "      <th>airline_sentiment</th>\n",
       "      <th></th>\n",
       "      <th></th>\n",
       "    </tr>\n",
       "  </thead>\n",
       "  <tbody>\n",
       "    <tr>\n",
       "      <th>0</th>\n",
       "      <td>2147</td>\n",
       "      <td>172</td>\n",
       "    </tr>\n",
       "    <tr>\n",
       "      <th>1</th>\n",
       "      <td>118</td>\n",
       "      <td>449</td>\n",
       "    </tr>\n",
       "  </tbody>\n",
       "</table>\n",
       "</div>"
      ],
      "text/plain": [
       "col_0                 0    1\n",
       "airline_sentiment           \n",
       "0                  2147  172\n",
       "1                   118  449"
      ]
     },
     "execution_count": 248,
     "metadata": {},
     "output_type": "execute_result"
    }
   ],
   "source": [
    "cm_lr2"
   ]
  },
  {
   "cell_type": "code",
   "execution_count": 249,
   "metadata": {},
   "outputs": [
    {
     "data": {
      "text/html": [
       "<div>\n",
       "<style scoped>\n",
       "    .dataframe tbody tr th:only-of-type {\n",
       "        vertical-align: middle;\n",
       "    }\n",
       "\n",
       "    .dataframe tbody tr th {\n",
       "        vertical-align: top;\n",
       "    }\n",
       "\n",
       "    .dataframe thead th {\n",
       "        text-align: right;\n",
       "    }\n",
       "</style>\n",
       "<table border=\"1\" class=\"dataframe\">\n",
       "  <thead>\n",
       "    <tr style=\"text-align: right;\">\n",
       "      <th>col_0</th>\n",
       "      <th>0</th>\n",
       "      <th>1</th>\n",
       "    </tr>\n",
       "    <tr>\n",
       "      <th>airline_sentiment</th>\n",
       "      <th></th>\n",
       "      <th></th>\n",
       "    </tr>\n",
       "  </thead>\n",
       "  <tbody>\n",
       "    <tr>\n",
       "      <th>0</th>\n",
       "      <td>2200</td>\n",
       "      <td>119</td>\n",
       "    </tr>\n",
       "    <tr>\n",
       "      <th>1</th>\n",
       "      <td>187</td>\n",
       "      <td>380</td>\n",
       "    </tr>\n",
       "  </tbody>\n",
       "</table>\n",
       "</div>"
      ],
      "text/plain": [
       "col_0                 0    1\n",
       "airline_sentiment           \n",
       "0                  2200  119\n",
       "1                   187  380"
      ]
     },
     "execution_count": 249,
     "metadata": {},
     "output_type": "execute_result"
    }
   ],
   "source": [
    "cm_nb1"
   ]
  },
  {
   "cell_type": "code",
   "execution_count": 250,
   "metadata": {},
   "outputs": [
    {
     "data": {
      "text/plain": [
       "290"
      ]
     },
     "execution_count": 250,
     "metadata": {},
     "output_type": "execute_result"
    },
    {
     "data": {
      "text/plain": [
       "306"
      ]
     },
     "execution_count": 250,
     "metadata": {},
     "output_type": "execute_result"
    }
   ],
   "source": [
    "118+172\n",
    "187+119"
   ]
  },
  {
   "cell_type": "markdown",
   "metadata": {},
   "source": [
    "- Considering the f1 scores and confusion matrix(accuracy) we can say that logistic regression is little superior to all the models by performing well and having higher accuracy levels than the other algorithms\n",
    "- So Logistic Regression is best model for this airline dataset"
   ]
  },
  {
   "cell_type": "code",
   "execution_count": 253,
   "metadata": {},
   "outputs": [],
   "source": [
    "# lets save the model\n",
    "import pickle\n",
    "pickle.dump(lr2,open(\"logistic_model.pkl\",\"wb\"))\n",
    "pickle.dump(tfidf_model,open(\"tfidf_model.pkl\",\"wb\"))"
   ]
  },
  {
   "cell_type": "code",
   "execution_count": null,
   "metadata": {},
   "outputs": [],
   "source": []
  }
 ],
 "metadata": {
  "kernelspec": {
   "display_name": "Python 3",
   "language": "python",
   "name": "python3"
  },
  "language_info": {
   "codemirror_mode": {
    "name": "ipython",
    "version": 3
   },
   "file_extension": ".py",
   "mimetype": "text/x-python",
   "name": "python",
   "nbconvert_exporter": "python",
   "pygments_lexer": "ipython3",
   "version": "3.8.3"
  }
 },
 "nbformat": 4,
 "nbformat_minor": 4
}
